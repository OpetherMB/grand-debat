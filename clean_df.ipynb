{
  "nbformat": 4,
  "nbformat_minor": 0,
  "metadata": {
    "accelerator": "GPU",
    "colab": {
      "name": "clean df.ipynb",
      "provenance": [],
      "collapsed_sections": [],
      "include_colab_link": true
    },
    "kernelspec": {
      "display_name": "Python 3",
      "language": "python",
      "name": "python3"
    },
    "language_info": {
      "codemirror_mode": {
        "name": "ipython",
        "version": 3
      },
      "file_extension": ".py",
      "mimetype": "text/x-python",
      "name": "python",
      "nbconvert_exporter": "python",
      "pygments_lexer": "ipython3",
      "version": "3.7.2"
    }
  },
  "cells": [
    {
      "cell_type": "markdown",
      "metadata": {
        "id": "view-in-github",
        "colab_type": "text"
      },
      "source": [
        "<a href=\"https://colab.research.google.com/github/OpetherMB/grand-debat/blob/main/clean_df.ipynb\" target=\"_parent\"><img src=\"https://colab.research.google.com/assets/colab-badge.svg\" alt=\"Open In Colab\"/></a>"
      ]
    },
    {
      "cell_type": "markdown",
      "metadata": {
        "id": "j0xoznKAtnQc"
      },
      "source": [
        "### ce notebook ne servent que pour faire des traitement sur les dataframes qui va nous servir aprés pour le topic modelling ( voir topic modelling.ipynb)"
      ]
    },
    {
      "cell_type": "markdown",
      "metadata": {
        "id": "jY-FCV7CAVpZ"
      },
      "source": [
        "## Import libraries"
      ]
    },
    {
      "cell_type": "code",
      "metadata": {
        "colab": {
          "base_uri": "https://localhost:8080/"
        },
        "id": "3eYRIqeIW-p_",
        "outputId": "2fc549ba-5086-4e5b-85b9-4127d6895952"
      },
      "source": [
        "import pandas as pd\n",
        "import numpy as np\n",
        "import nltk\n",
        "from pprint import pprint\n",
        "!python -m spacy download fr_core_news_md\n",
        "\n",
        "import fr_core_news_md\n",
        "\n",
        "\n",
        "nltk.download('stopwords')\n",
        "nltk.download('punkt')\n",
        "from nltk.corpus import stopwords\n",
        "from nltk.tokenize import  word_tokenize\n",
        "\n",
        "# spacy for lemmatization\n",
        "import spacy\n",
        "!python -m spacy download fr\n",
        "\n",
        "\n",
        "import matplotlib.pyplot as plt\n",
        "%matplotlib inline\n",
        "\n",
        "from sklearn.decomposition import LatentDirichletAllocation\n",
        "from sklearn.feature_extraction.text import CountVectorizer\n",
        "\n",
        "# Enable logging for gensim - optional\n",
        "import logging\n",
        "logging.basicConfig(format='%(asctime)s : %(levelname)s : %(message)s', level=logging.ERROR)\n",
        "\n",
        "import warnings\n",
        "warnings.filterwarnings(\"ignore\",category=DeprecationWarning)\n",
        "\n",
        "!python -m spacy download fr_core_news_md\n",
        "!python -m spacy download fr_core_news_sm\n",
        "import fr_core_news_md\n",
        "nlp_fr = fr_core_news_md.load()\n",
        "\n",
        "\n",
        "import re\n",
        "import os\n",
        "pd.set_option('max_colwidth', 400)"
      ],
      "execution_count": null,
      "outputs": [
        {
          "output_type": "stream",
          "text": [
            "Collecting fr_core_news_md==2.2.5\n",
            "\u001b[?25l  Downloading https://github.com/explosion/spacy-models/releases/download/fr_core_news_md-2.2.5/fr_core_news_md-2.2.5.tar.gz (88.6MB)\n",
            "\u001b[K     |████████████████████████████████| 88.6MB 1.2MB/s \n",
            "\u001b[?25hRequirement already satisfied: spacy>=2.2.2 in /usr/local/lib/python3.6/dist-packages (from fr_core_news_md==2.2.5) (2.2.4)\n",
            "Requirement already satisfied: cymem<2.1.0,>=2.0.2 in /usr/local/lib/python3.6/dist-packages (from spacy>=2.2.2->fr_core_news_md==2.2.5) (2.0.5)\n",
            "Requirement already satisfied: setuptools in /usr/local/lib/python3.6/dist-packages (from spacy>=2.2.2->fr_core_news_md==2.2.5) (51.0.0)\n",
            "Requirement already satisfied: numpy>=1.15.0 in /usr/local/lib/python3.6/dist-packages (from spacy>=2.2.2->fr_core_news_md==2.2.5) (1.19.4)\n",
            "Requirement already satisfied: thinc==7.4.0 in /usr/local/lib/python3.6/dist-packages (from spacy>=2.2.2->fr_core_news_md==2.2.5) (7.4.0)\n",
            "Requirement already satisfied: tqdm<5.0.0,>=4.38.0 in /usr/local/lib/python3.6/dist-packages (from spacy>=2.2.2->fr_core_news_md==2.2.5) (4.41.1)\n",
            "Requirement already satisfied: wasabi<1.1.0,>=0.4.0 in /usr/local/lib/python3.6/dist-packages (from spacy>=2.2.2->fr_core_news_md==2.2.5) (0.8.0)\n",
            "Requirement already satisfied: murmurhash<1.1.0,>=0.28.0 in /usr/local/lib/python3.6/dist-packages (from spacy>=2.2.2->fr_core_news_md==2.2.5) (1.0.5)\n",
            "Requirement already satisfied: plac<1.2.0,>=0.9.6 in /usr/local/lib/python3.6/dist-packages (from spacy>=2.2.2->fr_core_news_md==2.2.5) (1.1.3)\n",
            "Requirement already satisfied: preshed<3.1.0,>=3.0.2 in /usr/local/lib/python3.6/dist-packages (from spacy>=2.2.2->fr_core_news_md==2.2.5) (3.0.5)\n",
            "Requirement already satisfied: requests<3.0.0,>=2.13.0 in /usr/local/lib/python3.6/dist-packages (from spacy>=2.2.2->fr_core_news_md==2.2.5) (2.23.0)\n",
            "Requirement already satisfied: srsly<1.1.0,>=1.0.2 in /usr/local/lib/python3.6/dist-packages (from spacy>=2.2.2->fr_core_news_md==2.2.5) (1.0.5)\n",
            "Requirement already satisfied: catalogue<1.1.0,>=0.0.7 in /usr/local/lib/python3.6/dist-packages (from spacy>=2.2.2->fr_core_news_md==2.2.5) (1.0.0)\n",
            "Requirement already satisfied: blis<0.5.0,>=0.4.0 in /usr/local/lib/python3.6/dist-packages (from spacy>=2.2.2->fr_core_news_md==2.2.5) (0.4.1)\n",
            "Requirement already satisfied: chardet<4,>=3.0.2 in /usr/local/lib/python3.6/dist-packages (from requests<3.0.0,>=2.13.0->spacy>=2.2.2->fr_core_news_md==2.2.5) (3.0.4)\n",
            "Requirement already satisfied: urllib3!=1.25.0,!=1.25.1,<1.26,>=1.21.1 in /usr/local/lib/python3.6/dist-packages (from requests<3.0.0,>=2.13.0->spacy>=2.2.2->fr_core_news_md==2.2.5) (1.24.3)\n",
            "Requirement already satisfied: idna<3,>=2.5 in /usr/local/lib/python3.6/dist-packages (from requests<3.0.0,>=2.13.0->spacy>=2.2.2->fr_core_news_md==2.2.5) (2.10)\n",
            "Requirement already satisfied: certifi>=2017.4.17 in /usr/local/lib/python3.6/dist-packages (from requests<3.0.0,>=2.13.0->spacy>=2.2.2->fr_core_news_md==2.2.5) (2020.12.5)\n",
            "Requirement already satisfied: importlib-metadata>=0.20; python_version < \"3.8\" in /usr/local/lib/python3.6/dist-packages (from catalogue<1.1.0,>=0.0.7->spacy>=2.2.2->fr_core_news_md==2.2.5) (3.3.0)\n",
            "Requirement already satisfied: typing-extensions>=3.6.4; python_version < \"3.8\" in /usr/local/lib/python3.6/dist-packages (from importlib-metadata>=0.20; python_version < \"3.8\"->catalogue<1.1.0,>=0.0.7->spacy>=2.2.2->fr_core_news_md==2.2.5) (3.7.4.3)\n",
            "Requirement already satisfied: zipp>=0.5 in /usr/local/lib/python3.6/dist-packages (from importlib-metadata>=0.20; python_version < \"3.8\"->catalogue<1.1.0,>=0.0.7->spacy>=2.2.2->fr_core_news_md==2.2.5) (3.4.0)\n",
            "Building wheels for collected packages: fr-core-news-md\n",
            "  Building wheel for fr-core-news-md (setup.py) ... \u001b[?25l\u001b[?25hdone\n",
            "  Created wheel for fr-core-news-md: filename=fr_core_news_md-2.2.5-cp36-none-any.whl size=90338490 sha256=ecef8ef49ec6703997ee17af8599ec514566c2c94f865d90a145bdb91c7fd296\n",
            "  Stored in directory: /tmp/pip-ephem-wheel-cache-omwflvrh/wheels/c6/18/b6/f628642acc7872a53cf81269dd1c394d96da69564ccfac5425\n",
            "Successfully built fr-core-news-md\n",
            "Installing collected packages: fr-core-news-md\n",
            "Successfully installed fr-core-news-md-2.2.5\n",
            "\u001b[38;5;2m✔ Download and installation successful\u001b[0m\n",
            "You can now load the model via spacy.load('fr_core_news_md')\n",
            "[nltk_data] Downloading package stopwords to /root/nltk_data...\n",
            "[nltk_data]   Package stopwords is already up-to-date!\n",
            "[nltk_data] Downloading package punkt to /root/nltk_data...\n",
            "[nltk_data]   Package punkt is already up-to-date!\n",
            "Requirement already satisfied: fr_core_news_sm==2.2.5 from https://github.com/explosion/spacy-models/releases/download/fr_core_news_sm-2.2.5/fr_core_news_sm-2.2.5.tar.gz#egg=fr_core_news_sm==2.2.5 in /usr/local/lib/python3.6/dist-packages (2.2.5)\n",
            "Requirement already satisfied: spacy>=2.2.2 in /usr/local/lib/python3.6/dist-packages (from fr_core_news_sm==2.2.5) (2.2.4)\n",
            "Requirement already satisfied: preshed<3.1.0,>=3.0.2 in /usr/local/lib/python3.6/dist-packages (from spacy>=2.2.2->fr_core_news_sm==2.2.5) (3.0.5)\n",
            "Requirement already satisfied: murmurhash<1.1.0,>=0.28.0 in /usr/local/lib/python3.6/dist-packages (from spacy>=2.2.2->fr_core_news_sm==2.2.5) (1.0.5)\n",
            "Requirement already satisfied: cymem<2.1.0,>=2.0.2 in /usr/local/lib/python3.6/dist-packages (from spacy>=2.2.2->fr_core_news_sm==2.2.5) (2.0.5)\n",
            "Requirement already satisfied: blis<0.5.0,>=0.4.0 in /usr/local/lib/python3.6/dist-packages (from spacy>=2.2.2->fr_core_news_sm==2.2.5) (0.4.1)\n",
            "Requirement already satisfied: catalogue<1.1.0,>=0.0.7 in /usr/local/lib/python3.6/dist-packages (from spacy>=2.2.2->fr_core_news_sm==2.2.5) (1.0.0)\n",
            "Requirement already satisfied: tqdm<5.0.0,>=4.38.0 in /usr/local/lib/python3.6/dist-packages (from spacy>=2.2.2->fr_core_news_sm==2.2.5) (4.41.1)\n",
            "Requirement already satisfied: wasabi<1.1.0,>=0.4.0 in /usr/local/lib/python3.6/dist-packages (from spacy>=2.2.2->fr_core_news_sm==2.2.5) (0.8.0)\n",
            "Requirement already satisfied: setuptools in /usr/local/lib/python3.6/dist-packages (from spacy>=2.2.2->fr_core_news_sm==2.2.5) (51.0.0)\n",
            "Requirement already satisfied: plac<1.2.0,>=0.9.6 in /usr/local/lib/python3.6/dist-packages (from spacy>=2.2.2->fr_core_news_sm==2.2.5) (1.1.3)\n",
            "Requirement already satisfied: srsly<1.1.0,>=1.0.2 in /usr/local/lib/python3.6/dist-packages (from spacy>=2.2.2->fr_core_news_sm==2.2.5) (1.0.5)\n",
            "Requirement already satisfied: numpy>=1.15.0 in /usr/local/lib/python3.6/dist-packages (from spacy>=2.2.2->fr_core_news_sm==2.2.5) (1.19.4)\n",
            "Requirement already satisfied: thinc==7.4.0 in /usr/local/lib/python3.6/dist-packages (from spacy>=2.2.2->fr_core_news_sm==2.2.5) (7.4.0)\n",
            "Requirement already satisfied: requests<3.0.0,>=2.13.0 in /usr/local/lib/python3.6/dist-packages (from spacy>=2.2.2->fr_core_news_sm==2.2.5) (2.23.0)\n",
            "Requirement already satisfied: importlib-metadata>=0.20; python_version < \"3.8\" in /usr/local/lib/python3.6/dist-packages (from catalogue<1.1.0,>=0.0.7->spacy>=2.2.2->fr_core_news_sm==2.2.5) (3.3.0)\n",
            "Requirement already satisfied: idna<3,>=2.5 in /usr/local/lib/python3.6/dist-packages (from requests<3.0.0,>=2.13.0->spacy>=2.2.2->fr_core_news_sm==2.2.5) (2.10)\n",
            "Requirement already satisfied: certifi>=2017.4.17 in /usr/local/lib/python3.6/dist-packages (from requests<3.0.0,>=2.13.0->spacy>=2.2.2->fr_core_news_sm==2.2.5) (2020.12.5)\n",
            "Requirement already satisfied: urllib3!=1.25.0,!=1.25.1,<1.26,>=1.21.1 in /usr/local/lib/python3.6/dist-packages (from requests<3.0.0,>=2.13.0->spacy>=2.2.2->fr_core_news_sm==2.2.5) (1.24.3)\n",
            "Requirement already satisfied: chardet<4,>=3.0.2 in /usr/local/lib/python3.6/dist-packages (from requests<3.0.0,>=2.13.0->spacy>=2.2.2->fr_core_news_sm==2.2.5) (3.0.4)\n",
            "Requirement already satisfied: typing-extensions>=3.6.4; python_version < \"3.8\" in /usr/local/lib/python3.6/dist-packages (from importlib-metadata>=0.20; python_version < \"3.8\"->catalogue<1.1.0,>=0.0.7->spacy>=2.2.2->fr_core_news_sm==2.2.5) (3.7.4.3)\n",
            "Requirement already satisfied: zipp>=0.5 in /usr/local/lib/python3.6/dist-packages (from importlib-metadata>=0.20; python_version < \"3.8\"->catalogue<1.1.0,>=0.0.7->spacy>=2.2.2->fr_core_news_sm==2.2.5) (3.4.0)\n",
            "\u001b[38;5;2m✔ Download and installation successful\u001b[0m\n",
            "You can now load the model via spacy.load('fr_core_news_sm')\n",
            "\u001b[38;5;2m✔ Linking successful\u001b[0m\n",
            "/usr/local/lib/python3.6/dist-packages/fr_core_news_sm -->\n",
            "/usr/local/lib/python3.6/dist-packages/spacy/data/fr\n",
            "You can now load the model via spacy.load('fr')\n"
          ],
          "name": "stdout"
        }
      ]
    },
    {
      "cell_type": "markdown",
      "metadata": {
        "id": "U8orwFIMtl2y"
      },
      "source": [
        ""
      ]
    },
    {
      "cell_type": "code",
      "metadata": {
        "colab": {
          "base_uri": "https://localhost:8080/"
        },
        "id": "EvQ0vXVkILAj",
        "outputId": "43f8c112-fe0c-4aec-f167-3bf34e7967ac"
      },
      "source": [
        "from google.colab import drive\n",
        "drive.mount('/content/drive')\n"
      ],
      "execution_count": null,
      "outputs": [
        {
          "output_type": "stream",
          "text": [
            "Mounted at /content/drive\n"
          ],
          "name": "stdout"
        }
      ]
    },
    {
      "cell_type": "markdown",
      "metadata": {
        "id": "qQmviihfFlO1"
      },
      "source": [
        "<a class=\"anchor\" id=\"2\"></a> "
      ]
    },
    {
      "cell_type": "markdown",
      "metadata": {
        "id": "LSp7sxMPAPa3"
      },
      "source": [
        "## 2. Prepare data"
      ]
    },
    {
      "cell_type": "code",
      "metadata": {
        "colab": {
          "base_uri": "https://localhost:8080/",
          "height": 1000
        },
        "id": "ko7-obcGW4VB",
        "outputId": "12a3e921-9922-4bc4-ed6d-7d0aa4e3c757"
      },
      "source": [
        "envr_df = pd.read_csv('/content/drive/MyDrive/Colab Notebooks/grand debat/LA_TRANSITION_ECOLOGIQUE.csv.xz', low_memory=False)\n",
        "envr_df.head()"
      ],
      "execution_count": null,
      "outputs": [
        {
          "output_type": "execute_result",
          "data": {
            "text/html": [
              "<div>\n",
              "<style scoped>\n",
              "    .dataframe tbody tr th:only-of-type {\n",
              "        vertical-align: middle;\n",
              "    }\n",
              "\n",
              "    .dataframe tbody tr th {\n",
              "        vertical-align: top;\n",
              "    }\n",
              "\n",
              "    .dataframe thead th {\n",
              "        text-align: right;\n",
              "    }\n",
              "</style>\n",
              "<table border=\"1\" class=\"dataframe\">\n",
              "  <thead>\n",
              "    <tr style=\"text-align: right;\">\n",
              "      <th></th>\n",
              "      <th>id</th>\n",
              "      <th>reference</th>\n",
              "      <th>title</th>\n",
              "      <th>createdAt</th>\n",
              "      <th>publishedAt</th>\n",
              "      <th>updatedAt</th>\n",
              "      <th>trashed</th>\n",
              "      <th>trashedStatus</th>\n",
              "      <th>authorId</th>\n",
              "      <th>authorType</th>\n",
              "      <th>authorZipCode</th>\n",
              "      <th>QUXVlc3Rpb246MTYw - Quel est aujourd'hui pour vous le problème concret le plus important dans le domaine de l'environnement ?</th>\n",
              "      <th>QUXVlc3Rpb246MTYx - Que faudrait-il faire selon vous pour apporter des réponses à ce problème ?</th>\n",
              "      <th>QUXVlc3Rpb246MTQ2 - Diriez-vous que votre vie quotidienne est aujourd'hui touchée par le changement climatique ?</th>\n",
              "      <th>QUXVlc3Rpb246MTQ3 - Si oui, de quelle manière votre vie quotidienne est-elle touchée par le changement climatique ?</th>\n",
              "      <th>QUXVlc3Rpb246MTQ4 - À titre personnel, pensez-vous pouvoir contribuer à protéger l'environnement ?</th>\n",
              "      <th>QUXVlc3Rpb246MTQ5 - Si oui, que faites-vous aujourd'hui pour protéger l'environnement et/ou que pourriez-vous faire ?</th>\n",
              "      <th>QUXVlc3Rpb246MTUw - Qu'est-ce qui pourrait vous inciter à changer vos comportements comme par exemple mieux entretenir et régler votre chauffage, modifier votre manière de conduire ou renoncer à prendre votre véhicule pour de très petites distances ?</th>\n",
              "      <th>QUXVlc3Rpb246MTUx - Quelles seraient pour vous les solutions les plus simples et les plus supportables sur un plan financier pour vous inciter à changer vos comportements ?</th>\n",
              "      <th>QUXVlc3Rpb246MTUy - Par rapport à votre mode de chauffage actuel, pensez-vous qu'il existe des solutions alternatives plus écologiques ?</th>\n",
              "      <th>QUXVlc3Rpb246MTUz - Si oui, que faudrait-il faire pour vous convaincre ou vous aider à changer de mode de chauffage ?</th>\n",
              "      <th>QUXVlc3Rpb246MTU0 - Avez-vous pour vos déplacements quotidiens la possibilité de recourir à des solutions de mobilité alternatives à la voiture individuelle comme les transports en commun, le covoiturage, l'auto-partage, le transport à la demande, le vélo, etc. ?</th>\n",
              "      <th>QUXVlc3Rpb246MTU1 - Si oui, que faudrait-il faire pour vous convaincre ou vous aider à utiliser ces solutions alternatives ?</th>\n",
              "      <th>QUXVlc3Rpb246MjA3 - Si non, quelles sont les solutions de mobilité alternatives que vous souhaiteriez pouvoir utiliser ?</th>\n",
              "      <th>QUXVlc3Rpb246MTU3 - Et qui doit selon vous se charger de vous proposer ce type de solutions alternatives ?</th>\n",
              "      <th>QUXVlc3Rpb246MTU4 - Que pourrait faire la France pour faire partager ses choix en matière d'environnement au niveau européen et international ?</th>\n",
              "      <th>QUXVlc3Rpb246MTU5 - Y a-t-il d'autres points sur la transition écologique sur lesquels vous souhaiteriez vous exprimer ?</th>\n",
              "    </tr>\n",
              "  </thead>\n",
              "  <tbody>\n",
              "    <tr>\n",
              "      <th>0</th>\n",
              "      <td>UHJvcG9zYWw6ZmZlN2MwNzktMWUyMC0xMWU5LTk0ZDItZmExNjNlZWIxMWUx</td>\n",
              "      <td>2-4</td>\n",
              "      <td>transition écologique</td>\n",
              "      <td>2019-01-22 09:37:49</td>\n",
              "      <td>2019-01-22 09:37:49</td>\n",
              "      <td>NaN</td>\n",
              "      <td>False</td>\n",
              "      <td>NaN</td>\n",
              "      <td>VXNlcjoxMTQwMTc0YS0xZTFmLTExZTktOTRkMi1mYTE2M2VlYjExZTE=</td>\n",
              "      <td>Citoyen / Citoyenne</td>\n",
              "      <td>97231</td>\n",
              "      <td>NaN</td>\n",
              "      <td>NaN</td>\n",
              "      <td>NaN</td>\n",
              "      <td>NaN</td>\n",
              "      <td>NaN</td>\n",
              "      <td>NaN</td>\n",
              "      <td>NaN</td>\n",
              "      <td>NaN</td>\n",
              "      <td>NaN</td>\n",
              "      <td>NaN</td>\n",
              "      <td>NaN</td>\n",
              "      <td>NaN</td>\n",
              "      <td>NaN</td>\n",
              "      <td>NaN</td>\n",
              "      <td>Enseignement du tri sélectif à l'école</td>\n",
              "      <td>Multiplier les centrales géothermiques</td>\n",
              "    </tr>\n",
              "    <tr>\n",
              "      <th>1</th>\n",
              "      <td>UHJvcG9zYWw6M2RmZmUxZjMtMWUyMS0xMWU5LTk0ZDItZmExNjNlZWIxMWUx</td>\n",
              "      <td>2-5</td>\n",
              "      <td>La surpopulation</td>\n",
              "      <td>2019-01-22 09:39:33</td>\n",
              "      <td>2019-01-22 09:39:33</td>\n",
              "      <td>NaN</td>\n",
              "      <td>False</td>\n",
              "      <td>NaN</td>\n",
              "      <td>VXNlcjpjOWYxZWQ1NS0xYzEwLTExZTktOTRkMi1mYTE2M2VlYjExZTE=</td>\n",
              "      <td>Citoyen / Citoyenne</td>\n",
              "      <td>57000</td>\n",
              "      <td>Les problèmes auxquels se trouve confronté l’ensemble de la planète et que dénoncent, dans le plus parfait désordre, les gilets jaunes de France ne sont-ils pas dus, avant tout, à la surpopulation mondiale ? Cette population est passée d’1,5 milliards d’habitants en 1900 à 7 milliards en 2020 et montera bientôt à 10 milliards vers 2040.  Avec les progrès de la communication dans ce village mon...</td>\n",
              "      <td>Les problèmes auxquels se trouve confronté l’ensemble de la planète et que dénoncent, dans le plus parfait désordre, les gilets jaunes de France ne sont-ils pas dus, avant tout, à la surpopulation mondiale ? Cette population est passée d’1,5 milliards d’habitants en 1900 à 7 milliards en 2020 et montera bientôt à 10 milliards vers 2040.  Avec les progrès de la communication dans ce village mon...</td>\n",
              "      <td>NaN</td>\n",
              "      <td>NaN</td>\n",
              "      <td>NaN</td>\n",
              "      <td>NaN</td>\n",
              "      <td>NaN</td>\n",
              "      <td>NaN</td>\n",
              "      <td>NaN</td>\n",
              "      <td>NaN</td>\n",
              "      <td>NaN</td>\n",
              "      <td>NaN</td>\n",
              "      <td>NaN</td>\n",
              "      <td>NaN</td>\n",
              "      <td>Mettre en oeuvre au niveau national ses engagements internationaux</td>\n",
              "      <td>Les problèmes auxquels se trouve confronté l’ensemble de la planète et que dénoncent, dans le plus parfait désordre, les gilets jaunes de France ne sont-ils pas dus, avant tout, à la surpopulation mondiale ? Cette population est passée d’1,5 milliards d’habitants en 1900 à 7 milliards en 2020 et montera bientôt à 10 milliards vers 2040.  Avec les progrès de la communication dans ce village mon...</td>\n",
              "    </tr>\n",
              "    <tr>\n",
              "      <th>2</th>\n",
              "      <td>UHJvcG9zYWw6NDg1YWUxYjItMWUyMS0xMWU5LTk0ZDItZmExNjNlZWIxMWUx</td>\n",
              "      <td>2-6</td>\n",
              "      <td>climat</td>\n",
              "      <td>2019-01-22 09:39:50</td>\n",
              "      <td>2019-01-22 09:39:50</td>\n",
              "      <td>NaN</td>\n",
              "      <td>False</td>\n",
              "      <td>NaN</td>\n",
              "      <td>VXNlcjozZjlhNzAwOS0xYTc2LTExZTktOTRkMi1mYTE2M2VlYjExZTE=</td>\n",
              "      <td>Citoyen / Citoyenne</td>\n",
              "      <td>34140</td>\n",
              "      <td>Les dérèglements climatiques (crue, sécheresse)</td>\n",
              "      <td>pour éviter les inondations obliger les riverains  et les communes à  nettoyer leur secteur</td>\n",
              "      <td>Non</td>\n",
              "      <td>NaN</td>\n",
              "      <td>Non</td>\n",
              "      <td>NaN</td>\n",
              "      <td>développer  les transports en commun ,</td>\n",
              "      <td>NaN</td>\n",
              "      <td>Non</td>\n",
              "      <td>NaN</td>\n",
              "      <td>Oui</td>\n",
              "      <td>NaN</td>\n",
              "      <td>Les transports en commun|L'auto partage|Le transport à la demande</td>\n",
              "      <td>NaN</td>\n",
              "      <td>NaN</td>\n",
              "      <td>NaN</td>\n",
              "    </tr>\n",
              "    <tr>\n",
              "      <th>3</th>\n",
              "      <td>UHJvcG9zYWw6NTk2Nzk5MmItMWUyMS0xMWU5LTk0ZDItZmExNjNlZWIxMWUx</td>\n",
              "      <td>2-7</td>\n",
              "      <td>POLLUTION AIR EAU</td>\n",
              "      <td>2019-01-22 09:40:19</td>\n",
              "      <td>2019-01-22 09:40:19</td>\n",
              "      <td>NaN</td>\n",
              "      <td>False</td>\n",
              "      <td>NaN</td>\n",
              "      <td>VXNlcjozOWQwNzJjNC0xZDEwLTExZTktOTRkMi1mYTE2M2VlYjExZTE=</td>\n",
              "      <td>Citoyen / Citoyenne</td>\n",
              "      <td>17400</td>\n",
              "      <td>La pollution de l'air</td>\n",
              "      <td>Il faut taxer les gros pollueurs : Entreprises, bateaux marchands, avions, routiers, etc ...</td>\n",
              "      <td>Non</td>\n",
              "      <td>NaN</td>\n",
              "      <td>Non</td>\n",
              "      <td>NaN</td>\n",
              "      <td>NaN</td>\n",
              "      <td>Plus de transports publics dans les petites communes pour rejoindre les grandes agglomérations proches.</td>\n",
              "      <td>Non</td>\n",
              "      <td>NaN</td>\n",
              "      <td>Non</td>\n",
              "      <td>Le co-voiturage ne correspond pas toujours aux demandes. Les lieux de desserte sont loin des centre-villes.</td>\n",
              "      <td>Les transports en commun</td>\n",
              "      <td>L'Etat</td>\n",
              "      <td>Elle n'a aucun pouvoir. Impossible de contraindre l'afrique, l'asie, etc à adopter des mesures anti-pollution.</td>\n",
              "      <td>NaN</td>\n",
              "    </tr>\n",
              "    <tr>\n",
              "      <th>4</th>\n",
              "      <td>UHJvcG9zYWw6ODU5NWMyOTYtMWUyMS0xMWU5LTk0ZDItZmExNjNlZWIxMWUx</td>\n",
              "      <td>2-8</td>\n",
              "      <td>Economie vs Ecologie</td>\n",
              "      <td>2019-01-22 09:41:33</td>\n",
              "      <td>2019-01-22 09:41:33</td>\n",
              "      <td>NaN</td>\n",
              "      <td>False</td>\n",
              "      <td>NaN</td>\n",
              "      <td>VXNlcjo3M2YxN2NlZS0xZDRiLTExZTktOTRkMi1mYTE2M2VlYjExZTE=</td>\n",
              "      <td>Citoyen / Citoyenne</td>\n",
              "      <td>35430</td>\n",
              "      <td>La biodiversité et la disparition de certaines espèces</td>\n",
              "      <td>Changer notre mode de vie, impulser une nouvelle économie agricole</td>\n",
              "      <td>Oui</td>\n",
              "      <td>Pollution de l'air, pollution de nos aliments, maladie chronique dans mon entourage, maladie digestive</td>\n",
              "      <td>Oui</td>\n",
              "      <td>En consommant autrement, en vivant autrement.</td>\n",
              "      <td>Aménagement de piste cyclable, développement du covoiturage, des \"vrais\"bus propres, une aide pour un mode de chauffage écologique. Et surtout le télétravail !</td>\n",
              "      <td>Détaxer le mode de chauffage écologique, une aide sur le long terme par forcement sur l'installation</td>\n",
              "      <td>Oui</td>\n",
              "      <td>une aide significative pour de l'éolien ou du solaire. Mais pas une aide au entreprises qui installent ;-)</td>\n",
              "      <td>Non</td>\n",
              "      <td>Une piste cyclable pour éviter de risquer ma vie en allant travailler</td>\n",
              "      <td>Les transports en commun|Le covoiturage|Le vélo</td>\n",
              "      <td>La commune, le département, la région</td>\n",
              "      <td>Demander à Nicolas Hulot</td>\n",
              "      <td>Une vrai politique écologique et non économique</td>\n",
              "    </tr>\n",
              "  </tbody>\n",
              "</table>\n",
              "</div>"
            ],
            "text/plain": [
              "                                                             id  ...                                                                                                                                                                                                                                                                                         QUXVlc3Rpb246MTU5 - Y a-t-il d'autres points sur la transition écologique sur lesquels vous souhaiteriez vous exprimer ?\n",
              "0  UHJvcG9zYWw6ZmZlN2MwNzktMWUyMC0xMWU5LTk0ZDItZmExNjNlZWIxMWUx  ...                                                                                                                                                                                                                                                                                                                                                                           Multiplier les centrales géothermiques\n",
              "1  UHJvcG9zYWw6M2RmZmUxZjMtMWUyMS0xMWU5LTk0ZDItZmExNjNlZWIxMWUx  ...  Les problèmes auxquels se trouve confronté l’ensemble de la planète et que dénoncent, dans le plus parfait désordre, les gilets jaunes de France ne sont-ils pas dus, avant tout, à la surpopulation mondiale ? Cette population est passée d’1,5 milliards d’habitants en 1900 à 7 milliards en 2020 et montera bientôt à 10 milliards vers 2040.  Avec les progrès de la communication dans ce village mon...\n",
              "2  UHJvcG9zYWw6NDg1YWUxYjItMWUyMS0xMWU5LTk0ZDItZmExNjNlZWIxMWUx  ...                                                                                                                                                                                                                                                                                                                                                                                                              NaN\n",
              "3  UHJvcG9zYWw6NTk2Nzk5MmItMWUyMS0xMWU5LTk0ZDItZmExNjNlZWIxMWUx  ...                                                                                                                                                                                                                                                                                                                                                                                                              NaN\n",
              "4  UHJvcG9zYWw6ODU5NWMyOTYtMWUyMS0xMWU5LTk0ZDItZmExNjNlZWIxMWUx  ...                                                                                                                                                                                                                                                                                                                                                                  Une vrai politique écologique et non économique\n",
              "\n",
              "[5 rows x 27 columns]"
            ]
          },
          "metadata": {
            "tags": []
          },
          "execution_count": 7
        }
      ]
    },
    {
      "cell_type": "code",
      "metadata": {
        "id": "QcRyLRiG9EvD"
      },
      "source": [
        "# Change column names\n",
        "envr_df.columns= ['id', 'reference', 'title', 'createdAt', 'publishedAt', 'updatedAt',\n",
        "       'trashed', 'trashedStatus', 'authorId', 'authorType', 'authorZipCode', 'problemes', 'reponse_probleme', 'q3','q4','q5','q6','q7','q8','q9','q10','q11','q12','q13','q14','q15','q16']\n",
        "\n",
        "# Remove the nan values\n",
        "envr_df.fillna('',inplace=True)"
      ],
      "execution_count": null,
      "outputs": []
    },
    {
      "cell_type": "code",
      "metadata": {
        "id": "P8jnQv6GZQCq"
      },
      "source": [
        "# We convert our data to type string\n",
        "envr_df[['problems', 'reponse_probleme', 'q3','q4','q5','q6','q7','q8','q9','q10','q11','q12','q13','q14','q15','q16']] = envr_df[['problemes', 'reponse_probleme', 'q3','q4','q5','q6','q7','q8','q9','q10','q11','q12','q13','q14','q15','q16']].astype(str)"
      ],
      "execution_count": null,
      "outputs": []
    },
    {
      "cell_type": "markdown",
      "metadata": {
        "id": "JjAHh4bwFlO6"
      },
      "source": [
        "<a class=\"anchor\" id=\"3\"></a> "
      ]
    },
    {
      "cell_type": "markdown",
      "metadata": {
        "id": "bPasdx3h9bRs"
      },
      "source": [
        "## 3. Define useful processing functions\n"
      ]
    },
    {
      "cell_type": "code",
      "metadata": {
        "id": "ifATyEPf9bRw"
      },
      "source": [
        "def clean(X):\n",
        "    # X, column data\n",
        "    pd_list = list(X)\n",
        "    pd_list = [it.lower() for it in pd_list] # to lowercase\n",
        "    # We noticed that people use o instead of ô frequently so we replaced it to get more robust text\n",
        "    pd_list = [re.sub(r'ô','o',it) for it in pd_list] \n",
        "    # Same thing with é ê è contributers often misspell these characters so we replaced it with simple e\n",
        "    pd_list = [re.sub(r'[éêè]','e',it) for it in pd_list] \n",
        "    # Delete non alphabetic characters\n",
        "    pd_list = [re.sub(r'([^a-zéèûôàêô])',' ',it) for it in pd_list]\n",
        "    return pd_list"
      ],
      "execution_count": null,
      "outputs": []
    },
    {
      "cell_type": "code",
      "metadata": {
        "id": "zbvxNxcz9bR5"
      },
      "source": [
        "def tokenization(X_list):\n",
        "    tokenized_list = [word_tokenize(it) for it in X_list]\n",
        "    return tokenized_list"
      ],
      "execution_count": null,
      "outputs": []
    },
    {
      "cell_type": "code",
      "metadata": {
        "id": "VdH5KGZS9bSI"
      },
      "source": [
        "\n",
        "#We added this list to give more sens to our results.\n",
        "other_stopwords = ['les','a','afin','alors',  'plus', 'moins', 'faut', 'tout', 'tous', 'prends', 'tre', 'si','non','doit','avoir','comme','trop','leurs','faire','ils','peut','bien','aussi','cela','gens', 'sans', 'car', 'très', 'fait', '\\'', 'qu\\'', 'd\\'', 'l\\'', '\"', 'être', 'mai', 'faudrait']\n",
        "\n",
        "stopWords = stopwords.words('french')\n",
        "stopWords.extend(other_stopwords)\n",
        "stopWords = set(stopWords)\n",
        "\n",
        "def remove_stopwords(X_list):\n",
        "    filtered_list =[]\n",
        "    for it in X_list:\n",
        "        \n",
        "        temp = []\n",
        "        for word in it:\n",
        "            if(word not in stopWords):\n",
        "                temp.append(word)\n",
        "        filtered_list.append(temp)\n",
        "        temp=[]\n",
        "     \n",
        "    return filtered_list"
      ],
      "execution_count": null,
      "outputs": []
    },
    {
      "cell_type": "code",
      "metadata": {
        "id": "4d92AVQu-U7B"
      },
      "source": [
        "### Function that cleans and removes stopwords\n",
        "def clean_remove_stopwords(column_data):\n",
        "  \n",
        "    non_stopwords_data = remove_stopwords(tokenization(clean(column_data)))\n",
        "    non_tokenized = []\n",
        "    for l in non_stopwords_data:\n",
        "        non_tokenized.append(' '.join(l))\n",
        "  \n",
        "    return non_tokenized\n",
        "\n"
      ],
      "execution_count": null,
      "outputs": []
    },
    {
      "cell_type": "markdown",
      "metadata": {
        "id": "xcJ9-EjtSZ0C"
      },
      "source": [
        ""
      ]
    },
    {
      "cell_type": "code",
      "metadata": {
        "id": "jvOjRvfb5lPB"
      },
      "source": [
        "# Function that lemmatized data. We used Spacy \n",
        "\n",
        "\n",
        "def lemmetize(column_data):\n",
        "    rep_lemmas = []\n",
        "    for i, reponse in enumerate(column_data):\n",
        "        if(i % 25000 == 0) :\n",
        "            print('{} processed colmuns now '.format(i))\n",
        "        if type(reponse) == str:\n",
        "            doc = nlp_fr(reponse)\n",
        " \n",
        "            lemmas = [token.lemma_ for token in doc if token.pos_ in ['NOUN', 'PROPN' ,'ADJ']]\n",
        "        else:\n",
        "            lemmas = ' '\n",
        "        rep_lemmas.append(' '.join(lemmas))\n",
        "    return rep_lemmas\n"
      ],
      "execution_count": null,
      "outputs": []
    },
    {
      "cell_type": "code",
      "metadata": {
        "colab": {
          "base_uri": "https://localhost:8080/"
        },
        "id": "XSV6v9WY6kqy",
        "outputId": "1c28863e-2208-429c-ec3f-47a918cff16f"
      },
      "source": [
        "## test lemmatization\n",
        "text = ['je suis transitions écologiques', 'une éxpérience écologie naturelle trasformation']\n",
        "print(lemmetize(text))"
      ],
      "execution_count": null,
      "outputs": [
        {
          "output_type": "stream",
          "text": [
            "0 processed colmuns now \n",
            "['écologique', 'éxpérience écologie naturel trasformation']\n"
          ],
          "name": "stdout"
        }
      ]
    },
    {
      "cell_type": "markdown",
      "metadata": {
        "id": "J30iiOjMFlPH"
      },
      "source": [
        "<a class=\"anchor\" id=\"5\"></a> "
      ]
    },
    {
      "cell_type": "markdown",
      "metadata": {
        "id": "dCZ-2HiXFlPJ"
      },
      "source": [
        "## 5. Save clean dataframes"
      ]
    },
    {
      "cell_type": "code",
      "metadata": {
        "colab": {
          "base_uri": "https://localhost:8080/",
          "height": 310
        },
        "id": "iyDEJ4IzwVrn",
        "outputId": "0902bff0-d2c1-446a-83b5-45586c0082c1"
      },
      "source": [
        "clean_df = pd.DataFrame()\n",
        "clean_df['authorZipCode'] = envr_df['authorZipCode']\n",
        "clean_column = clean_remove_stopwords(envr_df['title'])\n",
        "clean_df['title'] = clean_column\n",
        "clean_column = clean_remove_stopwords(envr_df['problems'])\n",
        "clean_df['problems'] = clean_column\n",
        "clean_column = clean_remove_stopwords(envr_df['reponse_probleme'])\n",
        "clean_df['reponse_probleme'] = clean_column\n",
        "\n",
        "clean_df.head()"
      ],
      "execution_count": null,
      "outputs": [
        {
          "output_type": "execute_result",
          "data": {
            "text/html": [
              "<div>\n",
              "<style scoped>\n",
              "    .dataframe tbody tr th:only-of-type {\n",
              "        vertical-align: middle;\n",
              "    }\n",
              "\n",
              "    .dataframe tbody tr th {\n",
              "        vertical-align: top;\n",
              "    }\n",
              "\n",
              "    .dataframe thead th {\n",
              "        text-align: right;\n",
              "    }\n",
              "</style>\n",
              "<table border=\"1\" class=\"dataframe\">\n",
              "  <thead>\n",
              "    <tr style=\"text-align: right;\">\n",
              "      <th></th>\n",
              "      <th>authorZipCode</th>\n",
              "      <th>title</th>\n",
              "      <th>problems</th>\n",
              "      <th>reponse_probleme</th>\n",
              "    </tr>\n",
              "  </thead>\n",
              "  <tbody>\n",
              "    <tr>\n",
              "      <th>0</th>\n",
              "      <td>97231</td>\n",
              "      <td>transition ecologique</td>\n",
              "      <td></td>\n",
              "      <td></td>\n",
              "    </tr>\n",
              "    <tr>\n",
              "      <th>1</th>\n",
              "      <td>57000</td>\n",
              "      <td>surpopulation</td>\n",
              "      <td>problemes auxquels trouve confronte ensemble planete denoncent parfait desordre gilets jaunes france dus avant surpopulation mondiale cette population passee milliards habitants milliards montera bientot milliards vers progres communication village mondial chaque individu fin fond asie fin fond afrique passant quartiers campagnes pays aspire vivre peu bl mer mal lotis concitoyens logement nour...</td>\n",
              "      <td>problemes auxquels trouve confronte ensemble planete denoncent parfait desordre gilets jaunes france dus avant surpopulation mondiale cette population passee milliards habitants milliards montera bientot milliards vers progres communication village mondial planete chaque individu fin fond asie fin fond afrique passant quartiers campagnes pays aspire vivre peu bl mer mal lotis concitoyens logem...</td>\n",
              "    </tr>\n",
              "    <tr>\n",
              "      <th>2</th>\n",
              "      <td>34140</td>\n",
              "      <td>climat</td>\n",
              "      <td>dereglements climatiques crue secheresse</td>\n",
              "      <td>eviter inondations obliger riverains communes nettoyer secteur</td>\n",
              "    </tr>\n",
              "    <tr>\n",
              "      <th>3</th>\n",
              "      <td>17400</td>\n",
              "      <td>pollution air eau</td>\n",
              "      <td>pollution air</td>\n",
              "      <td>taxer gros pollueurs entreprises bateaux marchands routiers etc</td>\n",
              "    </tr>\n",
              "    <tr>\n",
              "      <th>4</th>\n",
              "      <td>35430</td>\n",
              "      <td>economie vs ecologie</td>\n",
              "      <td>biodiversite disparition certaines especes</td>\n",
              "      <td>changer mode vie impulser nouvelle economie agricole</td>\n",
              "    </tr>\n",
              "  </tbody>\n",
              "</table>\n",
              "</div>"
            ],
            "text/plain": [
              "   authorZipCode  ...                                                                                                                                                                                                                                                                                                                                                                                                 reponse_probleme\n",
              "0          97231  ...                                                                                                                                                                                                                                                                                                                                                                                                                 \n",
              "1          57000  ...  problemes auxquels trouve confronte ensemble planete denoncent parfait desordre gilets jaunes france dus avant surpopulation mondiale cette population passee milliards habitants milliards montera bientot milliards vers progres communication village mondial planete chaque individu fin fond asie fin fond afrique passant quartiers campagnes pays aspire vivre peu bl mer mal lotis concitoyens logem...\n",
              "2          34140  ...                                                                                                                                                                                                                                                                                                                                                   eviter inondations obliger riverains communes nettoyer secteur\n",
              "3          17400  ...                                                                                                                                                                                                                                                                                                                                                  taxer gros pollueurs entreprises bateaux marchands routiers etc\n",
              "4          35430  ...                                                                                                                                                                                                                                                                                                                                                             changer mode vie impulser nouvelle economie agricole\n",
              "\n",
              "[5 rows x 4 columns]"
            ]
          },
          "metadata": {
            "tags": []
          },
          "execution_count": 72
        }
      ]
    },
    {
      "cell_type": "code",
      "metadata": {
        "id": "KIdO8mu20FZy"
      },
      "source": [
        "clean_df.to_csv('/content/drive/MyDrive/Colab Notebooks/grand debat/clean_environement.csv')"
      ],
      "execution_count": null,
      "outputs": []
    },
    {
      "cell_type": "markdown",
      "metadata": {
        "id": "O05Zv4-wFlPK"
      },
      "source": [
        "## 6. Save lemmatized dataframes"
      ]
    },
    {
      "cell_type": "code",
      "metadata": {
        "colab": {
          "base_uri": "https://localhost:8080/",
          "height": 496
        },
        "id": "dBrG-plyJrA4",
        "outputId": "b294b1d1-7445-4b7f-ab5a-df0a6fd09fdb"
      },
      "source": [
        "lemmetized_df = pd.DataFrame()\n",
        "lemmetized_df['authorZipCode'] = clean_df['authorZipCode']\n",
        "lemmetized_df['title'] = lemmetize(clean_df['title'])\n",
        "lemmetized_df['problems'] = lemmetize(clean_df['problems'])\n",
        "lemmetized_df['reponse_probleme'] = lemmetize(clean_df['reponse_probleme'])\n",
        "\n",
        "\n",
        "lemmetized_df.head()"
      ],
      "execution_count": null,
      "outputs": [
        {
          "output_type": "stream",
          "text": [
            "0 processed colmuns now \n",
            "25000 processed colmuns now \n",
            "50000 processed colmuns now \n",
            "75000 processed colmuns now \n",
            "0 processed colmuns now \n",
            "25000 processed colmuns now \n",
            "50000 processed colmuns now \n",
            "75000 processed colmuns now \n",
            "0 processed colmuns now \n",
            "25000 processed colmuns now \n",
            "50000 processed colmuns now \n",
            "75000 processed colmuns now \n"
          ],
          "name": "stdout"
        },
        {
          "output_type": "execute_result",
          "data": {
            "text/html": [
              "<div>\n",
              "<style scoped>\n",
              "    .dataframe tbody tr th:only-of-type {\n",
              "        vertical-align: middle;\n",
              "    }\n",
              "\n",
              "    .dataframe tbody tr th {\n",
              "        vertical-align: top;\n",
              "    }\n",
              "\n",
              "    .dataframe thead th {\n",
              "        text-align: right;\n",
              "    }\n",
              "</style>\n",
              "<table border=\"1\" class=\"dataframe\">\n",
              "  <thead>\n",
              "    <tr style=\"text-align: right;\">\n",
              "      <th></th>\n",
              "      <th>authorZipCode</th>\n",
              "      <th>title</th>\n",
              "      <th>problems</th>\n",
              "      <th>reponse_probleme</th>\n",
              "    </tr>\n",
              "  </thead>\n",
              "  <tbody>\n",
              "    <tr>\n",
              "      <th>0</th>\n",
              "      <td>97231</td>\n",
              "      <td>transition ecologiqu</td>\n",
              "      <td></td>\n",
              "      <td></td>\n",
              "    </tr>\n",
              "    <tr>\n",
              "      <th>1</th>\n",
              "      <td>57000</td>\n",
              "      <td>surpopulation</td>\n",
              "      <td>probleme trouve planet denoncent gilet jaune france du surpopulation mondial population milliard habitant milliard bientot milliard progre communication village mondial individu fin asie fin fond afriqu quartiers campagne pays bl mer mal bien consommation mer probleme tel cas solution probleme stabilisation croissanc demographique richesse partag terre partag eau protection biodiversite confli...</td>\n",
              "      <td>probleme trouve planet denoncent gilet jaune france du surpopulation mondial population milliard habitant milliard bientot milliard progre communication village mondial planet individu fin asie fin fond afriqu quartiers campagne pays bl mer mal bien consommation mer probleme tel cas solution probleme stabilisation croissanc demographique richesse partag terre partag eau protection biodiversite...</td>\n",
              "    </tr>\n",
              "    <tr>\n",
              "      <th>2</th>\n",
              "      <td>34140</td>\n",
              "      <td>climat</td>\n",
              "      <td>dereglement climatique cru secheresse</td>\n",
              "      <td>inondation riverain commune secteur</td>\n",
              "    </tr>\n",
              "    <tr>\n",
              "      <th>3</th>\n",
              "      <td>17400</td>\n",
              "      <td>pollution eau</td>\n",
              "      <td>pollution air</td>\n",
              "      <td>gros pollueur entreprise bateal marchand routier</td>\n",
              "    </tr>\n",
              "    <tr>\n",
              "      <th>4</th>\n",
              "      <td>35430</td>\n",
              "      <td>ecologie</td>\n",
              "      <td>biodiversite disparition espece</td>\n",
              "      <td>mode vie impulser nouveau economie</td>\n",
              "    </tr>\n",
              "  </tbody>\n",
              "</table>\n",
              "</div>"
            ],
            "text/plain": [
              "   authorZipCode  ...                                                                                                                                                                                                                                                                                                                                                                                                 reponse_probleme\n",
              "0          97231  ...                                                                                                                                                                                                                                                                                                                                                                                                                 \n",
              "1          57000  ...  probleme trouve planet denoncent gilet jaune france du surpopulation mondial population milliard habitant milliard bientot milliard progre communication village mondial planet individu fin asie fin fond afriqu quartiers campagne pays bl mer mal bien consommation mer probleme tel cas solution probleme stabilisation croissanc demographique richesse partag terre partag eau protection biodiversite...\n",
              "2          34140  ...                                                                                                                                                                                                                                                                                                                                                                              inondation riverain commune secteur\n",
              "3          17400  ...                                                                                                                                                                                                                                                                                                                                                                 gros pollueur entreprise bateal marchand routier\n",
              "4          35430  ...                                                                                                                                                                                                                                                                                                                                                                               mode vie impulser nouveau economie\n",
              "\n",
              "[5 rows x 4 columns]"
            ]
          },
          "metadata": {
            "tags": []
          },
          "execution_count": 73
        }
      ]
    },
    {
      "cell_type": "code",
      "metadata": {
        "id": "gZ9NRzUsCjmg"
      },
      "source": [
        "lemmetized_df.to_csv('/content/drive/MyDrive/Colab Notebooks/grand debat/lemmatized_environement.csv')"
      ],
      "execution_count": null,
      "outputs": []
    }
  ]
}
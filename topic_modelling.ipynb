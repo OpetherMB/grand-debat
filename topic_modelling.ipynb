{
  "nbformat": 4,
  "nbformat_minor": 0,
  "metadata": {
    "accelerator": "TPU",
    "colab": {
      "name": "topic modelling.ipynb",
      "provenance": [],
      "collapsed_sections": [],
      "include_colab_link": true
    },
    "kernelspec": {
      "display_name": "Python 3",
      "language": "python",
      "name": "python3"
    },
    "language_info": {
      "codemirror_mode": {
        "name": "ipython",
        "version": 3
      },
      "file_extension": ".py",
      "mimetype": "text/x-python",
      "name": "python",
      "nbconvert_exporter": "python",
      "pygments_lexer": "ipython3",
      "version": "3.7.2"
    }
  },
  "cells": [
    {
      "cell_type": "markdown",
      "metadata": {
        "id": "view-in-github",
        "colab_type": "text"
      },
      "source": [
        "<a href=\"https://colab.research.google.com/github/OpetherMB/grand-debat/blob/main/topic_modelling.ipynb\" target=\"_parent\"><img src=\"https://colab.research.google.com/assets/colab-badge.svg\" alt=\"Open In Colab\"/></a>"
      ]
    },
    {
      "cell_type": "markdown",
      "metadata": {
        "id": "jY-FCV7CAVpZ"
      },
      "source": [
        "### Import libraries"
      ]
    },
    {
      "cell_type": "code",
      "metadata": {
        "colab": {
          "base_uri": "https://localhost:8080/"
        },
        "id": "3eYRIqeIW-p_",
        "outputId": "79e621cf-2f67-487e-d5c4-12ef30cc3393"
      },
      "source": [
        "import pandas as pd\n",
        "import numpy as np\n",
        "import nltk\n",
        "from pprint import pprint\n",
        "import pickle\n",
        "\n",
        "\n",
        "nltk.download('stopwords')\n",
        "nltk.download('punkt')\n",
        "from nltk.corpus import stopwords\n",
        "from nltk.tokenize import  word_tokenize\n",
        "\n",
        "\n",
        "# Gensim\n",
        "import gensim\n",
        "import gensim.corpora as corpora\n",
        "from gensim.utils import simple_preprocess\n",
        "from gensim.models import CoherenceModel\n",
        "from gensim.models.phrases import Phrases, Phraser\n",
        "from gensim.models import LsiModel\n",
        "from gensim.models import CoherenceModel,HdpModel\n",
        "\n",
        "\n",
        "# spacy for lemmatization\n",
        "import spacy\n",
        "\n",
        "\n",
        "# Plotting tools\n",
        "!pip install pyLDAvis\n",
        "\n",
        "import pyLDAvis\n",
        "import pyLDAvis.gensim \n",
        "import pyLDAvis.sklearn\n",
        "import matplotlib.pyplot as plt\n",
        "%matplotlib inline\n",
        "\n",
        "from sklearn.decomposition import LatentDirichletAllocation\n",
        "from sklearn.feature_extraction.text import CountVectorizer\n",
        "pyLDAvis.enable_notebook()\n",
        "\n",
        "# Enable logging for gensim - optional\n",
        "import logging\n",
        "logging.basicConfig(format='%(asctime)s : %(levelname)s : %(message)s', level=logging.ERROR)\n",
        "\n",
        "import warnings\n",
        "warnings.filterwarnings(\"ignore\",category=DeprecationWarning)\n",
        "\n",
        "\n",
        "import re\n",
        "import os\n",
        "pd.set_option('max_colwidth', 400)"
      ],
      "execution_count": 1,
      "outputs": [
        {
          "output_type": "stream",
          "text": [
            "[nltk_data] Downloading package stopwords to /root/nltk_data...\n",
            "[nltk_data]   Unzipping corpora/stopwords.zip.\n",
            "[nltk_data] Downloading package punkt to /root/nltk_data...\n",
            "[nltk_data]   Unzipping tokenizers/punkt.zip.\n",
            "Collecting pyLDAvis\n",
            "\u001b[?25l  Downloading https://files.pythonhosted.org/packages/a5/3a/af82e070a8a96e13217c8f362f9a73e82d61ac8fff3a2561946a97f96266/pyLDAvis-2.1.2.tar.gz (1.6MB)\n",
            "\u001b[K     |████████████████████████████████| 1.6MB 5.3MB/s \n",
            "\u001b[?25hRequirement already satisfied: wheel>=0.23.0 in /usr/local/lib/python3.6/dist-packages (from pyLDAvis) (0.36.2)\n",
            "Requirement already satisfied: numpy>=1.9.2 in /usr/local/lib/python3.6/dist-packages (from pyLDAvis) (1.19.4)\n",
            "Requirement already satisfied: scipy>=0.18.0 in /usr/local/lib/python3.6/dist-packages (from pyLDAvis) (1.4.1)\n",
            "Requirement already satisfied: pandas>=0.17.0 in /usr/local/lib/python3.6/dist-packages (from pyLDAvis) (1.1.5)\n",
            "Requirement already satisfied: joblib>=0.8.4 in /usr/local/lib/python3.6/dist-packages (from pyLDAvis) (1.0.0)\n",
            "Requirement already satisfied: jinja2>=2.7.2 in /usr/local/lib/python3.6/dist-packages (from pyLDAvis) (2.11.2)\n",
            "Requirement already satisfied: numexpr in /usr/local/lib/python3.6/dist-packages (from pyLDAvis) (2.7.1)\n",
            "Requirement already satisfied: pytest in /usr/local/lib/python3.6/dist-packages (from pyLDAvis) (3.6.4)\n",
            "Requirement already satisfied: future in /usr/local/lib/python3.6/dist-packages (from pyLDAvis) (0.16.0)\n",
            "Collecting funcy\n",
            "  Downloading https://files.pythonhosted.org/packages/66/89/479de0afbbfb98d1c4b887936808764627300208bb771fcd823403645a36/funcy-1.15-py2.py3-none-any.whl\n",
            "Requirement already satisfied: pytz>=2017.2 in /usr/local/lib/python3.6/dist-packages (from pandas>=0.17.0->pyLDAvis) (2018.9)\n",
            "Requirement already satisfied: python-dateutil>=2.7.3 in /usr/local/lib/python3.6/dist-packages (from pandas>=0.17.0->pyLDAvis) (2.8.1)\n",
            "Requirement already satisfied: MarkupSafe>=0.23 in /usr/local/lib/python3.6/dist-packages (from jinja2>=2.7.2->pyLDAvis) (1.1.1)\n",
            "Requirement already satisfied: setuptools in /usr/local/lib/python3.6/dist-packages (from pytest->pyLDAvis) (51.0.0)\n",
            "Requirement already satisfied: atomicwrites>=1.0 in /usr/local/lib/python3.6/dist-packages (from pytest->pyLDAvis) (1.4.0)\n",
            "Requirement already satisfied: six>=1.10.0 in /usr/local/lib/python3.6/dist-packages (from pytest->pyLDAvis) (1.15.0)\n",
            "Requirement already satisfied: py>=1.5.0 in /usr/local/lib/python3.6/dist-packages (from pytest->pyLDAvis) (1.10.0)\n",
            "Requirement already satisfied: pluggy<0.8,>=0.5 in /usr/local/lib/python3.6/dist-packages (from pytest->pyLDAvis) (0.7.1)\n",
            "Requirement already satisfied: more-itertools>=4.0.0 in /usr/local/lib/python3.6/dist-packages (from pytest->pyLDAvis) (8.6.0)\n",
            "Requirement already satisfied: attrs>=17.4.0 in /usr/local/lib/python3.6/dist-packages (from pytest->pyLDAvis) (20.3.0)\n",
            "Building wheels for collected packages: pyLDAvis\n",
            "  Building wheel for pyLDAvis (setup.py) ... \u001b[?25l\u001b[?25hdone\n",
            "  Created wheel for pyLDAvis: filename=pyLDAvis-2.1.2-py2.py3-none-any.whl size=97712 sha256=68da68d304d53ce1f3767ea9d4a5de6022359aa07f1402c61617641338579680\n",
            "  Stored in directory: /root/.cache/pip/wheels/98/71/24/513a99e58bb6b8465bae4d2d5e9dba8f0bef8179e3051ac414\n",
            "Successfully built pyLDAvis\n",
            "Installing collected packages: funcy, pyLDAvis\n",
            "Successfully installed funcy-1.15 pyLDAvis-2.1.2\n"
          ],
          "name": "stdout"
        }
      ]
    },
    {
      "cell_type": "code",
      "metadata": {
        "colab": {
          "base_uri": "https://localhost:8080/"
        },
        "id": "zhF-rTuKeOx2",
        "outputId": "36a632f1-4513-476a-c8ee-1b794d8b3049"
      },
      "source": [
        "from google.colab import drive\n",
        "drive.mount('/content/drive')"
      ],
      "execution_count": 2,
      "outputs": [
        {
          "output_type": "stream",
          "text": [
            "Mounted at /content/drive\n"
          ],
          "name": "stdout"
        }
      ]
    },
    {
      "cell_type": "code",
      "metadata": {
        "colab": {
          "base_uri": "https://localhost:8080/"
        },
        "id": "EQU1ZWqqoq_w",
        "outputId": "abdefece-1ab8-43f2-b8a0-80b5a7d5ece5"
      },
      "source": [
        "%cd /content/drive/MyDrive/Colab Notebooks/grand debat\r\n",
        "!pwd"
      ],
      "execution_count": 3,
      "outputs": [
        {
          "output_type": "stream",
          "text": [
            "/content/drive/MyDrive/Colab Notebooks/grand debat\n",
            "/content/drive/MyDrive/Colab Notebooks/grand debat\n"
          ],
          "name": "stdout"
        }
      ]
    },
    {
      "cell_type": "code",
      "metadata": {
        "colab": {
          "base_uri": "https://localhost:8080/"
        },
        "id": "T8J3u6jUplAx",
        "outputId": "a0a65bec-b9d0-47ea-90e7-7361bddd2ac4"
      },
      "source": [
        "# local lib\r\n",
        "\r\n",
        "import util_topicModelling as  tpc"
      ],
      "execution_count": 4,
      "outputs": [
        {
          "output_type": "stream",
          "text": [
            "[nltk_data] Downloading package stopwords to /root/nltk_data...\n",
            "[nltk_data]   Package stopwords is already up-to-date!\n",
            "[nltk_data] Downloading package punkt to /root/nltk_data...\n",
            "[nltk_data]   Package punkt is already up-to-date!\n"
          ],
          "name": "stdout"
        }
      ]
    },
    {
      "cell_type": "markdown",
      "metadata": {
        "id": "LSp7sxMPAPa3"
      },
      "source": [
        "### Prepare data already cleaned and grouped"
      ]
    },
    {
      "cell_type": "code",
      "metadata": {
        "colab": {
          "base_uri": "https://localhost:8080/",
          "height": 330
        },
        "id": "GVINAO443-CF",
        "outputId": "8432d47c-3e42-4540-8ef9-fb6c63796ceb"
      },
      "source": [
        "cleaned_data = pd.read_csv('clean_environement.csv', low_memory=False, dtype = str)\n",
        "cleaned_data.fillna('')\n",
        "cleaned_data.head()"
      ],
      "execution_count": 5,
      "outputs": [
        {
          "output_type": "execute_result",
          "data": {
            "text/html": [
              "<div>\n",
              "<style scoped>\n",
              "    .dataframe tbody tr th:only-of-type {\n",
              "        vertical-align: middle;\n",
              "    }\n",
              "\n",
              "    .dataframe tbody tr th {\n",
              "        vertical-align: top;\n",
              "    }\n",
              "\n",
              "    .dataframe thead th {\n",
              "        text-align: right;\n",
              "    }\n",
              "</style>\n",
              "<table border=\"1\" class=\"dataframe\">\n",
              "  <thead>\n",
              "    <tr style=\"text-align: right;\">\n",
              "      <th></th>\n",
              "      <th>Unnamed: 0</th>\n",
              "      <th>authorZipCode</th>\n",
              "      <th>title</th>\n",
              "      <th>problems</th>\n",
              "      <th>reponse_probleme</th>\n",
              "    </tr>\n",
              "  </thead>\n",
              "  <tbody>\n",
              "    <tr>\n",
              "      <th>0</th>\n",
              "      <td>0</td>\n",
              "      <td>97231</td>\n",
              "      <td>transition ecologique</td>\n",
              "      <td>NaN</td>\n",
              "      <td>NaN</td>\n",
              "    </tr>\n",
              "    <tr>\n",
              "      <th>1</th>\n",
              "      <td>1</td>\n",
              "      <td>57000</td>\n",
              "      <td>surpopulation</td>\n",
              "      <td>problemes auxquels trouve confronte ensemble planete denoncent parfait desordre gilets jaunes france dus avant surpopulation mondiale cette population passee milliards habitants milliards montera bientot milliards vers progres communication village mondial chaque individu fin fond asie fin fond afrique passant quartiers campagnes pays aspire vivre peu bl mer mal lotis concitoyens logement nour...</td>\n",
              "      <td>problemes auxquels trouve confronte ensemble planete denoncent parfait desordre gilets jaunes france dus avant surpopulation mondiale cette population passee milliards habitants milliards montera bientot milliards vers progres communication village mondial planete chaque individu fin fond asie fin fond afrique passant quartiers campagnes pays aspire vivre peu bl mer mal lotis concitoyens logem...</td>\n",
              "    </tr>\n",
              "    <tr>\n",
              "      <th>2</th>\n",
              "      <td>2</td>\n",
              "      <td>34140</td>\n",
              "      <td>climat</td>\n",
              "      <td>dereglements climatiques crue secheresse</td>\n",
              "      <td>eviter inondations obliger riverains communes nettoyer secteur</td>\n",
              "    </tr>\n",
              "    <tr>\n",
              "      <th>3</th>\n",
              "      <td>3</td>\n",
              "      <td>17400</td>\n",
              "      <td>pollution air eau</td>\n",
              "      <td>pollution air</td>\n",
              "      <td>taxer gros pollueurs entreprises bateaux marchands routiers etc</td>\n",
              "    </tr>\n",
              "    <tr>\n",
              "      <th>4</th>\n",
              "      <td>4</td>\n",
              "      <td>35430</td>\n",
              "      <td>economie vs ecologie</td>\n",
              "      <td>biodiversite disparition certaines especes</td>\n",
              "      <td>changer mode vie impulser nouvelle economie agricole</td>\n",
              "    </tr>\n",
              "  </tbody>\n",
              "</table>\n",
              "</div>"
            ],
            "text/plain": [
              "  Unnamed: 0  ...                                                                                                                                                                                                                                                                                                                                                                                                 reponse_probleme\n",
              "0          0  ...                                                                                                                                                                                                                                                                                                                                                                                                              NaN\n",
              "1          1  ...  problemes auxquels trouve confronte ensemble planete denoncent parfait desordre gilets jaunes france dus avant surpopulation mondiale cette population passee milliards habitants milliards montera bientot milliards vers progres communication village mondial planete chaque individu fin fond asie fin fond afrique passant quartiers campagnes pays aspire vivre peu bl mer mal lotis concitoyens logem...\n",
              "2          2  ...                                                                                                                                                                                                                                                                                                                                                   eviter inondations obliger riverains communes nettoyer secteur\n",
              "3          3  ...                                                                                                                                                                                                                                                                                                                                                  taxer gros pollueurs entreprises bateaux marchands routiers etc\n",
              "4          4  ...                                                                                                                                                                                                                                                                                                                                                             changer mode vie impulser nouvelle economie agricole\n",
              "\n",
              "[5 rows x 5 columns]"
            ]
          },
          "metadata": {
            "tags": []
          },
          "execution_count": 5
        }
      ]
    },
    {
      "cell_type": "markdown",
      "metadata": {
        "id": "AzKe4ApE5kTq"
      },
      "source": [
        "## Topic Modeling with Title column"
      ]
    },
    {
      "cell_type": "markdown",
      "metadata": {
        "id": "GxPOdD1h3KEh"
      },
      "source": [
        "### Build Model with non grouped data"
      ]
    },
    {
      "cell_type": "code",
      "metadata": {
        "colab": {
          "base_uri": "https://localhost:8080/"
        },
        "id": "Ue4tGpCE77VJ",
        "outputId": "e9a08c74-2915-4aff-85e2-49571df5583d"
      },
      "source": [
        "list(cleaned_data['title'][2470:2475])"
      ],
      "execution_count": 6,
      "outputs": [
        {
          "output_type": "execute_result",
          "data": {
            "text/plain": [
              "['vraie transition ecologique',\n",
              " 'energies alternatives',\n",
              " 'voiture avion paquebots portes contenairs',\n",
              " 'mobilite',\n",
              " nan]"
            ]
          },
          "metadata": {
            "tags": []
          },
          "execution_count": 6
        }
      ]
    },
    {
      "cell_type": "code",
      "metadata": {
        "colab": {
          "base_uri": "https://localhost:8080/"
        },
        "id": "D88Nkp5vAAiG",
        "outputId": "9ec47726-5c6f-4c16-b58b-89ffcc66c430"
      },
      "source": [
        "cleaned_data.fillna('',inplace=True)\n",
        "count_nan = len(cleaned_data['title']) - cleaned_data['title'].count()\n",
        "count_nan"
      ],
      "execution_count": 7,
      "outputs": [
        {
          "output_type": "execute_result",
          "data": {
            "text/plain": [
              "0"
            ]
          },
          "metadata": {
            "tags": []
          },
          "execution_count": 7
        }
      ]
    },
    {
      "cell_type": "markdown",
      "metadata": {
        "id": "Kjr0U8QBtNvm"
      },
      "source": [
        "# Using LDA"
      ]
    },
    {
      "cell_type": "markdown",
      "metadata": {
        "id": "QoJuiJ6grM7o"
      },
      "source": [
        "lets create a simple topic model with 8 topics using  Latent Dirichlet Allocation"
      ]
    },
    {
      "cell_type": "markdown",
      "metadata": {
        "id": "5yURlDhmEii_"
      },
      "source": [
        "### LDA with title column"
      ]
    },
    {
      "cell_type": "code",
      "metadata": {
        "colab": {
          "base_uri": "https://localhost:8080/"
        },
        "id": "NxrqFS4xEii_",
        "outputId": "fe850a7f-6e7f-407a-dfcc-9fb7d63b516e"
      },
      "source": [
        "data = list(cleaned_data['title'])\n",
        "lda_model, corpus, id2word = tpc.get_topics(data, n_topics=8)"
      ],
      "execution_count": 8,
      "outputs": [
        {
          "output_type": "stream",
          "text": [
            "[(0,\n",
            "  '0.056*\"transports\" + 0.031*\"developper\" + 0.030*\"vie\" + 0.029*\"enfants\" + '\n",
            "  '0.029*\"energies\" + 0.027*\"avenir\" + 0.025*\"taxe\" + 0.020*\"terre\" + '\n",
            "  '0.019*\"carbone\" + 0.015*\"ecologiques\"'),\n",
            " (1,\n",
            "  '0.167*\"ecologie\" + 0.034*\"taxer\" + 0.026*\"etre\" + 0.025*\"pollueurs\" + '\n",
            "  '0.023*\"economie\" + 0.014*\"responsable\" + 0.014*\"citoyen\" + '\n",
            "  '0.012*\"deplacements\" + 0.012*\"modele\" + 0.011*\"rendre\"'),\n",
            " (2,\n",
            "  '0.029*\"agir\" + 0.026*\"climat\" + 0.013*\"temps\" + 0.013*\"ferroutage\" + '\n",
            "  '0.013*\"toutes\" + 0.013*\"grand\" + 0.013*\"societe\" + 0.013*\"sante\" + '\n",
            "  '0.012*\"conscience\" + 0.012*\"oui\"'),\n",
            " (3,\n",
            "  '0.041*\"urgence\" + 0.032*\"climatique\" + 0.029*\"priorite\" + 0.028*\"produits\" '\n",
            "  '+ 0.022*\"electrique\" + 0.020*\"contribution\" + 0.019*\"economique\" + '\n",
            "  '0.015*\"voiture\" + 0.013*\"rechauffement\" + 0.013*\"mettre\"'),\n",
            " (4,\n",
            "  '0.064*\"planete\" + 0.035*\"consommation\" + 0.025*\"reduire\" + '\n",
            "  '0.023*\"vehicules\" + 0.018*\"limiter\" + 0.017*\"interdire\" + 0.017*\"sauver\" + '\n",
            "  '0.016*\"education\" + 0.014*\"preserver\" + 0.011*\"exemple\"'),\n",
            " (5,\n",
            "  '0.065*\"pollution\" + 0.040*\"energie\" + 0.034*\"transport\" + 0.032*\"commun\" + '\n",
            "  '0.030*\"air\" + 0.025*\"bio\" + 0.024*\"contre\" + 0.022*\"agriculture\" + '\n",
            "  '0.021*\"favoriser\" + 0.018*\"eau\"'),\n",
            " (6,\n",
            "  '0.057*\"environnement\" + 0.021*\"politique\" + 0.020*\"changer\" + 0.020*\"stop\" '\n",
            "  '+ 0.018*\"monde\" + 0.017*\"biodiversite\" + 0.017*\"changement\" + 0.015*\"vers\" '\n",
            "  '+ 0.015*\"developpement\" + 0.014*\"nature\"'),\n",
            " (7,\n",
            "  '0.143*\"ecologique\" + 0.137*\"transition\" + 0.028*\"france\" + '\n",
            "  '0.027*\"energetique\" + 0.022*\"dechets\" + 0.017*\"etat\" + 0.016*\"entreprises\" '\n",
            "  '+ 0.011*\"fin\" + 0.011*\"recyclage\" + 0.009*\"villes\"')]\n",
            "\n",
            "Perplexity:  -8.468951757581056\n",
            "\n",
            "Coherence Score:  0.3399158281895186\n"
          ],
          "name": "stdout"
        }
      ]
    },
    {
      "cell_type": "code",
      "metadata": {
        "colab": {
          "base_uri": "https://localhost:8080/",
          "height": 861
        },
        "id": "3zgSpXdzAkdt",
        "outputId": "001abde0-1d04-462e-98fc-e5d1ad6e8a58"
      },
      "source": [
        "pyLDAvis.enable_notebook()\n",
        "vis = pyLDAvis.gensim.prepare(lda_model, corpus, id2word)\n",
        "vis"
      ],
      "execution_count": 9,
      "outputs": [
        {
          "output_type": "execute_result",
          "data": {
            "text/html": [
              "\n",
              "<link rel=\"stylesheet\" type=\"text/css\" href=\"https://cdn.rawgit.com/bmabey/pyLDAvis/files/ldavis.v1.0.0.css\">\n",
              "\n",
              "\n",
              "<div id=\"ldavis_el561404308894672406232835197\"></div>\n",
              "<script type=\"text/javascript\">\n",
              "\n",
              "var ldavis_el561404308894672406232835197_data = {\"mdsDat\": {\"x\": [-0.39750457614888524, 0.07120050381304002, 0.06443301735046639, 0.05362022299758501, 0.04706925605183798, 0.04998484696904318, 0.054442899712355754, 0.05675382925455716], \"y\": [0.01260891549816474, 0.37543064611452626, -0.11546468662106117, -0.08177498795468637, -0.05584907249384231, -0.03854819313489748, -0.05737926997955573, -0.039023351428647816], \"topics\": [1, 2, 3, 4, 5, 6, 7, 8], \"cluster\": [1, 1, 1, 1, 1, 1, 1, 1], \"Freq\": [18.19046421744544, 13.545730050698246, 12.025205848586339, 11.816066242939256, 11.53991093623494, 11.332337872151115, 10.962780177664634, 10.58750465428003]}, \"tinfo\": {\"Term\": [\"ecologie\", \"ecologique\", \"transition\", \"environnement\", \"pollution\", \"planete\", \"transports\", \"urgence\", \"energie\", \"transport\", \"consommation\", \"taxer\", \"commun\", \"climatique\", \"developper\", \"vie\", \"air\", \"france\", \"energetique\", \"priorite\", \"enfants\", \"energies\", \"agir\", \"produits\", \"avenir\", \"climat\", \"etre\", \"politique\", \"bio\", \"taxe\", \"environnement\", \"politique\", \"changer\", \"stop\", \"monde\", \"biodiversite\", \"changement\", \"vers\", \"developpement\", \"nature\", \"mieux\", \"protection\", \"sens\", \"nucleaire\", \"bon\", \"chacun\", \"fran\", \"respect\", \"solutions\", \"vivre\", \"plan\", \"eco\", \"citoyens\", \"taxes\", \"recherche\", \"chasse\", \"pollueur\", \"payeur\", \"payer\", \"creer\", \"ecologique\", \"transition\", \"france\", \"energetique\", \"dechets\", \"etat\", \"entreprises\", \"fin\", \"recyclage\", \"villes\", \"responsables\", \"obligatoire\", \"b\", \"plastique\", \"comportements\", \"responsabilite\", \"service\", \"mondiale\", \"croissance\", \"emballages\", \"compte\", \"financement\", \"grandes\", \"ans\", \"eduquer\", \"ecotaxe\", \"accelerer\", \"impact\", \"vente\", \"imposer\", \"pollution\", \"energie\", \"transport\", \"commun\", \"air\", \"bio\", \"contre\", \"agriculture\", \"favoriser\", \"eau\", \"durable\", \"arreter\", \"tva\", \"pays\", \"pesticides\", \"taxation\", \"lutter\", \"propre\", \"polluants\", \"autres\", \"place\", \"chaque\", \"qualite\", \"aides\", \"actions\", \"supprimer\", \"particuliers\", \"circuits\", \"ameliorer\", \"courts\", \"transports\", \"developper\", \"vie\", \"enfants\", \"energies\", \"avenir\", \"taxe\", \"terre\", \"carbone\", \"ecologiques\", \"co\", \"prendre\", \"punitive\", \"production\", \"fiscalite\", \"electricite\", \"renouvelables\", \"idees\", \"generations\", \"ville\", \"investir\", \"politiques\", \"emissions\", \"gratuite\", \"respecter\", \"projet\", \"diminution\", \"logements\", \"homme\", \"arretons\", \"urgence\", \"climatique\", \"priorite\", \"produits\", \"electrique\", \"contribution\", \"economique\", \"voiture\", \"rechauffement\", \"mettre\", \"voitures\", \"mesures\", \"velo\", \"proposition\", \"environnementale\", \"gaz\", \"consommer\", \"h\", \"ecolo\", \"national\", \"electriques\", \"lutte\", \"inciter\", \"systeme\", \"moteur\", \"dereglement\", \"effet\", \"tard\", \"vite\", \"population\", \"ecologie\", \"taxer\", \"etre\", \"pollueurs\", \"economie\", \"responsable\", \"citoyen\", \"deplacements\", \"modele\", \"rendre\", \"gros\", \"avant\", \"probleme\", \"europe\", \"europeenne\", \"nationale\", \"sociale\", \"doivent\", \"humaine\", \"debat\", \"globale\", \"publics\", \"financer\", \"veritable\", \"quotidien\", \"rien\", \"vrai\", \"vraiment\", \"co\\u00fbt\", \"payeurs\", \"possible\", \"agir\", \"climat\", \"temps\", \"ferroutage\", \"toutes\", \"grand\", \"societe\", \"sante\", \"conscience\", \"oui\", \"animaux\", \"prise\", \"demain\", \"prix\", \"camions\", \"donner\", \"decisions\", \"sortir\", \"chauffage\", \"diminuer\", \"meme\", \"mise\", \"eolien\", \"solution\", \"panneaux\", \"quand\", \"etrangers\", \"individuel\", \"positive\", \"collective\", \"planete\", \"consommation\", \"reduire\", \"vehicules\", \"limiter\", \"interdire\", \"sauver\", \"education\", \"preserver\", \"exemple\", \"isolation\", \"affaire\", \"utiliser\", \"aider\", \"sauvons\", \"tri\", \"vrais\", \"ensemble\", \"diesel\", \"halte\", \"quelques\", \"toute\", \"decroissance\", \"amenagement\", \"sols\", \"polluantes\", \"verte\", \"reellement\", \"industriels\", \"heure\"], \"Freq\": [6134.0, 6305.0, 6022.0, 3380.0, 2528.0, 2196.0, 2146.0, 1521.0, 1545.0, 1324.0, 1207.0, 1237.0, 1252.0, 1210.0, 1177.0, 1165.0, 1156.0, 1224.0, 1204.0, 1103.0, 1116.0, 1110.0, 1029.0, 1053.0, 1026.0, 943.0, 951.0, 1215.0, 964.0, 947.0, 3379.2918032127077, 1214.8652190464602, 1187.9237793684406, 1161.116790530009, 1089.8524543117899, 1019.3724880079919, 997.2919632996901, 882.3753893732752, 869.2764998226348, 806.1619529579001, 752.9570491121234, 747.0015480723233, 740.2880831749771, 683.9378328670728, 658.7605928513876, 648.3612275026375, 634.7840032342323, 615.4714384252213, 608.0409390584853, 551.9552444328959, 524.0584556221905, 517.9910589163832, 511.3152226500837, 465.89014829845047, 455.2532384630634, 454.24697515196567, 446.67572600082457, 444.0059086129186, 440.7324102560199, 434.7054203184929, 6304.546929620344, 6021.221221515141, 1224.0831887334691, 1203.6428342639963, 957.9608031605004, 756.6289526204995, 696.5625883208133, 492.63449216519973, 490.7387199745644, 400.5860819080535, 392.0555781563637, 378.3160739746496, 374.88777293271306, 368.9604380090355, 349.1599276488512, 327.43703784090985, 324.0115429531116, 319.3342370422276, 299.13369609575733, 298.0481241017702, 278.653359050533, 277.4844627132274, 266.9253962798172, 266.68943353767617, 262.879659395945, 262.45928931287557, 257.0377790347859, 253.0850548950163, 243.63499286679195, 240.08645733732345, 2527.2564568147263, 1544.2179462402412, 1323.918228581182, 1251.1798472320415, 1155.8944674923976, 963.8151196921398, 942.3533215209538, 847.090780445443, 826.7510589353438, 697.8519660753278, 667.2322999943656, 569.8951863145993, 466.5114999382965, 463.1588349577776, 429.1769029292086, 413.6700682269298, 394.38721680977955, 367.78319158058844, 364.8036550937089, 360.0397206858828, 350.0391860776544, 347.29021827008035, 337.37369212387017, 323.9114270036974, 321.71316921358743, 289.81637448980047, 285.0551858130923, 274.02742046106863, 252.81413823152843, 244.55141503349105, 2145.1832450643137, 1177.102141978936, 1164.4652418642663, 1115.3373853231167, 1109.3759617314258, 1026.0630444474189, 946.3166753998305, 780.464642361899, 732.107585626969, 571.708291190393, 540.4205729365701, 526.6711053130066, 504.48543571203453, 499.8872950414042, 497.1492583259499, 466.4378353189932, 408.8699531759907, 396.6172379809625, 356.9932680074036, 337.7318492058085, 299.04522111064745, 286.97282375623973, 262.1768157758136, 261.15944579514274, 260.0342817664672, 236.12935695562342, 234.26376770743605, 229.6708979209697, 219.2743201174416, 213.42285252963282, 1520.4556012070695, 1209.948725927989, 1103.1557467751766, 1052.7709917407578, 842.9031716628147, 747.9134613664788, 711.0043661088702, 567.1268162905309, 475.65059271192604, 472.948801904569, 434.91660121692576, 412.3917081574346, 402.57258873738806, 393.95569223937105, 391.7284318857656, 359.1895746961231, 351.7481679931536, 318.7018001865768, 311.3331941401143, 310.60679295864884, 294.13569677340297, 289.69304194500916, 278.63795164759165, 267.37217220188427, 256.53832819493954, 237.96313249828057, 231.98238057804738, 225.4256623899985, 223.61335879855432, 220.50179382610762, 6133.693257121972, 1237.1385796776253, 951.0421238470774, 911.0408654700584, 838.3261289345994, 520.7137233091713, 515.2461574148165, 449.22869644153036, 444.66518872078746, 399.5541629759882, 395.04055512638445, 389.6753593660218, 388.4937331591984, 359.59831485258144, 343.9633074947343, 315.4714749590887, 307.09857817457095, 287.8278374171398, 281.57069859610993, 276.4648382237347, 261.0967060695691, 253.28753045979857, 245.47232299747273, 245.11210830268715, 244.25714461081063, 240.64120322742363, 234.17706219370126, 220.24509356981392, 217.48927379767602, 191.41453481411097, 191.426564247332, 1028.182065191079, 942.9867761318001, 478.4139735755016, 473.87422809114685, 466.60800949938243, 466.34688660680547, 465.2210013466453, 452.05093870625666, 439.86671776352875, 438.90136539390414, 413.1854683789266, 401.1109880119261, 393.59588044675195, 344.850177644679, 341.4641669925723, 337.7993622313138, 325.59199962035086, 294.6239716978595, 288.0479583343412, 278.8311756060887, 274.9192556239284, 262.47185622496943, 260.2689219185606, 233.1703765350478, 224.16259821446477, 216.14541922677418, 211.15096316957877, 206.38740990381967, 191.32846661369246, 186.9197798894135, 2196.0076320889652, 1206.1741835551077, 868.5904878711176, 804.0210249799452, 618.2126358607658, 598.9228507083523, 573.7053922766919, 547.120260470665, 470.4264246668427, 379.3003912060046, 371.6927280731672, 348.24840370650435, 346.01780956987756, 331.82812626734625, 321.8503287870497, 298.5669655584901, 297.55035204451013, 293.5780668183418, 286.18656613693366, 270.85052702251227, 258.01554926842124, 250.55346198885343, 250.52987975726143, 247.61801047931328, 229.6726846918921, 228.6505638543088, 223.05736442599223, 222.31262698593994, 221.45772706416014, 219.46340351397927], \"Total\": [6134.0, 6305.0, 6022.0, 3380.0, 2528.0, 2196.0, 2146.0, 1521.0, 1545.0, 1324.0, 1207.0, 1237.0, 1252.0, 1210.0, 1177.0, 1165.0, 1156.0, 1224.0, 1204.0, 1103.0, 1116.0, 1110.0, 1029.0, 1053.0, 1026.0, 943.0, 951.0, 1215.0, 964.0, 947.0, 3380.119438500099, 1215.6930125037522, 1188.7514628744393, 1161.9444415718822, 1090.6803584399715, 1020.2000906693725, 998.1198374470226, 883.20318380885, 870.1041774566065, 806.9896756276323, 753.7845559779472, 747.829064229908, 741.1155413897262, 684.7654704912068, 659.5879337812294, 649.1891444916382, 635.6115784079651, 616.2990054955865, 608.868713291586, 552.7828586505401, 524.8861178581759, 518.8189113982346, 512.1430188368455, 466.71769667100165, 456.0812669014475, 455.074989980065, 447.50320181771036, 444.83343797778167, 441.5604057851069, 435.53323242861615, 6305.375831405971, 6022.050105298736, 1224.912393918572, 1204.4717215091353, 958.7899694769521, 757.4582176929548, 697.3916394628034, 493.4636769093632, 491.5679628593835, 401.4149558833615, 392.8849409386053, 379.1452772975375, 375.7171132121601, 369.78933938414826, 349.9894236772394, 328.26620110124554, 324.84067632754835, 320.16377678809573, 299.96285836426006, 298.8768709158516, 279.48273633790603, 278.3134445409974, 267.75468737094207, 267.5186633566675, 263.7092376921562, 263.2889731076557, 257.8667117894985, 253.9143566174228, 244.4650222929548, 240.91563924676325, 2528.0890221862333, 1545.0504863798442, 1324.7508533522725, 1252.0124826373942, 1156.72702744683, 964.6477744829369, 943.185787158664, 847.9232270676769, 827.5834495670315, 698.6844367013657, 668.0649489645307, 570.7277194928002, 467.3439714317207, 463.99143284166394, 430.0093453291315, 414.5030534762264, 395.2194774548394, 368.6156217599528, 365.6366324079543, 360.8722678379197, 350.8715440138236, 348.1232106045322, 338.20619545336876, 324.7438993892298, 322.5456387533985, 290.6488107513663, 285.8877987383068, 274.859753620493, 253.64662353532177, 245.3837892657762, 2146.0145984253404, 1177.9334129561648, 1165.296824800444, 1116.1687012787036, 1110.207218901735, 1026.894333255758, 947.1480603885973, 781.2960932014623, 732.9388318410867, 572.539809892699, 541.2520262214397, 527.5028025604468, 505.31732333079, 500.71854042313345, 497.98059713306446, 467.2698604985024, 409.70096342517326, 397.44850218942156, 357.8245842616095, 338.5632428314962, 299.87652828364367, 287.8043463548185, 263.0084367072653, 261.99184144481745, 260.86558440811876, 236.96075884981354, 235.09574850479333, 230.50275402986637, 220.10584065400266, 214.25423000796283, 1521.2830424486483, 1210.776064050757, 1103.9834694863146, 1053.598633186468, 843.7308784653651, 748.7410322245088, 711.8323063345285, 567.9542376233148, 476.47799509030796, 473.7763664202831, 435.74410602888537, 413.21935350156326, 403.4001020504056, 394.7834728923118, 392.55618642762954, 360.0173220092532, 352.5757892052704, 319.5290042775194, 312.1607264882112, 311.4348618413886, 294.9632598679351, 290.5203769985025, 279.4658242932365, 268.1997680919318, 257.3661460123993, 238.79053727692914, 232.8096546439921, 226.25381015961653, 224.44063118994058, 221.32950575902694, 6134.528753961755, 1237.974112702911, 951.8775404954479, 911.8763025500236, 839.16166976792, 521.5492890981483, 516.0817775135678, 450.06451429917706, 445.50079011586826, 400.39004964154356, 395.87604053848196, 390.5109098873564, 389.32919110427406, 360.43413756536796, 344.79896659730537, 316.3073038538453, 307.93424000604375, 288.6634770421146, 282.40638740007154, 277.30038815523585, 261.93234776309436, 254.12344875209075, 246.30815358250302, 245.94798434116723, 245.0929933276423, 241.477174861746, 235.01257468770913, 221.08084064875487, 218.32545522213562, 192.2498316252479, 192.2624144893721, 1029.0158441554966, 943.8206069938209, 479.2479340602565, 474.7080600493445, 467.441949463719, 467.18086939345454, 466.0551879283089, 452.885241909868, 440.7004143264925, 439.73568917862747, 414.019623193107, 401.94477818267734, 394.4302412716722, 345.6840702130485, 342.2979145942717, 338.63315586471015, 326.4269740239889, 295.4582948220934, 288.88184928367747, 279.665127258269, 275.7534421222695, 263.30603524581437, 261.1026704992529, 234.00441093323602, 224.99622478060328, 216.97950704182085, 211.9851735979167, 207.2216057041842, 192.16269032704457, 187.7535928016043, 2196.840695141152, 1207.0075406937551, 869.4237536143909, 804.8543116902696, 619.0458638578186, 599.7560583043993, 574.5385422464351, 547.9537223996801, 471.26001104453127, 380.1335223243773, 372.526483522332, 349.0816060074295, 346.851466706378, 332.6614348868746, 322.6832946618637, 299.40021307813595, 298.3840117060288, 294.4111949556106, 287.0200683881014, 271.68367927861937, 258.84868646511626, 251.38656704313033, 251.3633555423378, 248.45174872412886, 230.50627978460747, 229.48401808833628, 223.89055904047834, 223.14823089685558, 222.29093549729868, 220.29693198937017], \"Category\": [\"Default\", \"Default\", \"Default\", \"Default\", \"Default\", \"Default\", \"Default\", \"Default\", \"Default\", \"Default\", \"Default\", \"Default\", \"Default\", \"Default\", \"Default\", \"Default\", \"Default\", \"Default\", \"Default\", \"Default\", \"Default\", \"Default\", \"Default\", \"Default\", \"Default\", \"Default\", \"Default\", \"Default\", \"Default\", \"Default\", \"Topic1\", \"Topic1\", \"Topic1\", \"Topic1\", \"Topic1\", \"Topic1\", \"Topic1\", \"Topic1\", \"Topic1\", \"Topic1\", \"Topic1\", \"Topic1\", \"Topic1\", \"Topic1\", \"Topic1\", \"Topic1\", \"Topic1\", \"Topic1\", \"Topic1\", \"Topic1\", \"Topic1\", \"Topic1\", \"Topic1\", \"Topic1\", \"Topic1\", \"Topic1\", \"Topic1\", \"Topic1\", \"Topic1\", \"Topic1\", \"Topic2\", \"Topic2\", \"Topic2\", \"Topic2\", \"Topic2\", \"Topic2\", \"Topic2\", \"Topic2\", \"Topic2\", \"Topic2\", \"Topic2\", \"Topic2\", \"Topic2\", \"Topic2\", \"Topic2\", \"Topic2\", \"Topic2\", \"Topic2\", \"Topic2\", \"Topic2\", \"Topic2\", \"Topic2\", \"Topic2\", \"Topic2\", \"Topic2\", \"Topic2\", \"Topic2\", \"Topic2\", \"Topic2\", \"Topic2\", \"Topic3\", \"Topic3\", \"Topic3\", \"Topic3\", \"Topic3\", \"Topic3\", \"Topic3\", \"Topic3\", \"Topic3\", \"Topic3\", \"Topic3\", \"Topic3\", \"Topic3\", \"Topic3\", \"Topic3\", \"Topic3\", \"Topic3\", \"Topic3\", \"Topic3\", \"Topic3\", \"Topic3\", \"Topic3\", \"Topic3\", \"Topic3\", \"Topic3\", \"Topic3\", \"Topic3\", \"Topic3\", \"Topic3\", \"Topic3\", \"Topic4\", \"Topic4\", \"Topic4\", \"Topic4\", \"Topic4\", \"Topic4\", \"Topic4\", \"Topic4\", \"Topic4\", \"Topic4\", \"Topic4\", \"Topic4\", \"Topic4\", \"Topic4\", \"Topic4\", \"Topic4\", \"Topic4\", \"Topic4\", \"Topic4\", \"Topic4\", \"Topic4\", \"Topic4\", \"Topic4\", \"Topic4\", \"Topic4\", \"Topic4\", \"Topic4\", \"Topic4\", \"Topic4\", \"Topic4\", \"Topic5\", \"Topic5\", \"Topic5\", \"Topic5\", \"Topic5\", \"Topic5\", \"Topic5\", \"Topic5\", \"Topic5\", \"Topic5\", \"Topic5\", \"Topic5\", \"Topic5\", \"Topic5\", \"Topic5\", \"Topic5\", \"Topic5\", \"Topic5\", \"Topic5\", \"Topic5\", \"Topic5\", \"Topic5\", \"Topic5\", \"Topic5\", \"Topic5\", \"Topic5\", \"Topic5\", \"Topic5\", \"Topic5\", \"Topic5\", \"Topic6\", \"Topic6\", \"Topic6\", \"Topic6\", \"Topic6\", \"Topic6\", \"Topic6\", \"Topic6\", \"Topic6\", \"Topic6\", \"Topic6\", \"Topic6\", \"Topic6\", \"Topic6\", \"Topic6\", \"Topic6\", \"Topic6\", \"Topic6\", \"Topic6\", \"Topic6\", \"Topic6\", \"Topic6\", \"Topic6\", \"Topic6\", \"Topic6\", \"Topic6\", \"Topic6\", \"Topic6\", \"Topic6\", \"Topic6\", \"Topic6\", \"Topic7\", \"Topic7\", \"Topic7\", \"Topic7\", \"Topic7\", \"Topic7\", \"Topic7\", \"Topic7\", \"Topic7\", \"Topic7\", \"Topic7\", \"Topic7\", \"Topic7\", \"Topic7\", \"Topic7\", \"Topic7\", \"Topic7\", \"Topic7\", \"Topic7\", \"Topic7\", \"Topic7\", \"Topic7\", \"Topic7\", \"Topic7\", \"Topic7\", \"Topic7\", \"Topic7\", \"Topic7\", \"Topic7\", \"Topic7\", \"Topic8\", \"Topic8\", \"Topic8\", \"Topic8\", \"Topic8\", \"Topic8\", \"Topic8\", \"Topic8\", \"Topic8\", \"Topic8\", \"Topic8\", \"Topic8\", \"Topic8\", \"Topic8\", \"Topic8\", \"Topic8\", \"Topic8\", \"Topic8\", \"Topic8\", \"Topic8\", \"Topic8\", \"Topic8\", \"Topic8\", \"Topic8\", \"Topic8\", \"Topic8\", \"Topic8\", \"Topic8\", \"Topic8\", \"Topic8\"], \"logprob\": [30.0, 29.0, 28.0, 27.0, 26.0, 25.0, 24.0, 23.0, 22.0, 21.0, 20.0, 19.0, 18.0, 17.0, 16.0, 15.0, 14.0, 13.0, 12.0, 11.0, 10.0, 9.0, 8.0, 7.0, 6.0, 5.0, 4.0, 3.0, 2.0, 1.0, -2.8610000610351562, -3.8840999603271484, -3.9065001010894775, -3.92930006980896, -3.9927000999450684, -4.059500217437744, -4.081399917602539, -4.203800201416016, -4.218800067901611, -4.2941999435424805, -4.362500190734863, -4.3703999519348145, -4.37939977645874, -4.458600044250488, -4.496099948883057, -4.51200008392334, -4.533199787139893, -4.5640997886657715, -4.576200008392334, -4.672999858856201, -4.724899768829346, -4.736499786376953, -4.749499797821045, -4.84250020980835, -4.865600109100342, -4.867800235748291, -4.8846001625061035, -4.890600204467773, -4.8979997634887695, -4.911799907684326, -1.9426000118255615, -1.9886000156402588, -3.581700086593628, -3.5985000133514404, -3.8268001079559326, -4.06279993057251, -4.145500183105469, -4.4918999671936035, -4.495699882507324, -4.698699951171875, -4.720200061798096, -4.755899906158447, -4.764999866485596, -4.781000137329102, -4.836100101470947, -4.900300025939941, -4.910900115966797, -4.9253997802734375, -4.990799903869629, -4.9944000244140625, -5.061699867248535, -5.065899848937988, -5.104700088500977, -5.105599880218506, -5.119900226593018, -5.121500015258789, -5.142399787902832, -5.157899856567383, -5.196000099182129, -5.210599899291992, -2.7376999855041504, -3.230299949645996, -3.384200096130371, -3.440700054168701, -3.51990008354187, -3.70169997215271, -3.7242000102996826, -3.8308000564575195, -3.85509991645813, -4.024600028991699, -4.069399833679199, -4.227099895477295, -4.427299976348877, -4.434500217437744, -4.510700225830078, -4.547500133514404, -4.595200061798096, -4.66510009765625, -4.6732001304626465, -4.686399936676025, -4.7144999504089355, -4.722400188446045, -4.751399993896484, -4.792099952697754, -4.798900127410889, -4.903299808502197, -4.919899940490723, -4.9593000411987305, -5.039899826049805, -5.0731000900268555, -2.884000062942505, -3.4842000007629395, -3.494999885559082, -3.538100004196167, -3.5434999465942383, -3.621500015258789, -3.702500104904175, -3.8951001167297363, -3.9591000080108643, -4.206399917602539, -4.262700080871582, -4.28849983215332, -4.331500053405762, -4.34060001373291, -4.346099853515625, -4.409900188446045, -4.541600227355957, -4.5721001625061035, -4.677299976348877, -4.732800006866455, -4.854400157928467, -4.895599842071533, -4.986000061035156, -4.9899001121521, -4.994200229644775, -5.090700149536133, -5.098599910736084, -5.1184000968933105, -5.164700031280518, -5.191800117492676, -3.2046000957489014, -3.433000087738037, -3.5255000591278076, -3.572200059890747, -3.7945001125335693, -3.914099931716919, -3.9646999835968018, -4.190800189971924, -4.366700172424316, -4.372399806976318, -4.456200122833252, -4.509399890899658, -4.5335001945495605, -4.555099964141846, -4.560800075531006, -4.647500038146973, -4.668499946594238, -4.767099857330322, -4.790500164031982, -4.792900085449219, -4.847300052642822, -4.862599849700928, -4.901500225067139, -4.942699909210205, -4.984099864959717, -5.059299945831299, -5.084700107574463, -5.113399982452393, -5.121500015258789, -5.135499954223633, -1.791700005531311, -3.392699956893921, -3.6556999683380127, -3.6986000537872314, -3.7818000316619873, -4.257999897003174, -4.268599987030029, -4.405700206756592, -4.415900230407715, -4.522900104522705, -4.534200191497803, -4.547900199890137, -4.551000118255615, -4.628200054168701, -4.672699928283691, -4.759200096130371, -4.786099910736084, -4.850900173187256, -4.872799873352051, -4.89109992980957, -4.948299884796143, -4.978700160980225, -5.010000228881836, -5.011499881744385, -5.014999866485596, -5.029900074005127, -5.057199954986572, -5.118500232696533, -5.131100177764893, -5.258800029754639, -5.258699893951416, -3.5445001125335693, -3.63100004196167, -4.309599876403809, -4.3190999031066895, -4.33459997177124, -4.335100173950195, -4.337600231170654, -4.366300106048584, -4.393599987030029, -4.3958001136779785, -4.456200122833252, -4.485799789428711, -4.504799842834473, -4.63700008392334, -4.6468000411987305, -4.657599925994873, -4.694399833679199, -4.794400215148926, -4.81689977645874, -4.8495001792907715, -4.86359977722168, -4.909900188446045, -4.918399810791016, -5.028299808502197, -5.067699909210205, -5.104100227355957, -5.127500057220459, -5.150300025939941, -5.226099967956543, -5.2494001388549805, -2.7507998943328857, -3.3499999046325684, -3.6784000396728516, -3.7555999755859375, -4.018400192260742, -4.050099849700928, -4.093100070953369, -4.140600204467773, -4.291600227355957, -4.506899833679199, -4.527200222015381, -4.592299938201904, -4.598800182342529, -4.640600204467773, -4.671199798583984, -4.746200084686279, -4.74970006942749, -4.7631001472473145, -4.788599967956543, -4.843699932098389, -4.892199993133545, -4.921599864959717, -4.9217000007629395, -4.9334001541137695, -5.008600234985352, -5.013000011444092, -5.037799835205078, -5.041200160980225, -5.045000076293945, -5.054100036621094], \"loglift\": [30.0, 29.0, 28.0, 27.0, 26.0, 25.0, 24.0, 23.0, 22.0, 21.0, 20.0, 19.0, 18.0, 17.0, 16.0, 15.0, 14.0, 13.0, 12.0, 11.0, 10.0, 9.0, 8.0, 7.0, 6.0, 5.0, 4.0, 3.0, 2.0, 1.0, 1.704, 1.7036, 1.7036, 1.7036, 1.7035, 1.7035, 1.7034, 1.7033, 1.7033, 1.7032, 1.7032, 1.7032, 1.7032, 1.7031, 1.703, 1.703, 1.703, 1.7029, 1.7029, 1.7028, 1.7027, 1.7027, 1.7027, 1.7025, 1.7025, 1.7025, 1.7024, 1.7024, 1.7024, 1.7024, 1.999, 1.999, 1.9984, 1.9984, 1.9982, 1.998, 1.9979, 1.9974, 1.9974, 1.997, 1.997, 1.9969, 1.9969, 1.9969, 1.9967, 1.9966, 1.9965, 1.9965, 1.9963, 1.9963, 1.9961, 1.9961, 1.996, 1.996, 1.9959, 1.9959, 1.9959, 1.9958, 1.9957, 1.9957, 2.1178, 2.1176, 2.1175, 2.1175, 2.1174, 2.1173, 2.1173, 2.1172, 2.1172, 2.117, 2.1169, 2.1167, 2.1164, 2.1164, 2.1162, 2.1162, 2.1161, 2.1159, 2.1159, 2.1159, 2.1158, 2.1158, 2.1157, 2.1156, 2.1156, 2.1153, 2.1152, 2.1151, 2.1149, 2.1148, 2.1353, 2.135, 2.135, 2.135, 2.135, 2.1349, 2.1348, 2.1346, 2.1346, 2.1343, 2.1342, 2.1341, 2.1341, 2.134, 2.134, 2.1339, 2.1337, 2.1336, 2.1334, 2.1333, 2.1329, 2.1328, 2.1325, 2.1325, 2.1325, 2.1322, 2.1322, 2.1321, 2.1319, 2.1318, 2.1588, 2.1587, 2.1586, 2.1586, 2.1584, 2.1583, 2.1582, 2.1579, 2.1576, 2.1576, 2.1575, 2.1574, 2.1573, 2.1573, 2.1572, 2.1571, 2.157, 2.1568, 2.1567, 2.1567, 2.1565, 2.1565, 2.1564, 2.1563, 2.1561, 2.1559, 2.1558, 2.1557, 2.1557, 2.1556, 2.1774, 2.1768, 2.1766, 2.1766, 2.1765, 2.1759, 2.1759, 2.1757, 2.1756, 2.1754, 2.1754, 2.1754, 2.1754, 2.1752, 2.1751, 2.1749, 2.1748, 2.1746, 2.1745, 2.1745, 2.1743, 2.1742, 2.1741, 2.1741, 2.1741, 2.174, 2.1739, 2.1737, 2.1737, 2.1732, 2.1732, 2.2099, 2.2098, 2.2089, 2.2089, 2.2089, 2.2089, 2.2089, 2.2088, 2.2088, 2.2088, 2.2086, 2.2086, 2.2085, 2.2082, 2.2082, 2.2082, 2.2081, 2.2078, 2.2078, 2.2077, 2.2076, 2.2075, 2.2075, 2.2071, 2.207, 2.2068, 2.2067, 2.2066, 2.2063, 2.2062, 2.2451, 2.2448, 2.2445, 2.2445, 2.2441, 2.2441, 2.244, 2.244, 2.2437, 2.2433, 2.2433, 2.2431, 2.2431, 2.243, 2.2429, 2.2427, 2.2427, 2.2427, 2.2426, 2.2424, 2.2423, 2.2422, 2.2422, 2.2421, 2.2419, 2.2419, 2.2418, 2.2417, 2.2417, 2.2417]}, \"token.table\": {\"Topic\": [2, 3, 8, 7, 3, 8, 3, 3, 3, 8, 7, 2, 3, 4, 3, 6, 4, 2, 3, 1, 1, 7, 4, 1, 1, 1, 3, 1, 7, 3, 6, 1, 7, 5, 4, 7, 3, 2, 2, 7, 8, 5, 3, 5, 3, 6, 1, 2, 6, 2, 7, 8, 7, 6, 5, 1, 4, 8, 7, 4, 6, 7, 3, 3, 1, 5, 6, 2, 4, 6, 5, 2, 8, 2, 5, 4, 5, 5, 2, 4, 2, 3, 4, 4, 8, 2, 1, 5, 7, 2, 7, 6, 6, 6, 8, 3, 7, 2, 2, 6, 4, 1, 2, 5, 4, 6, 7, 2, 4, 6, 5, 8, 8, 4, 6, 4, 2, 2, 5, 7, 8, 8, 4, 8, 8, 4, 5, 3, 7, 5, 5, 1, 7, 6, 1, 2, 5, 5, 6, 1, 1, 2, 7, 7, 3, 1, 1, 6, 3, 3, 3, 1, 8, 2, 1, 4, 8, 3, 1, 6, 3, 5, 7, 6, 4, 8, 5, 7, 7, 6, 4, 5, 4, 5, 3, 1, 6, 4, 3, 7, 8, 6, 5, 1, 2, 8, 8, 6, 4, 1, 4, 2, 6, 2, 6, 7, 8, 8, 1, 2, 6, 7, 8, 7, 1, 7, 1, 3, 5, 5, 3, 4, 6, 1, 7, 4, 8, 7, 2, 3, 4, 8, 3, 5, 8, 8, 5, 2, 6, 1, 8, 4, 4, 2, 5, 1, 5, 5, 6, 6, 8], \"Freq\": [0.9966389155719875, 0.9983083362853475, 0.9969015668863215, 0.9990128002777934, 0.998911190260857, 0.9980116875071512, 0.997709273705745, 0.9993714788108351, 0.9974506913346247, 0.9981817446387529, 0.9975372587771487, 0.9980612068326015, 0.9987249270222113, 0.9941460665307928, 0.9975828903585591, 0.9986916885689474, 0.9991290893066646, 0.998091348019713, 0.999328486002796, 0.9988236712774794, 0.9991086347231083, 0.9962082310790292, 0.9987190856858704, 0.998168261897587, 0.9988780531104492, 0.9993678553525207, 0.996773525664716, 0.9976377739850918, 0.9969473704012068, 0.9968720279736549, 0.9979038641535075, 0.9977681647610047, 0.9991305477039385, 0.9993590358499815, 0.9976867962413365, 0.9959862669450986, 0.9991913158603168, 0.9971729897811088, 0.9982727507815639, 0.9984106792194355, 0.999165257332878, 0.9983669065690295, 0.998742785170421, 0.9990102956928817, 0.9984359632438453, 0.9939289936632124, 0.9987756791240872, 0.9967900747128806, 0.9953105433285298, 0.9991760766152121, 0.9986919768953973, 0.9985544609652675, 0.9989092082029891, 0.9976347517625674, 0.9966894112055523, 0.9987309824671408, 0.9992075842777715, 0.9964460032574375, 0.9976217011223756, 0.9953391394282445, 0.9977015552888328, 0.9981302602720831, 0.9984059200139428, 0.9990203922322972, 0.9984215852964426, 0.9962816383045064, 0.999913806914441, 0.9999403950825422, 0.9990571661858758, 0.9986156782301064, 0.9988307550428354, 0.9951043407080757, 0.9982594836740893, 0.9973105314839819, 0.9965222462735481, 0.9972823830384702, 0.9991337540393277, 0.9967343055932919, 0.997066113168394, 0.9961657628938052, 0.9996083581700497, 0.9993200957579674, 0.9989126184002576, 0.9989529349126484, 0.9986033311142513, 0.9994384224865314, 0.9996688168804485, 0.9985831673353794, 0.9957768700827744, 0.9993950587870702, 0.9953526297089751, 0.9990780951770423, 0.9987955148524487, 0.9976828045478497, 0.9970180942805407, 0.9992949960909239, 0.9985084305303961, 0.9990603626344552, 0.9952807003514919, 0.99468895542646, 0.9980308527305886, 0.9990378110960518, 0.9992551353687809, 0.997174241496005, 0.9976955628599106, 0.9964405016369432, 0.9974723507086503, 0.9971814223745165, 0.9962142277433232, 0.9977870837111275, 0.9983444248552161, 0.9974835467465889, 0.9941128004931419, 0.9949758686515684, 0.9985609836809539, 0.998871546409281, 0.996398956602519, 0.9961993366241144, 0.9983331618654462, 0.9941048342906478, 0.9941925859711254, 0.9987393903005553, 0.9970770360432658, 0.9985867218959738, 0.9983105228241071, 0.9978188805943671, 0.9982088106731832, 0.9969144297677516, 0.9972676964012821, 0.99704913748296, 0.9983613230306334, 0.9989591774311039, 0.9950398582979874, 0.998875893989463, 0.9993762073051864, 0.9963650579095149, 0.9985773342062569, 0.9986036828413574, 0.9958669817676755, 0.9987736204594407, 0.9988821420994582, 0.9969793180447853, 0.9983269741421225, 0.9955722600164749, 0.9968945903175132, 0.9987308513676391, 0.9981264043872905, 0.993498919532558, 0.9978632518372332, 0.9976527362949311, 0.9975160595702532, 0.9983117902569194, 0.9996173162928875, 0.9978654349920881, 0.9994299444871161, 0.9972052320786466, 0.9978908418443764, 0.9982588385530146, 0.998875534709771, 0.9990390115988615, 0.9995692310766449, 0.998511243415572, 0.9939494481209346, 0.9934338987018084, 0.9990468248547568, 0.9973262933094228, 0.9991091628511682, 0.9976494826305519, 0.9980211115524447, 0.9965859454296144, 0.9985649813914894, 0.9994318204602661, 0.9959454938679426, 0.99801543644527, 0.9983299086538615, 0.9988913720132532, 0.9955791220463613, 0.9973930770429423, 0.996433550095817, 0.9954857163463273, 0.9967213027938984, 0.9955404954144031, 0.9989968160224957, 0.9976292231671924, 0.9988445893502096, 0.9995126040522482, 0.9948544028682607, 0.999025825836849, 0.9982890852408228, 0.9978922479445802, 0.9966818758017364, 0.9961427612803335, 0.9989468126797794, 0.9977475824436254, 0.9980239338893243, 0.9980453284233003, 0.9990626525344507, 0.9978824603778149, 0.9984947807360316, 0.9974120349180019, 0.9969661054710076, 0.9977359163557445, 0.9978036182568191, 0.9957077264944267, 0.9985732338144135, 0.9984488679785776, 0.9991871887001718, 0.9977677157883804, 0.995526587884593, 0.9944583909604351, 0.9987863696732568, 0.9987878765352417, 0.9992131396828774, 0.9984622467154752, 0.9973960575068445, 0.9983410985761475, 0.9984622605428873, 0.99905453615315, 0.9998256232876888, 0.9994332116485356, 0.999527217370243, 0.998663283923477, 0.9992639865864388, 0.9991566050413715, 0.9975451546609754, 0.9989385511416651, 0.999008175634136, 0.9980977962058001, 0.9961455901185503, 0.9986377044026707, 0.9960223466130284, 0.9988871292079028, 0.9983363733558739, 0.9989662670080433, 0.9980367583730074, 0.998583786312674, 0.9983198688202275, 0.9982923325442845, 0.9956914020917618, 0.9951111066631411, 0.9987130285438781], \"Term\": [\"accelerer\", \"actions\", \"affaire\", \"agir\", \"agriculture\", \"aider\", \"aides\", \"air\", \"ameliorer\", \"amenagement\", \"animaux\", \"ans\", \"arreter\", \"arretons\", \"autres\", \"avant\", \"avenir\", \"b\", \"bio\", \"biodiversite\", \"bon\", \"camions\", \"carbone\", \"chacun\", \"changement\", \"changer\", \"chaque\", \"chasse\", \"chauffage\", \"circuits\", \"citoyen\", \"citoyens\", \"climat\", \"climatique\", \"co\", \"collective\", \"commun\", \"comportements\", \"compte\", \"conscience\", \"consommation\", \"consommer\", \"contre\", \"contribution\", \"courts\", \"co\\u00fbt\", \"creer\", \"croissance\", \"debat\", \"dechets\", \"decisions\", \"decroissance\", \"demain\", \"deplacements\", \"dereglement\", \"developpement\", \"developper\", \"diesel\", \"diminuer\", \"diminution\", \"doivent\", \"donner\", \"durable\", \"eau\", \"eco\", \"ecolo\", \"ecologie\", \"ecologique\", \"ecologiques\", \"economie\", \"economique\", \"ecotaxe\", \"education\", \"eduquer\", \"effet\", \"electricite\", \"electrique\", \"electriques\", \"emballages\", \"emissions\", \"energetique\", \"energie\", \"energies\", \"enfants\", \"ensemble\", \"entreprises\", \"environnement\", \"environnementale\", \"eolien\", \"etat\", \"etrangers\", \"etre\", \"europe\", \"europeenne\", \"exemple\", \"favoriser\", \"ferroutage\", \"fin\", \"financement\", \"financer\", \"fiscalite\", \"fran\", \"france\", \"gaz\", \"generations\", \"globale\", \"grand\", \"grandes\", \"gratuite\", \"gros\", \"h\", \"halte\", \"heure\", \"homme\", \"humaine\", \"idees\", \"impact\", \"imposer\", \"inciter\", \"individuel\", \"industriels\", \"interdire\", \"investir\", \"isolation\", \"limiter\", \"logements\", \"lutte\", \"lutter\", \"meme\", \"mesures\", \"mettre\", \"mieux\", \"mise\", \"modele\", \"monde\", \"mondiale\", \"moteur\", \"national\", \"nationale\", \"nature\", \"nucleaire\", \"obligatoire\", \"oui\", \"panneaux\", \"particuliers\", \"payer\", \"payeur\", \"payeurs\", \"pays\", \"pesticides\", \"place\", \"plan\", \"planete\", \"plastique\", \"politique\", \"politiques\", \"polluantes\", \"polluants\", \"pollueur\", \"pollueurs\", \"pollution\", \"population\", \"positive\", \"possible\", \"prendre\", \"preserver\", \"priorite\", \"prise\", \"prix\", \"probleme\", \"production\", \"produits\", \"projet\", \"proposition\", \"propre\", \"protection\", \"publics\", \"punitive\", \"qualite\", \"quand\", \"quelques\", \"quotidien\", \"rechauffement\", \"recherche\", \"recyclage\", \"reduire\", \"reellement\", \"rendre\", \"renouvelables\", \"respect\", \"respecter\", \"responsabilite\", \"responsable\", \"responsables\", \"rien\", \"sante\", \"sauver\", \"sauvons\", \"sens\", \"service\", \"sociale\", \"societe\", \"sols\", \"solution\", \"solutions\", \"sortir\", \"stop\", \"supprimer\", \"systeme\", \"tard\", \"taxation\", \"taxe\", \"taxer\", \"taxes\", \"temps\", \"terre\", \"toute\", \"toutes\", \"transition\", \"transport\", \"transports\", \"tri\", \"tva\", \"urgence\", \"utiliser\", \"vehicules\", \"velo\", \"vente\", \"veritable\", \"vers\", \"verte\", \"vie\", \"ville\", \"villes\", \"vite\", \"vivre\", \"voiture\", \"voitures\", \"vrai\", \"vraiment\", \"vrais\"]}, \"R\": 30, \"lambda.step\": 0.01, \"plot.opts\": {\"xlab\": \"PC1\", \"ylab\": \"PC2\"}, \"topic.order\": [7, 8, 6, 1, 4, 2, 3, 5]};\n",
              "\n",
              "function LDAvis_load_lib(url, callback){\n",
              "  var s = document.createElement('script');\n",
              "  s.src = url;\n",
              "  s.async = true;\n",
              "  s.onreadystatechange = s.onload = callback;\n",
              "  s.onerror = function(){console.warn(\"failed to load library \" + url);};\n",
              "  document.getElementsByTagName(\"head\")[0].appendChild(s);\n",
              "}\n",
              "\n",
              "if(typeof(LDAvis) !== \"undefined\"){\n",
              "   // already loaded: just create the visualization\n",
              "   !function(LDAvis){\n",
              "       new LDAvis(\"#\" + \"ldavis_el561404308894672406232835197\", ldavis_el561404308894672406232835197_data);\n",
              "   }(LDAvis);\n",
              "}else if(typeof define === \"function\" && define.amd){\n",
              "   // require.js is available: use it to load d3/LDAvis\n",
              "   require.config({paths: {d3: \"https://cdnjs.cloudflare.com/ajax/libs/d3/3.5.5/d3.min\"}});\n",
              "   require([\"d3\"], function(d3){\n",
              "      window.d3 = d3;\n",
              "      LDAvis_load_lib(\"https://cdn.rawgit.com/bmabey/pyLDAvis/files/ldavis.v1.0.0.js\", function(){\n",
              "        new LDAvis(\"#\" + \"ldavis_el561404308894672406232835197\", ldavis_el561404308894672406232835197_data);\n",
              "      });\n",
              "    });\n",
              "}else{\n",
              "    // require.js not available: dynamically load d3 & LDAvis\n",
              "    LDAvis_load_lib(\"https://cdnjs.cloudflare.com/ajax/libs/d3/3.5.5/d3.min.js\", function(){\n",
              "         LDAvis_load_lib(\"https://cdn.rawgit.com/bmabey/pyLDAvis/files/ldavis.v1.0.0.js\", function(){\n",
              "                 new LDAvis(\"#\" + \"ldavis_el561404308894672406232835197\", ldavis_el561404308894672406232835197_data);\n",
              "            })\n",
              "         });\n",
              "}\n",
              "</script>"
            ],
            "text/plain": [
              "PreparedData(topic_coordinates=              x         y  topics  cluster       Freq\n",
              "topic                                                \n",
              "6     -0.397505  0.012609       1        1  18.190464\n",
              "7      0.071201  0.375431       2        1  13.545730\n",
              "5      0.064433 -0.115465       3        1  12.025206\n",
              "0      0.053620 -0.081775       4        1  11.816066\n",
              "3      0.047069 -0.055849       5        1  11.539911\n",
              "1      0.049985 -0.038548       6        1  11.332338\n",
              "2      0.054443 -0.057379       7        1  10.962780\n",
              "4      0.056754 -0.039023       8        1  10.587505, topic_info=               Term         Freq        Total Category  logprob  loglift\n",
              "7          ecologie  6134.000000  6134.000000  Default  30.0000  30.0000\n",
              "0        ecologique  6305.000000  6305.000000  Default  29.0000  29.0000\n",
              "1        transition  6022.000000  6022.000000  Default  28.0000  28.0000\n",
              "27    environnement  3380.000000  3380.000000  Default  27.0000  27.0000\n",
              "6         pollution  2528.000000  2528.000000  Default  26.0000  26.0000\n",
              "...             ...          ...          ...      ...      ...      ...\n",
              "478      polluantes   228.650564   229.484018   Topic8  -5.0130   2.2419\n",
              "347           verte   223.057364   223.890559   Topic8  -5.0378   2.2418\n",
              "1023     reellement   222.312627   223.148231   Topic8  -5.0412   2.2417\n",
              "662     industriels   221.457727   222.290935   Topic8  -5.0450   2.2417\n",
              "1779          heure   219.463404   220.296932   Topic8  -5.0541   2.2417\n",
              "\n",
              "[271 rows x 6 columns], token_table=      Topic      Freq         Term\n",
              "term                              \n",
              "860       2  0.996639    accelerer\n",
              "866       3  0.998308      actions\n",
              "1852      8  0.996902      affaire\n",
              "480       7  0.999013         agir\n",
              "88        3  0.998911  agriculture\n",
              "...     ...       ...          ...\n",
              "761       5  0.998320      voiture\n",
              "781       5  0.998292     voitures\n",
              "1199      6  0.995691         vrai\n",
              "173       6  0.995111     vraiment\n",
              "690       8  0.998713        vrais\n",
              "\n",
              "[241 rows x 3 columns], R=30, lambda_step=0.01, plot_opts={'xlab': 'PC1', 'ylab': 'PC2'}, topic_order=[7, 8, 6, 1, 4, 2, 3, 5])"
            ]
          },
          "metadata": {
            "tags": []
          },
          "execution_count": 9
        }
      ]
    },
    {
      "cell_type": "markdown",
      "metadata": {
        "id": "BrY4t_AVy9wd"
      },
      "source": [
        "on peut voir les different cluster quir represente les topic et ainsi  la frequence elvee des terms ...  ecologie , pollution, envirenment"
      ]
    },
    {
      "cell_type": "markdown",
      "metadata": {
        "id": "i9BvCHoSQnIP"
      },
      "source": [
        "## Topic Modeling For Problems column"
      ]
    },
    {
      "cell_type": "code",
      "metadata": {
        "colab": {
          "base_uri": "https://localhost:8080/"
        },
        "id": "-GJoQx2FQtPr",
        "outputId": "e862ce93-215a-4493-fa31-d3abfcbe214a"
      },
      "source": [
        "cleaned_problems = cleaned_data['problems']\n",
        "cleaned_problems.fillna('',inplace=True)\n",
        "lda_model, corpus, id2word = tpc.get_topics(cleaned_problems, n_topics=5)"
      ],
      "execution_count": 10,
      "outputs": [
        {
          "output_type": "stream",
          "text": [
            "[(0,\n",
            "  '0.021*\"problemes\" + 0.018*\"importants\" + 0.014*\"lies\" + 0.012*\"ressources\" '\n",
            "  '+ 0.011*\"autres\" + 0.007*\"propositions\" + 0.006*\"produits\" + 0.006*\"points\" '\n",
            "  '+ 0.006*\"naturelles\" + 0.005*\"planete\"'),\n",
            " (1,\n",
            "  '0.398*\"pollution\" + 0.359*\"air\" + 0.026*\"eau\" + 0.014*\"sols\" + '\n",
            "  '0.009*\"energie\" + 0.007*\"fois\" + 0.006*\"impossible\" + 0.005*\"degradation\" + '\n",
            "  '0.005*\"cause\" + 0.005*\"urgence\"'),\n",
            " (2,\n",
            "  '0.252*\"biodiversite\" + 0.238*\"disparition\" + 0.235*\"especes\" + '\n",
            "  '0.225*\"certaines\" + 0.000*\"accelerant\" + 0.000*\"ruralite\" + '\n",
            "  '0.000*\"entrepreneuriat\" + 0.000*\"obsolescence\" + 0.000*\"programmee\" + '\n",
            "  '0.000*\"obsolesence\"'),\n",
            " (3,\n",
            "  '0.024*\"climatique\" + 0.020*\"dechets\" + 0.016*\"probleme\" + 0.016*\"erosion\" + '\n",
            "  '0.016*\"toutes\" + 0.015*\"environnement\" + 0.014*\"dereglement\" + '\n",
            "  '0.014*\"littoral\" + 0.013*\"important\" + 0.013*\"etre\"'),\n",
            " (4,\n",
            "  '0.249*\"climatiques\" + 0.248*\"dereglements\" + 0.233*\"secheresse\" + '\n",
            "  '0.233*\"crue\" + 0.000*\"analyser\" + 0.000*\"tremblements\" + 0.000*\"disparite\" '\n",
            "  '+ 0.000*\"diminue\" + 0.000*\"littioral\" + 0.000*\"anticipees\"')]\n",
            "\n",
            "Perplexity:  -5.505307914113775\n",
            "\n",
            "Coherence Score:  0.48950331354203114\n"
          ],
          "name": "stdout"
        }
      ]
    },
    {
      "cell_type": "code",
      "metadata": {
        "colab": {
          "base_uri": "https://localhost:8080/",
          "height": 861
        },
        "id": "d9WmoGFDAX40",
        "outputId": "5b316e49-abc7-4974-e757-71095c723ad0"
      },
      "source": [
        "pyLDAvis.enable_notebook()\n",
        "vis = pyLDAvis.gensim.prepare(lda_model, corpus, id2word)\n",
        "vis"
      ],
      "execution_count": 11,
      "outputs": [
        {
          "output_type": "execute_result",
          "data": {
            "text/html": [
              "\n",
              "<link rel=\"stylesheet\" type=\"text/css\" href=\"https://cdn.rawgit.com/bmabey/pyLDAvis/files/ldavis.v1.0.0.css\">\n",
              "\n",
              "\n",
              "<div id=\"ldavis_el56140430889466880768806687\"></div>\n",
              "<script type=\"text/javascript\">\n",
              "\n",
              "var ldavis_el56140430889466880768806687_data = {\"mdsDat\": {\"x\": [-0.197895035398186, 0.33373870775413106, -0.21294180497142937, 0.17791705076214548, -0.10081891814666136], \"y\": [0.042602479006047245, 0.2659975413027297, 0.04851582667727779, -0.3803450364445217, 0.023229189458467102], \"topics\": [1, 2, 3, 4, 5], \"cluster\": [1, 1, 1, 1, 1], \"Freq\": [24.50588105898499, 23.573062490175733, 22.139768528721262, 17.310472531103212, 12.470815391014815]}, \"tinfo\": {\"Term\": [\"pollution\", \"air\", \"climatiques\", \"dereglements\", \"secheresse\", \"crue\", \"biodiversite\", \"disparition\", \"especes\", \"certaines\", \"climatique\", \"eau\", \"dechets\", \"importants\", \"problemes\", \"probleme\", \"erosion\", \"toutes\", \"environnement\", \"lies\", \"dereglement\", \"littoral\", \"important\", \"etre\", \"ensemble\", \"lie\", \"ressources\", \"sols\", \"autres\", \"terre\", \"importants\", \"lies\", \"ressources\", \"autres\", \"propositions\", \"produits\", \"points\", \"naturelles\", \"consequences\", \"choisir\", \"themes\", \"pays\", \"tres\", \"donc\", \"entre\", \"monde\", \"compte\", \"ecologie\", \"gaspillage\", \"humaine\", \"plastiques\", \"cette\", \"etat\", \"quatre\", \"nucleaire\", \"france\", \"effet\", \"destruction\", \"dont\", \"uns\", \"problemes\", \"planete\", \"climatiques\", \"dereglements\", \"secheresse\", \"crue\", \"analyser\", \"disparite\", \"commis\", \"ravages\", \"biodiversute\", \"tremblements\", \"primmordiaux\", \"devastatrice\", \"ement\", \"intim\", \"chaleurs\", \"disparisation\", \"permanents\", \"certaies\", \"expeces\", \"assitance\", \"boidiversite\", \"demolition\", \"indiscociables\", \"phenomenales\", \"diparition\", \"agfecte\", \"perceptibles\", \"exiles\", \"multicriteres\", \"violentes\", \"rencontrent\", \"incendie\", \"littolra\", \"littioral\", \"cmr\", \"animalel\", \"epuisements\", \"confondues\", \"perturbe\", \"possiblites\", \"diminue\", \"caraibe\", \"cyclonique\", \"incidents\", \"antillaises\", \"cataclysmiques\", \"boulversements\", \"refaire\", \"essances\", \"pied\", \"perceptible\", \"erosions\", \"agrochimie\", \"style\", \"apportent\", \"capitalocene\", \"cantonner\", \"polluait\", \"anticipees\", \"intoxications\", \"transferts\", \"longues\", \"scot\", \"territoriale\", \"parvenir\", \"domination\", \"nettes\", \"climatqiues\", \"inondation\", \"deces\", \"schema\", \"climatique\", \"dechets\", \"probleme\", \"erosion\", \"toutes\", \"environnement\", \"dereglement\", \"littoral\", \"important\", \"etre\", \"ensemble\", \"lie\", \"terre\", \"rechauffement\", \"meme\", \"consommation\", \"ci\", \"oceans\", \"vie\", \"pesticides\", \"dessus\", \"pollutions\", \"global\", \"nature\", \"autre\", \"etc\", \"reponses\", \"surconsommation\", \"sante\", \"production\", \"problemes\", \"planete\", \"biodiversite\", \"disparition\", \"especes\", \"certaines\", \"entrepreneuriat\", \"ruralite\", \"programmee\", \"obsolesence\", \"obsolescence\", \"accelerant\", \"incidents\", \"decalage\", \"saisons\", \"polinisateurs\", \"littolra\", \"secumule\", \"disparite\", \"diminue\", \"duchesse\", \"asiatiques\", \"motocycles\", \"auuuuttre\", \"slovenes\", \"pyreneens\", \"stupidite\", \"dissuader\", \"deregements\", \"surnatalite\", \"risquer\", \"reconquete\", \"menons\", \"emmenent\", \"embarque\", \"quatrieme\", \"littioral\", \"climatqiues\", \"deregelement\", \"lot\", \"anticipees\", \"intoxications\", \"refaire\", \"consummeristes\", \"fonciere\", \"limitant\", \"sordide\", \"devastatrices\", \"clim\", \"pollution\", \"air\", \"energie\", \"fois\", \"impossible\", \"degradation\", \"cause\", \"urgence\", \"mers\", \"agricoles\", \"industriels\", \"industrielle\", \"sauvages\", \"faune\", \"bruit\", \"urgent\", \"demographie\", \"activites\", \"lumineuse\", \"potable\", \"flore\", \"humaines\", \"generale\", \"cours\", \"sonore\", \"aliments\", \"prioritaire\", \"elevages\", \"generalisee\", \"douce\", \"eau\", \"sols\", \"terres\"], \"Freq\": [19404.0, 17499.0, 22970.0, 22907.0, 21514.0, 21480.0, 17082.0, 16144.0, 15945.0, 15249.0, 2095.0, 1667.0, 1699.0, 1685.0, 2811.0, 1399.0, 1360.0, 1347.0, 1311.0, 1347.0, 1249.0, 1170.0, 1121.0, 1109.0, 1087.0, 1080.0, 1154.0, 1015.0, 1014.0, 896.0, 1684.4536087588763, 1347.236914023357, 1154.194698848578, 1013.6670598991356, 661.7209162800967, 601.7231209694105, 536.722213525038, 534.9270944452456, 485.97476762773965, 456.12483084098125, 446.92376305747575, 442.13634733284016, 440.60384041663303, 439.3325618501286, 435.572203861303, 434.9268109221366, 436.7261707218917, 431.1623461308208, 424.04302545742917, 405.8564523819962, 401.1043462309448, 395.7107753865872, 387.40222291818014, 385.8016859259397, 379.6622393988783, 378.38386320633106, 367.9695254414952, 364.72448188687474, 356.29625183720435, 350.72276286853423, 1982.7383515571896, 503.8030221859027, 22970.040493840253, 22906.248883391785, 21513.632339180072, 21479.463120504315, 7.85169183556745, 3.1186212255858017, 1.3838257151082765, 1.3836895149101132, 0.23439412520439284, 5.861148751268272, 0.28339229326105553, 0.22985209181029, 0.20105491238131795, 0.20105491238131795, 0.20079939024230706, 0.19911410149105102, 0.20328795824110435, 0.19858731116179454, 0.19868197617021616, 0.1981335690915283, 0.198169527117983, 0.198169527117983, 0.19807825872780377, 0.19893519196350692, 0.19806532222499176, 0.1980451521833303, 0.19803399785675657, 0.19803311725202707, 0.19802464667320044, 0.19802359833423672, 0.2034648130242796, 0.20287340308130097, 1.3207625912123235, 2.392311527961676, 0.21696324648758936, 0.2410492954476147, 0.2960347998940672, 0.26128900971662417, 0.6315688733286575, 0.20857544450551105, 2.4218602615937206, 0.5388793548502295, 0.5388793548502295, 1.483347132812426, 0.5388731486835644, 0.3026778094053102, 0.30267732716938694, 1.0627368510218878, 0.26262337748317305, 1.5795316456615773, 1.3479930699936127, 1.2223150919425827, 0.8094390356905969, 0.7557830347179018, 1.3840498080451558, 0.5292745571319775, 0.5202837925115407, 0.5202837925115407, 1.7331154843878671, 1.7331154843878671, 0.5311504548736125, 1.1394110209526305, 1.0014127956660284, 1.0014127956660284, 1.0014116215263889, 1.0007619868373667, 0.9999764035515326, 0.892543968425993, 0.7358725617838302, 0.7848276431090849, 0.7781739615071915, 2094.648510146399, 1699.1739015926607, 1398.3654492427177, 1359.837589195554, 1346.2378033975683, 1311.014430773201, 1249.053093658739, 1169.3780778879764, 1120.277213146292, 1108.798093786837, 1087.1065120643775, 1079.5580300426095, 895.3655833024816, 886.140861743001, 853.3423984373612, 744.3200434635531, 551.4013430853701, 544.0293816212137, 540.984855705012, 536.025503178027, 532.2325091264098, 531.7659012096709, 502.4180780571871, 502.79390512512913, 499.82886790416444, 442.68484415655314, 429.25750567507356, 426.91200439334335, 405.9272308254877, 401.4193224661755, 828.4765923492417, 420.133324611395, 17082.16465080652, 16143.463989899226, 15945.034989041005, 15248.589587545202, 14.426285729607878, 14.426285729607878, 11.86415661690736, 9.654943043244694, 12.305121947531068, 14.52911920693574, 6.7675787565119006, 2.439884103194116, 2.435025184684896, 1.2305267784063083, 3.0497581920410437, 1.022303373394194, 3.5798355560175823, 6.031164870828935, 3.735100222750654, 0.3435387981480287, 2.57496174213584, 1.5239647847222573, 0.4811283297050474, 0.4811283297050474, 0.3037262255308646, 0.2504453751227804, 0.2501225085606659, 6.812712699715522, 0.6053808086360911, 0.33209725092000514, 0.5231273417477125, 2.206257920434435, 0.8738096357163427, 0.8724209861707904, 2.778218945176416, 3.6373168280347876, 3.3192576982214117, 2.069759607033034, 5.86947699170439, 5.86947699170439, 1.7729676068262399, 3.346701571553451, 2.634508374768605, 3.0892917168007084, 2.537061734342036, 2.4266011541970998, 2.4601482371248564, 19403.749995340477, 17499.073192757915, 433.14487494690854, 345.41443367674236, 278.52756461470534, 250.0438359579711, 245.02654387562976, 242.79974086537197, 198.84660755763372, 146.56030697320458, 147.54573534102002, 134.14720796768844, 122.79157120207812, 117.41987973831722, 114.9278053495243, 117.32111995941064, 108.4666668801991, 98.46636184291603, 98.59708367102826, 93.23990234154604, 81.37676866031471, 81.47560794680638, 78.50839055041033, 66.48962077136792, 61.40805816470881, 59.364270257098724, 63.51867787669916, 59.879365826208904, 53.981305753594896, 55.282663189873404, 1278.3925562673094, 676.080210319536, 152.09738557217634], \"Total\": [19404.0, 17499.0, 22970.0, 22907.0, 21514.0, 21480.0, 17082.0, 16144.0, 15945.0, 15249.0, 2095.0, 1667.0, 1699.0, 1685.0, 2811.0, 1399.0, 1360.0, 1347.0, 1311.0, 1347.0, 1249.0, 1170.0, 1121.0, 1109.0, 1087.0, 1080.0, 1154.0, 1015.0, 1014.0, 896.0, 1685.2139326710123, 1347.995136602548, 1154.9586292661154, 1014.4256604971288, 662.4850940415075, 602.485219922647, 537.479793133586, 535.6893020691227, 486.73684181838826, 456.88308873538074, 447.68698564594865, 442.8969436776117, 441.36657851100733, 440.0946990365589, 436.33110658194147, 435.6885276390095, 437.4918878614792, 431.9202401866427, 424.80290713730056, 406.6179433583788, 401.86920563481675, 396.4670696553613, 388.1636619647618, 386.5647206500667, 380.4192428759529, 379.14001272762164, 368.7297937297752, 365.4904916881592, 357.0569099724649, 351.4778527851614, 2811.7694679903902, 924.4914310410393, 22970.81110775409, 22907.01921989245, 21514.40104691388, 21480.231767875386, 26.66852581223272, 10.635399061447416, 5.841998389230096, 5.842098650750237, 1.016236057699135, 25.54089479050076, 1.2769478325295196, 1.0857663240129012, 0.972051724496213, 0.972051724496213, 0.9755032811350006, 0.9685908049040426, 0.9889157960453026, 0.9679668114443944, 0.9685794788482587, 0.9668510068834133, 0.9671410941733101, 0.9671410941733101, 0.9667133004599016, 0.9709521518457396, 0.9667432731214101, 0.9666511915041383, 0.9666277918314116, 0.9666283371788211, 0.9665883540455864, 0.9665840841266238, 0.993611145678923, 0.9915681764828508, 7.381751480727514, 14.454622457413128, 1.067244092625581, 1.1983707252322164, 1.513142379386398, 1.317842505134111, 3.559388181590908, 1.0252378230357941, 19.266609303385522, 3.3708144648352047, 3.3708144648352047, 11.988899313230938, 3.370815195050372, 1.6942418023258652, 1.6942416805559604, 9.436587873132623, 1.4065525684244178, 17.34015974906129, 17.436627355840734, 15.012114358090276, 8.0549346937887, 7.268112136085768, 19.656379212453203, 4.29447655404447, 4.244553820302177, 4.244553820302177, 37.09759183394405, 37.09759183394405, 4.949204933082608, 27.40645603443412, 22.63994170496624, 22.63994170496624, 22.639942138825436, 22.64104324874739, 22.642352061930538, 19.491366688611834, 12.121212215602132, 22.754976350887038, 23.00373740422164, 2095.421555313275, 1699.9482038713656, 1399.1386258653129, 1360.6121439719225, 1347.0095860953047, 1311.7889167668861, 1249.8261966399948, 1170.1517630690348, 1121.052114629905, 1109.5744549117353, 1087.8784059283303, 1080.3296714412613, 896.1410921859143, 886.9133605357824, 854.1189166762516, 745.0961080022489, 552.1724491800416, 544.8067344229272, 541.7583626019385, 536.8008647919639, 533.0043064385973, 532.5397045121134, 503.1908359902134, 503.56793023023636, 500.60247624011055, 443.4593870727669, 430.03338512294897, 427.68481491852674, 406.7008939718283, 402.19266177869287, 2811.7694679903902, 924.4914310410393, 17082.95954002945, 16144.253942308429, 15945.824618786812, 15249.379200065505, 15.21333254219518, 15.213349693886292, 12.651865350998499, 10.441990616643196, 14.188181225226902, 18.125219474117365, 11.988899313230938, 4.749186814933842, 4.758589680998912, 2.830250061993585, 7.381751480727514, 2.9023834699465456, 10.635399061447416, 19.266609303385522, 12.198101202031214, 1.1921252231501906, 9.800671193619051, 5.882928116887712, 1.9917878780885885, 1.9917878780885885, 1.2724998059389643, 1.0603315144623442, 1.0785146985084713, 29.51236934141798, 2.6309872540055057, 1.4708745509713688, 2.3242866403614135, 10.366332219656417, 4.035156392287806, 4.035484060845062, 14.454622457413128, 19.491366688611834, 17.75853189212788, 10.899578661451416, 37.09759183394405, 37.09759183394405, 9.436587873132623, 29.054254921782906, 24.03987486850599, 37.66026811740982, 24.386940819801296, 22.287318944355807, 24.12186407680734, 19404.54426575709, 17499.866307716973, 433.95424295586935, 346.24358182492676, 279.43068014442963, 250.8620889401104, 245.85771777899583, 243.7312012728566, 199.64802426915213, 147.37319032452197, 148.3882544897657, 134.96281743760557, 123.61474324928379, 118.2221696275016, 115.72825949756748, 118.1610292263249, 109.26897565709378, 99.27195637179004, 99.41234637989093, 94.06011970272891, 82.17841604469372, 82.288892860288, 79.31140315114396, 67.29964726120582, 62.20036336331235, 60.1619833439953, 64.37231876521017, 60.75102027138554, 54.82134841453949, 56.14347671190836, 1667.536233370222, 1015.5088362478625, 306.31476559277985], \"Category\": [\"Default\", \"Default\", \"Default\", \"Default\", \"Default\", \"Default\", \"Default\", \"Default\", \"Default\", \"Default\", \"Default\", \"Default\", \"Default\", \"Default\", \"Default\", \"Default\", \"Default\", \"Default\", \"Default\", \"Default\", \"Default\", \"Default\", \"Default\", \"Default\", \"Default\", \"Default\", \"Default\", \"Default\", \"Default\", \"Default\", \"Topic1\", \"Topic1\", \"Topic1\", \"Topic1\", \"Topic1\", \"Topic1\", \"Topic1\", \"Topic1\", \"Topic1\", \"Topic1\", \"Topic1\", \"Topic1\", \"Topic1\", \"Topic1\", \"Topic1\", \"Topic1\", \"Topic1\", \"Topic1\", \"Topic1\", \"Topic1\", \"Topic1\", \"Topic1\", \"Topic1\", \"Topic1\", \"Topic1\", \"Topic1\", \"Topic1\", \"Topic1\", \"Topic1\", \"Topic1\", \"Topic1\", \"Topic1\", \"Topic2\", \"Topic2\", \"Topic2\", \"Topic2\", \"Topic2\", \"Topic2\", \"Topic2\", \"Topic2\", \"Topic2\", \"Topic2\", \"Topic2\", \"Topic2\", \"Topic2\", \"Topic2\", \"Topic2\", \"Topic2\", \"Topic2\", \"Topic2\", \"Topic2\", \"Topic2\", \"Topic2\", \"Topic2\", \"Topic2\", \"Topic2\", \"Topic2\", \"Topic2\", \"Topic2\", \"Topic2\", \"Topic2\", \"Topic2\", \"Topic2\", \"Topic2\", \"Topic2\", \"Topic2\", \"Topic2\", \"Topic2\", \"Topic2\", \"Topic2\", \"Topic2\", \"Topic2\", \"Topic2\", \"Topic2\", \"Topic2\", \"Topic2\", \"Topic2\", \"Topic2\", \"Topic2\", \"Topic2\", \"Topic2\", \"Topic2\", \"Topic2\", \"Topic2\", \"Topic2\", \"Topic2\", \"Topic2\", \"Topic2\", \"Topic2\", \"Topic2\", \"Topic2\", \"Topic2\", \"Topic2\", \"Topic2\", \"Topic2\", \"Topic2\", \"Topic2\", \"Topic2\", \"Topic2\", \"Topic2\", \"Topic2\", \"Topic2\", \"Topic2\", \"Topic3\", \"Topic3\", \"Topic3\", \"Topic3\", \"Topic3\", \"Topic3\", \"Topic3\", \"Topic3\", \"Topic3\", \"Topic3\", \"Topic3\", \"Topic3\", \"Topic3\", \"Topic3\", \"Topic3\", \"Topic3\", \"Topic3\", \"Topic3\", \"Topic3\", \"Topic3\", \"Topic3\", \"Topic3\", \"Topic3\", \"Topic3\", \"Topic3\", \"Topic3\", \"Topic3\", \"Topic3\", \"Topic3\", \"Topic3\", \"Topic3\", \"Topic3\", \"Topic4\", \"Topic4\", \"Topic4\", \"Topic4\", \"Topic4\", \"Topic4\", \"Topic4\", \"Topic4\", \"Topic4\", \"Topic4\", \"Topic4\", \"Topic4\", \"Topic4\", \"Topic4\", \"Topic4\", \"Topic4\", \"Topic4\", \"Topic4\", \"Topic4\", \"Topic4\", \"Topic4\", \"Topic4\", \"Topic4\", \"Topic4\", \"Topic4\", \"Topic4\", \"Topic4\", \"Topic4\", \"Topic4\", \"Topic4\", \"Topic4\", \"Topic4\", \"Topic4\", \"Topic4\", \"Topic4\", \"Topic4\", \"Topic4\", \"Topic4\", \"Topic4\", \"Topic4\", \"Topic4\", \"Topic4\", \"Topic4\", \"Topic4\", \"Topic4\", \"Topic4\", \"Topic4\", \"Topic5\", \"Topic5\", \"Topic5\", \"Topic5\", \"Topic5\", \"Topic5\", \"Topic5\", \"Topic5\", \"Topic5\", \"Topic5\", \"Topic5\", \"Topic5\", \"Topic5\", \"Topic5\", \"Topic5\", \"Topic5\", \"Topic5\", \"Topic5\", \"Topic5\", \"Topic5\", \"Topic5\", \"Topic5\", \"Topic5\", \"Topic5\", \"Topic5\", \"Topic5\", \"Topic5\", \"Topic5\", \"Topic5\", \"Topic5\", \"Topic5\", \"Topic5\", \"Topic5\"], \"logprob\": [30.0, 29.0, 28.0, 27.0, 26.0, 25.0, 24.0, 23.0, 22.0, 21.0, 20.0, 19.0, 18.0, 17.0, 16.0, 15.0, 14.0, 13.0, 12.0, 11.0, 10.0, 9.0, 8.0, 7.0, 6.0, 5.0, 4.0, 3.0, 2.0, 1.0, -4.041500091552734, -4.264900207519531, -4.41949987411499, -4.549300193786621, -4.975800037384033, -5.070899963378906, -5.185200214385986, -5.188499927520752, -5.2845001220703125, -5.347899913787842, -5.368299961090088, -5.379000186920166, -5.382500171661377, -5.38539981842041, -5.394000053405762, -5.395500183105469, -5.39139986038208, -5.404200077056885, -5.42080020904541, -5.464700222015381, -5.476399898529053, -5.489999771118164, -5.511199951171875, -5.5152997970581055, -5.531400203704834, -5.534800052642822, -5.562699794769287, -5.571499824523926, -5.594900131225586, -5.6107001304626465, -3.8784000873565674, -5.248499870300293, -1.3898999691009521, -1.392699956893921, -1.455399990081787, -1.4570000171661377, -9.371100425720215, -10.294500350952148, -11.107000350952148, -11.107099533081055, -12.882599830627441, -9.66349983215332, -12.69279956817627, -12.902199745178223, -13.03600025177002, -13.03600025177002, -13.037300109863281, -13.045700073242188, -13.024999618530273, -13.048399925231934, -13.047900199890137, -13.050700187683105, -13.05049991607666, -13.05049991607666, -13.05090045928955, -13.046600341796875, -13.050999641418457, -13.05109977722168, -13.051199913024902, -13.051199913024902, -13.051199913024902, -13.051199913024902, -13.024100303649902, -13.027000427246094, -11.153599739074707, -10.559599876403809, -12.95989990234375, -12.854599952697754, -12.649100303649902, -12.77400016784668, -11.891400337219238, -12.999300003051758, -10.547300338745117, -12.050100326538086, -12.050100326538086, -11.037599563598633, -12.050100326538086, -12.626899719238281, -12.626899719238281, -11.371000289916992, -12.768899917602539, -10.974699974060059, -11.133199691772461, -11.231100082397461, -11.64330005645752, -11.711899757385254, -11.106800079345703, -12.068099975585938, -12.085200309753418, -12.085200309753418, -10.8818998336792, -10.8818998336792, -12.064599990844727, -11.301300048828125, -11.430399894714355, -11.430399894714355, -11.430399894714355, -11.431099891662598, -11.431900024414062, -11.545499801635742, -11.73859977722168, -11.674099922180176, -11.682700157165527, -3.7219998836517334, -3.9312000274658203, -4.126100063323975, -4.1539998054504395, -4.164100170135498, -4.1905999183654785, -4.238999843597412, -4.304900169372559, -4.347799777984619, -4.358099937438965, -4.377900123596191, -4.384799957275391, -4.571899890899658, -4.582200050354004, -4.619999885559082, -4.756700038909912, -5.056700229644775, -5.070099830627441, -5.075699806213379, -5.08489990234375, -5.0920000076293945, -5.092899799346924, -5.149700164794922, -5.148900032043457, -5.154900074005127, -5.276299953460693, -5.30709981918335, -5.3125, -5.36299991607666, -5.374100208282471, -4.649499893188477, -5.32859992980957, -1.3773000240325928, -1.4337999820709229, -1.4462000131607056, -1.4908000230789185, -8.454000473022461, -8.454000473022461, -8.649499893188477, -8.855600357055664, -8.61299991607666, -8.446900367736816, -9.21090030670166, -10.231100082397461, -10.233099937438965, -10.915599822998047, -10.008000373840332, -11.10099983215332, -9.847700119018555, -9.32610034942627, -9.805299758911133, -12.191499710083008, -10.177200317382812, -10.701700210571289, -11.854700088500977, -11.854700088500977, -12.31470012664795, -12.507599830627441, -12.508899688720703, -9.204299926757812, -11.625, -12.2253999710083, -11.770999908447266, -10.33180046081543, -11.258000373840332, -11.259499549865723, -10.101300239562988, -9.83180046081543, -9.923299789428711, -10.395600318908691, -9.353300094604492, -9.353300094604492, -10.550399780273438, -9.91510009765625, -10.154399871826172, -9.995100021362305, -10.192099571228027, -10.236599922180176, -10.222800254821777, -0.9218999743461609, -1.0252000093460083, -4.724100112915039, -4.950399875640869, -5.165599822998047, -5.273499965667725, -5.293799877166748, -5.3028998374938965, -5.502600193023682, -5.807700157165527, -5.801000118255615, -5.896200180053711, -5.9847002029418945, -6.029399871826172, -6.05079984664917, -6.030200004577637, -6.108699798583984, -6.205399990081787, -6.204100131988525, -6.260000228881836, -6.396100044250488, -6.394800186157227, -6.4319000244140625, -6.598100185394287, -6.677599906921387, -6.711400032043457, -6.643799781799316, -6.7027997970581055, -6.80649995803833, -6.782700061798096, -3.6417999267578125, -4.278800010681152, -5.770599842071533], \"loglift\": [30.0, 29.0, 28.0, 27.0, 26.0, 25.0, 24.0, 23.0, 22.0, 21.0, 20.0, 19.0, 18.0, 17.0, 16.0, 15.0, 14.0, 13.0, 12.0, 11.0, 10.0, 9.0, 8.0, 7.0, 6.0, 5.0, 4.0, 3.0, 2.0, 1.0, 1.4058, 1.4057, 1.4056, 1.4055, 1.4051, 1.405, 1.4048, 1.4048, 1.4047, 1.4046, 1.4046, 1.4045, 1.4045, 1.4045, 1.4045, 1.4045, 1.4045, 1.4045, 1.4045, 1.4044, 1.4044, 1.4043, 1.4043, 1.4043, 1.4043, 1.4043, 1.4042, 1.4042, 1.4041, 1.4041, 1.0569, 0.7992, 1.445, 1.445, 1.445, 1.445, 0.2223, 0.2183, 0.0048, 0.0047, -0.0218, -0.0269, -0.0603, -0.1075, -0.1308, -0.1308, -0.1356, -0.1369, -0.1369, -0.1389, -0.1391, -0.14, -0.1402, -0.1402, -0.1402, -0.1402, -0.1403, -0.1403, -0.1403, -0.1403, -0.1403, -0.1403, -0.1408, -0.1416, -0.2757, -0.3537, -0.148, -0.1587, -0.1864, -0.1731, -0.2841, -0.1473, -0.6288, -0.3884, -0.3884, -0.6446, -0.3884, -0.2773, -0.2773, -0.7387, -0.2331, -0.9508, -1.1149, -1.063, -0.8526, -0.8184, -1.2083, -0.6485, -0.654, -0.654, -1.6186, -1.6186, -0.7869, -1.7352, -1.6732, -1.6732, -1.6732, -1.6739, -1.6748, -1.6386, -1.3566, -1.922, -1.9414, 1.5074, 1.5073, 1.5072, 1.5072, 1.5072, 1.5072, 1.5072, 1.5071, 1.5071, 1.5071, 1.5071, 1.5071, 1.5069, 1.5069, 1.5069, 1.5068, 1.5064, 1.5064, 1.5064, 1.5063, 1.5063, 1.5063, 1.5063, 1.5063, 1.5062, 1.506, 1.506, 1.506, 1.5059, 1.5059, 0.2858, 0.7191, 1.7538, 1.7538, 1.7538, 1.7538, 1.7007, 1.7007, 1.6896, 1.6755, 1.6115, 1.5327, 1.182, 1.0878, 1.0839, 0.9209, 0.8699, 0.7104, 0.665, 0.5924, 0.5704, 0.5097, 0.4172, 0.4031, 0.3332, 0.3332, 0.3212, 0.3108, 0.2925, 0.2878, 0.2846, 0.2657, 0.2625, 0.2066, 0.2239, 0.2222, 0.1047, 0.0751, 0.0767, 0.0926, -0.0899, -0.0899, 0.0819, -0.4073, -0.4572, -0.7468, -0.5092, -0.4637, -0.529, 2.0817, 2.0817, 2.0799, 2.0794, 2.0785, 2.0785, 2.0784, 2.078, 2.0778, 2.0762, 2.0761, 2.0757, 2.0751, 2.075, 2.0748, 2.0746, 2.0744, 2.0736, 2.0735, 2.073, 2.072, 2.0718, 2.0716, 2.0697, 2.069, 2.0684, 2.0684, 2.0673, 2.0663, 2.0663, 1.816, 1.6749, 1.3817]}, \"token.table\": {\"Topic\": [3, 4, 5, 5, 1, 2, 3, 4, 5, 5, 5, 1, 2, 3, 5, 1, 2, 3, 4, 5, 1, 2, 3, 1, 2, 3, 5, 3, 1, 1, 3, 4, 4, 1, 5, 2, 3, 4, 5, 1, 2, 3, 5, 1, 2, 3, 1, 5, 4, 1, 1, 3, 1, 3, 4, 5, 3, 2, 1, 2, 3, 4, 5, 1, 2, 3, 5, 1, 1, 3, 1, 3, 4, 5, 2, 1, 2, 3, 1, 4, 1, 2, 3, 5, 3, 5, 5, 1, 3, 4, 3, 2, 3, 1, 1, 3, 4, 1, 2, 3, 4, 5, 1, 2, 4, 4, 1, 2, 3, 4, 5, 1, 1, 5, 3, 4, 5, 3, 5, 1, 1, 5, 1, 3, 4, 5, 1, 3, 4, 5, 3, 1, 4, 3, 3, 1, 2, 3, 4, 5, 4, 1, 3, 3, 5, 5, 5, 1, 3, 4, 5, 1, 1, 5, 5, 3, 1, 5, 3, 1, 5, 1, 2, 3, 4, 5, 5, 2, 5, 1, 2, 3, 4, 5, 3, 1, 1, 3, 4, 2, 3, 4, 5, 2, 3, 4, 5, 3, 2, 3, 5, 3, 4, 5, 5, 3, 3, 4, 5, 1, 1, 3, 4, 3, 1, 1, 2, 3, 4, 5, 1, 1, 3, 4, 4, 3, 1, 2, 3, 4, 5, 1, 1, 2, 3, 4, 5, 1, 2, 3, 3, 1, 2, 3, 4, 5, 1, 3, 1, 1, 1, 4, 2, 3, 4, 5, 5, 3, 5, 5, 3, 1, 3, 3, 1, 4, 1, 1, 1, 1, 3, 4, 5, 1, 2, 3, 5, 3, 1, 2, 3, 4, 5, 3, 1, 3, 4, 4, 1, 4, 3, 5, 1, 2, 3, 5, 1, 2, 3, 4, 5, 2, 1, 3, 4, 5, 1, 3, 5, 5, 1, 3, 4, 5, 1, 2, 3, 4, 5, 3, 1, 3, 4, 3, 1, 5, 1, 2, 3, 4, 5, 1, 3, 1, 2, 3, 4, 5, 1, 2, 3, 1, 1, 5, 5, 3], \"Freq\": [0.165515237169071, 0.827576185845355, 0.9871871531671407, 0.997467719035598, 0.4965899975681329, 0.12414749939203322, 0.24829499878406644, 0.12414749939203322, 0.12414749939203322, 0.999950496323701, 0.9806857540358785, 0.1124921572764219, 0.29997908607045837, 0.374973857588073, 0.2249843145528438, 0.43129484176814153, 0.05391185522101769, 0.26955927610508845, 0.16173556566305308, 0.08086778283152654, 0.296664142688207, 0.296664142688207, 0.593328285376414, 0.20349627755786373, 0.05087406938946593, 0.6104888326735912, 0.10174813877893187, 0.9987964976828809, 0.9995803926165273, 0.16998337904713975, 0.3399667580942795, 0.3399667580942795, 0.9999438305741344, 0.590234564216277, 0.9937071593340364, 0.23559602312424166, 0.4711920462484833, 0.23559602312424166, 0.23559602312424166, 0.23285724986860523, 0.23285724986860523, 0.46571449973721046, 0.23285724986860523, 0.29666420695417567, 0.29666420695417567, 0.5933284139083513, 0.5902345217944652, 0.9965113245712024, 0.9999751334096602, 0.998821920681162, 0.9980671450593082, 0.9978766612101299, 0.24873699565237464, 0.373105493478562, 0.08291233188412489, 0.24873699565237464, 0.9997988207612898, 0.9999646896337145, 0.4104381251353779, 0.05130476564192224, 0.20521906256768896, 0.20521906256768896, 0.15391429692576672, 0.1711743025885681, 0.1711743025885681, 0.3423486051771362, 0.1711743025885681, 0.9988756640405755, 0.9984861597580419, 0.9985289038682704, 0.6195306005422574, 0.2753469335743366, 0.10325510009037622, 0.9806886467597433, 0.9999426557455852, 0.29666420695417567, 0.29666420695417567, 0.5933284139083513, 0.4211247268081748, 0.4211247268081748, 0.4394643108301969, 0.04394643108301969, 0.3515714486641575, 0.13183929324905905, 0.999442216022108, 0.9965634945329814, 0.9883866792979185, 0.5067986506243559, 0.28155480590241994, 0.16893288354145197, 0.9993389507739429, 0.9999555062191783, 0.9981157629939094, 0.9986579905652438, 0.08973712831917334, 0.7627655907129735, 0.08973712831917334, 0.05190326872016242, 0.10380653744032484, 0.31141961232097454, 0.31141961232097454, 0.20761307488064967, 0.37610248349774883, 0.2820768626233116, 0.37610248349774883, 0.9999223288785651, 0.4858433367732987, 0.044167576070299884, 0.2650054564217993, 0.044167576070299884, 0.17667030428119954, 0.9975125829987151, 0.9970399397324465, 0.9796329550844182, 0.4098998620512679, 0.3279198896410143, 0.24593991723076075, 0.23327828938013562, 0.7664001383748414, 0.9978694210156833, 0.9980207899058191, 0.9876377340161432, 0.24782186928646688, 0.24782186928646688, 0.24782186928646688, 0.24782186928646688, 0.1929322693524758, 0.5787968080574273, 0.1929322693524758, 0.9978010516745509, 0.9991925513701316, 0.999241157513304, 0.9202454466284805, 0.9993985947305984, 0.9995500966424308, 0.2664514740952752, 0.0666128685238188, 0.39967721114291277, 0.1332257370476376, 0.1332257370476376, 0.999948286224982, 0.9970021357515237, 0.998964083101726, 0.9994822745700459, 0.989662094416365, 0.9856602730812818, 0.9964083613669537, 0.24958532574811537, 0.3743779886221731, 0.12479266287405769, 0.24958532574811537, 0.996993161657035, 0.9981099302198488, 0.996073664835427, 0.9850177268839002, 0.9976334306886373, 0.9984802850723334, 0.9843369765288212, 0.9990614935593317, 0.9992796566373693, 0.9984587227708603, 0.1668209856256614, 0.0834104928128307, 0.1668209856256614, 0.5838734496898148, 0.9928660541037484, 0.9973835227653245, 0.082499999357558, 0.907499992933138, 0.43129484176814153, 0.05391185522101769, 0.26955927610508845, 0.16173556566305308, 0.08086778283152654, 0.9996948418154419, 0.9992617654355519, 0.531063664699569, 0.37174456528969835, 0.07965954970493536, 0.13836404277541609, 0.3459101069385402, 0.20754606416312413, 0.27672808555083217, 0.13546920437660742, 0.13546920437660742, 0.4064076131298222, 0.27093840875321484, 0.9990157147941101, 0.03648775305875288, 0.9121938264688221, 0.03648775305875288, 0.45873332862705235, 0.18349333145082095, 0.27523999717623143, 0.9958521612766768, 0.9986899755357184, 0.43023953355619926, 0.43023953355619926, 0.996754166380938, 0.9984196792081246, 0.4081353124676084, 0.30610148435070633, 0.30610148435070633, 0.9988721874524918, 0.9987132427949181, 0.48581525319954394, 0.044165023018140355, 0.26499013810884214, 0.044165023018140355, 0.17666009207256142, 0.9988979451386754, 0.07048119728143715, 0.07048119728143715, 0.8457743673772459, 0.9576718048435402, 0.9985192282474596, 0.4858669661145469, 0.04416972419223154, 0.2650183451533892, 0.04416972419223154, 0.17667889676892615, 0.9979748253167793, 0.3441032418456878, 0.057350540307614634, 0.4014537821533024, 0.057350540307614634, 0.11470108061522927, 0.2809471597315466, 0.2809471597315466, 0.2809471597315466, 0.9985080784244371, 0.5766959557879131, 0.11533919115758262, 0.11533919115758262, 0.05766959557879131, 0.17300878673637393, 0.5451645986945084, 0.4543038322454237, 0.9978370932068714, 0.999107328052672, 0.35332567020442546, 0.35332567020442546, 0.23559602312424166, 0.4711920462484833, 0.23559602312424166, 0.23559602312424166, 0.9999719516341309, 0.998986545965417, 0.9887293392132676, 0.994216166632615, 0.9991861951029987, 0.7052498515880382, 0.29447648871149557, 0.9970346008467227, 0.9991946359734611, 0.9484767397601925, 0.9992677661039161, 0.5020614951024033, 0.9985391303968012, 0.24780174693357412, 0.24780174693357412, 0.24780174693357412, 0.24780174693357412, 0.17117136491209045, 0.17117136491209045, 0.3423427298241809, 0.17117136491209045, 0.9989701806552664, 0.21194101373170052, 0.10597050686585026, 0.3179115205975508, 0.21194101373170052, 0.10597050686585026, 0.9975969653550188, 0.999169988221375, 0.3800854597366694, 0.3800854597366694, 0.9202444091340454, 0.420292593830062, 0.420292593830062, 0.9982766352810701, 0.9950269423118561, 0.6085967577351463, 0.04347119698108188, 0.2173559849054094, 0.13041359094324564, 0.48586697542543, 0.04416972503867545, 0.2650183502320527, 0.04416972503867545, 0.1766789001547018, 0.9999813591411164, 0.34454440991507485, 0.34454440991507485, 0.34454440991507485, 0.34454440991507485, 0.5020614951024033, 0.33382279690696637, 0.6656761377849831, 0.9807016663825414, 0.36904997910571596, 0.24603331940381065, 0.12301665970190533, 0.24603331940381065, 0.2751746206652636, 0.1375873103326318, 0.41276193099789543, 0.1375873103326318, 0.1375873103326318, 0.9983987859876269, 0.5421455598803931, 0.20330458495514742, 0.237188682447672, 0.9987266601254375, 0.5027508213715374, 0.49622158992515375, 0.48586697542543, 0.04416972503867545, 0.2650183502320527, 0.04416972503867545, 0.1766789001547018, 0.9984654777378498, 0.999250498210461, 0.20205265563274039, 0.20205265563274039, 0.40410531126548077, 0.20205265563274039, 0.40410531126548077, 0.469834753184257, 0.2349173765921285, 0.2740702726908166, 0.9991694466032204, 0.9986404469545525, 0.9969999685348532, 0.9901741781200883, 0.9986001829334091], \"Term\": [\"accelerant\", \"accelerant\", \"activites\", \"agricoles\", \"agrochimie\", \"agrochimie\", \"agrochimie\", \"agrochimie\", \"agrochimie\", \"air\", \"aliments\", \"analyser\", \"analyser\", \"analyser\", \"analyser\", \"anticipees\", \"anticipees\", \"anticipees\", \"anticipees\", \"anticipees\", \"antillaises\", \"antillaises\", \"antillaises\", \"apportent\", \"apportent\", \"apportent\", \"apportent\", \"autre\", \"autres\", \"auuuuttre\", \"auuuuttre\", \"auuuuttre\", \"biodiversite\", \"boulversements\", \"bruit\", \"cantonner\", \"cantonner\", \"cantonner\", \"cantonner\", \"capitalocene\", \"capitalocene\", \"capitalocene\", \"capitalocene\", \"caraibe\", \"caraibe\", \"caraibe\", \"cataclysmiques\", \"cause\", \"certaines\", \"cette\", \"choisir\", \"ci\", \"clim\", \"clim\", \"clim\", \"clim\", \"climatique\", \"climatiques\", \"climatqiues\", \"climatqiues\", \"climatqiues\", \"climatqiues\", \"climatqiues\", \"commis\", \"commis\", \"commis\", \"commis\", \"compte\", \"consequences\", \"consommation\", \"consummeristes\", \"consummeristes\", \"consummeristes\", \"cours\", \"crue\", \"cyclonique\", \"cyclonique\", \"cyclonique\", \"decalage\", \"decalage\", \"deces\", \"deces\", \"deces\", \"deces\", \"dechets\", \"degradation\", \"demographie\", \"deregelement\", \"deregelement\", \"deregelement\", \"dereglement\", \"dereglements\", \"dessus\", \"destruction\", \"devastatrices\", \"devastatrices\", \"devastatrices\", \"diminue\", \"diminue\", \"diminue\", \"diminue\", \"diminue\", \"disparite\", \"disparite\", \"disparite\", \"disparition\", \"domination\", \"domination\", \"domination\", \"domination\", \"domination\", \"donc\", \"dont\", \"douce\", \"duchesse\", \"duchesse\", \"duchesse\", \"eau\", \"eau\", \"ecologie\", \"effet\", \"elevages\", \"embarque\", \"embarque\", \"embarque\", \"embarque\", \"emmenent\", \"emmenent\", \"emmenent\", \"energie\", \"ensemble\", \"entre\", \"entrepreneuriat\", \"environnement\", \"erosion\", \"erosions\", \"erosions\", \"erosions\", \"erosions\", \"erosions\", \"especes\", \"etat\", \"etc\", \"etre\", \"faune\", \"flore\", \"fois\", \"fonciere\", \"fonciere\", \"fonciere\", \"fonciere\", \"france\", \"gaspillage\", \"generale\", \"generalisee\", \"global\", \"humaine\", \"humaines\", \"important\", \"importants\", \"impossible\", \"incidents\", \"incidents\", \"incidents\", \"incidents\", \"industrielle\", \"industriels\", \"inondation\", \"inondation\", \"intoxications\", \"intoxications\", \"intoxications\", \"intoxications\", \"intoxications\", \"lie\", \"lies\", \"limitant\", \"limitant\", \"limitant\", \"littioral\", \"littioral\", \"littioral\", \"littioral\", \"littolra\", \"littolra\", \"littolra\", \"littolra\", \"littoral\", \"longues\", \"longues\", \"longues\", \"lot\", \"lot\", \"lot\", \"lumineuse\", \"meme\", \"menons\", \"menons\", \"mers\", \"monde\", \"motocycles\", \"motocycles\", \"motocycles\", \"nature\", \"naturelles\", \"nettes\", \"nettes\", \"nettes\", \"nettes\", \"nettes\", \"nucleaire\", \"obsolescence\", \"obsolescence\", \"obsolescence\", \"obsolesence\", \"oceans\", \"parvenir\", \"parvenir\", \"parvenir\", \"parvenir\", \"parvenir\", \"pays\", \"perceptible\", \"perceptible\", \"perceptible\", \"perceptible\", \"perceptible\", \"perturbe\", \"perturbe\", \"perturbe\", \"pesticides\", \"pied\", \"pied\", \"pied\", \"pied\", \"pied\", \"planete\", \"planete\", \"plastiques\", \"points\", \"polinisateurs\", \"polinisateurs\", \"polluait\", \"polluait\", \"polluait\", \"polluait\", \"pollution\", \"pollutions\", \"potable\", \"prioritaire\", \"probleme\", \"problemes\", \"problemes\", \"production\", \"produits\", \"programmee\", \"propositions\", \"pyreneens\", \"quatre\", \"quatrieme\", \"quatrieme\", \"quatrieme\", \"quatrieme\", \"ravages\", \"ravages\", \"ravages\", \"ravages\", \"rechauffement\", \"refaire\", \"refaire\", \"refaire\", \"refaire\", \"refaire\", \"reponses\", \"ressources\", \"risquer\", \"risquer\", \"ruralite\", \"saisons\", \"saisons\", \"sante\", \"sauvages\", \"schema\", \"schema\", \"schema\", \"schema\", \"scot\", \"scot\", \"scot\", \"scot\", \"scot\", \"secheresse\", \"secumule\", \"secumule\", \"secumule\", \"secumule\", \"slovenes\", \"sols\", \"sols\", \"sonore\", \"sordide\", \"sordide\", \"sordide\", \"sordide\", \"style\", \"style\", \"style\", \"style\", \"style\", \"surconsommation\", \"surnatalite\", \"surnatalite\", \"surnatalite\", \"terre\", \"terres\", \"terres\", \"territoriale\", \"territoriale\", \"territoriale\", \"territoriale\", \"territoriale\", \"themes\", \"toutes\", \"transferts\", \"transferts\", \"transferts\", \"transferts\", \"transferts\", \"tremblements\", \"tremblements\", \"tremblements\", \"tres\", \"uns\", \"urgence\", \"urgent\", \"vie\"]}, \"R\": 30, \"lambda.step\": 0.01, \"plot.opts\": {\"xlab\": \"PC1\", \"ylab\": \"PC2\"}, \"topic.order\": [1, 5, 4, 3, 2]};\n",
              "\n",
              "function LDAvis_load_lib(url, callback){\n",
              "  var s = document.createElement('script');\n",
              "  s.src = url;\n",
              "  s.async = true;\n",
              "  s.onreadystatechange = s.onload = callback;\n",
              "  s.onerror = function(){console.warn(\"failed to load library \" + url);};\n",
              "  document.getElementsByTagName(\"head\")[0].appendChild(s);\n",
              "}\n",
              "\n",
              "if(typeof(LDAvis) !== \"undefined\"){\n",
              "   // already loaded: just create the visualization\n",
              "   !function(LDAvis){\n",
              "       new LDAvis(\"#\" + \"ldavis_el56140430889466880768806687\", ldavis_el56140430889466880768806687_data);\n",
              "   }(LDAvis);\n",
              "}else if(typeof define === \"function\" && define.amd){\n",
              "   // require.js is available: use it to load d3/LDAvis\n",
              "   require.config({paths: {d3: \"https://cdnjs.cloudflare.com/ajax/libs/d3/3.5.5/d3.min\"}});\n",
              "   require([\"d3\"], function(d3){\n",
              "      window.d3 = d3;\n",
              "      LDAvis_load_lib(\"https://cdn.rawgit.com/bmabey/pyLDAvis/files/ldavis.v1.0.0.js\", function(){\n",
              "        new LDAvis(\"#\" + \"ldavis_el56140430889466880768806687\", ldavis_el56140430889466880768806687_data);\n",
              "      });\n",
              "    });\n",
              "}else{\n",
              "    // require.js not available: dynamically load d3 & LDAvis\n",
              "    LDAvis_load_lib(\"https://cdnjs.cloudflare.com/ajax/libs/d3/3.5.5/d3.min.js\", function(){\n",
              "         LDAvis_load_lib(\"https://cdn.rawgit.com/bmabey/pyLDAvis/files/ldavis.v1.0.0.js\", function(){\n",
              "                 new LDAvis(\"#\" + \"ldavis_el56140430889466880768806687\", ldavis_el56140430889466880768806687_data);\n",
              "            })\n",
              "         });\n",
              "}\n",
              "</script>"
            ],
            "text/plain": [
              "PreparedData(topic_coordinates=              x         y  topics  cluster       Freq\n",
              "topic                                                \n",
              "0     -0.197895  0.042602       1        1  24.505881\n",
              "4      0.333739  0.265998       2        1  23.573062\n",
              "3     -0.212942  0.048516       3        1  22.139769\n",
              "2      0.177917 -0.380345       4        1  17.310473\n",
              "1     -0.100819  0.023229       5        1  12.470815, topic_info=              Term          Freq         Total Category  logprob  loglift\n",
              "97       pollution  19404.000000  19404.000000  Default  30.0000  30.0000\n",
              "96             air  17499.000000  17499.000000  Default  29.0000  29.0000\n",
              "92     climatiques  22970.000000  22970.000000  Default  28.0000  28.0000\n",
              "94    dereglements  22907.000000  22907.000000  Default  27.0000  27.0000\n",
              "95      secheresse  21514.000000  21514.000000  Default  26.0000  26.0000\n",
              "...            ...           ...           ...      ...      ...      ...\n",
              "1597   generalisee     53.981306     54.821348   Topic5  -6.8065   2.0663\n",
              "1187         douce     55.282663     56.143477   Topic5  -6.7827   2.0663\n",
              "37             eau   1278.392556   1667.536233   Topic5  -3.6418   1.8160\n",
              "145           sols    676.080210   1015.508836   Topic5  -4.2788   1.6749\n",
              "86          terres    152.097386    306.314766   Topic5  -5.7706   1.3817\n",
              "\n",
              "[245 rows x 6 columns], token_table=      Topic      Freq        Term\n",
              "term                             \n",
              "7498      3  0.165515  accelerant\n",
              "7498      4  0.827576  accelerant\n",
              "812       5  0.987187   activites\n",
              "810       5  0.997468   agricoles\n",
              "3008      1  0.496590  agrochimie\n",
              "...     ...       ...         ...\n",
              "343       1  0.999169        tres\n",
              "995       1  0.998640         uns\n",
              "771       5  0.997000     urgence\n",
              "696       5  0.990174      urgent\n",
              "202       3  0.998600         vie\n",
              "\n",
              "[336 rows x 3 columns], R=30, lambda_step=0.01, plot_opts={'xlab': 'PC1', 'ylab': 'PC2'}, topic_order=[1, 5, 4, 3, 2])"
            ]
          },
          "metadata": {
            "tags": []
          },
          "execution_count": 11
        }
      ]
    },
    {
      "cell_type": "markdown",
      "metadata": {
        "id": "dC0_NGXkEijN"
      },
      "source": [
        "La colonne des problèmes a donné de meilleurs résultats que le title qui semble logique puisque c'est celui qui contient le plus probablement des problèmes."
      ]
    },
    {
      "cell_type": "markdown",
      "metadata": {
        "id": "FeoV1jwgQtcE"
      },
      "source": [
        "## Topic Modeling For Problems response column\n",
        "\n"
      ]
    },
    {
      "cell_type": "code",
      "metadata": {
        "colab": {
          "base_uri": "https://localhost:8080/"
        },
        "id": "MAFM04I8Qwkw",
        "outputId": "9c271ec1-bfc4-4d27-d2ef-44074529bb56"
      },
      "source": [
        "data = list(cleaned_data['reponse_probleme'])\n",
        "lda_model, corpus, id2word = tpc.get_topics(data, n_topics=5)"
      ],
      "execution_count": 12,
      "outputs": [
        {
          "output_type": "stream",
          "text": [
            "[(0,\n",
            "  '0.011*\"monde\" + 0.010*\"planete\" + 0.010*\"animaux\" + 0.009*\"nature\" + '\n",
            "  '0.008*\"o\" + 0.008*\"especes\" + 0.008*\"autre\" + 0.007*\"aides\" + 0.007*\"hui\" + '\n",
            "  '0.007*\"aujourd\"'),\n",
            " (1,\n",
            "  '0.018*\"eau\" + 0.016*\"vie\" + 0.011*\"ville\" + 0.010*\"travail\" + 0.009*\"mieux\" '\n",
            "  '+ 0.007*\"enfants\" + 0.007*\"qualite\" + 0.006*\"projets\" + 0.006*\"chaque\" + '\n",
            "  '0.005*\"loi\"'),\n",
            " (2,\n",
            "  '0.018*\"etre\" + 0.011*\"france\" + 0.011*\"pays\" + 0.010*\"ecologique\" + '\n",
            "  '0.008*\"transition\" + 0.008*\"etat\" + 0.008*\"niveau\" + 0.007*\"cette\" + '\n",
            "  '0.007*\"politique\" + 0.006*\"meme\"'),\n",
            " (3,\n",
            "  '0.026*\"produits\" + 0.016*\"interdire\" + 0.016*\"consommation\" + '\n",
            "  '0.015*\"limiter\" + 0.015*\"agriculture\" + 0.015*\"favoriser\" + '\n",
            "  '0.014*\"energies\" + 0.013*\"production\" + 0.013*\"reduire\" + 0.012*\"arreter\"'),\n",
            " (4,\n",
            "  '0.024*\"transports\" + 0.018*\"pollution\" + 0.017*\"transport\" + 0.017*\"taxer\" '\n",
            "  '+ 0.016*\"entreprises\" + 0.013*\"developper\" + 0.013*\"vehicules\" + '\n",
            "  '0.012*\"commun\" + 0.011*\"voiture\" + 0.010*\"villes\"')]\n",
            "\n",
            "Perplexity:  -8.43479039940401\n",
            "\n",
            "Coherence Score:  0.4185538590227071\n"
          ],
          "name": "stdout"
        }
      ]
    },
    {
      "cell_type": "code",
      "metadata": {
        "id": "pwC6YJ-DEijN",
        "colab": {
          "base_uri": "https://localhost:8080/",
          "height": 861
        },
        "outputId": "c430f110-d41a-4529-fc9f-cbd5ad82c7ff"
      },
      "source": [
        "pyLDAvis.enable_notebook()\n",
        "vis = pyLDAvis.gensim.prepare(lda_model, corpus, id2word)\n",
        "vis"
      ],
      "execution_count": 13,
      "outputs": [
        {
          "output_type": "execute_result",
          "data": {
            "text/html": [
              "\n",
              "<link rel=\"stylesheet\" type=\"text/css\" href=\"https://cdn.rawgit.com/bmabey/pyLDAvis/files/ldavis.v1.0.0.css\">\n",
              "\n",
              "\n",
              "<div id=\"ldavis_el561404308894664009460118409\"></div>\n",
              "<script type=\"text/javascript\">\n",
              "\n",
              "var ldavis_el561404308894664009460118409_data = {\"mdsDat\": {\"x\": [-0.02546214115718125, -0.28692230317787415, -0.1107889997578058, 0.13159254928011593, 0.29158089481274513], \"y\": [0.17631100309186562, -0.22346509458107183, 0.1109197965103143, 0.17967752110902063, -0.24344322613012853], \"topics\": [1, 2, 3, 4, 5], \"cluster\": [1, 1, 1, 1, 1], \"Freq\": [29.489642633594315, 21.05756427175953, 20.728301703205222, 16.291218040706898, 12.433273350734035]}, \"tinfo\": {\"Term\": [\"produits\", \"transports\", \"pollution\", \"transport\", \"taxer\", \"interdire\", \"consommation\", \"entreprises\", \"etre\", \"limiter\", \"agriculture\", \"favoriser\", \"eau\", \"energies\", \"production\", \"vie\", \"vehicules\", \"arreter\", \"commun\", \"pays\", \"pesticides\", \"developper\", \"reduire\", \"voiture\", \"ecologique\", \"villes\", \"energie\", \"dechets\", \"monde\", \"bio\", \"pays\", \"ecologique\", \"transition\", \"etat\", \"niveau\", \"politique\", \"fran\", \"solutions\", \"ecologie\", \"probleme\", \"rendre\", \"doivent\", \"energetique\", \"impact\", \"economie\", \"mesures\", \"electricite\", \"ais\", \"climatique\", \"dont\", \"imposer\", \"economique\", \"diesel\", \"plan\", \"ressources\", \"hydrogene\", \"solution\", \"changement\", \"politiques\", \"europe\", \"sens\", \"cette\", \"etre\", \"mise\", \"france\", \"donc\", \"meme\", \"prendre\", \"co\", \"exemple\", \"citoyens\", \"place\", \"environnement\", \"chaque\", \"produits\", \"interdire\", \"consommation\", \"agriculture\", \"limiter\", \"favoriser\", \"energies\", \"production\", \"arreter\", \"pesticides\", \"bio\", \"utilisation\", \"zones\", \"polluants\", \"gaz\", \"agriculteurs\", \"renouvelables\", \"b\", \"consommer\", \"encourager\", \"modes\", \"local\", \"terme\", \"serre\", \"agricoles\", \"produire\", \"isolation\", \"propres\", \"sols\", \"interdiction\", \"reduire\", \"energie\", \"supprimer\", \"aider\", \"biodiversite\", \"recherche\", \"vers\", \"notamment\", \"developpement\", \"developper\", \"creer\", \"environnement\", \"transports\", \"pollution\", \"transport\", \"taxer\", \"entreprises\", \"vehicules\", \"commun\", \"voiture\", \"villes\", \"dechets\", \"voitures\", \"changer\", \"pollueurs\", \"camions\", \"diminuer\", \"grandes\", \"inciter\", \"electriques\", \"polluantes\", \"deplacements\", \"emballages\", \"gros\", \"obliger\", \"mode\", \"recyclage\", \"velo\", \"vehicule\", \"ecologiques\", \"plastique\", \"train\", \"payer\", \"taxe\", \"particuliers\", \"electrique\", \"air\", \"developper\", \"mettre\", \"prix\", \"place\", \"exemple\", \"monde\", \"planete\", \"animaux\", \"nature\", \"o\", \"especes\", \"autre\", \"aides\", \"hui\", \"aujourd\", \"chasse\", \"terre\", \"circuits\", \"proteger\", \"toujours\", \"rien\", \"tva\", \"ameliorer\", \"poids\", \"courts\", \"part\", \"vivre\", \"dire\", \"depuis\", \"biologique\", \"routier\", \"comportements\", \"compris\", \"homme\", \"lourds\", \"quand\", \"protection\", \"autres\", \"population\", \"meme\", \"toutes\", \"eau\", \"vie\", \"ville\", \"travail\", \"mieux\", \"enfants\", \"qualite\", \"projets\", \"loi\", \"haies\", \"moteurs\", \"km\", \"arbres\", \"construire\", \"locale\", \"type\", \"davantage\", \"cours\", \"obligation\", \"controle\", \"vente\", \"laisser\", \"communes\", \"remettre\", \"travaux\", \"ecole\", \"surfaces\", \"jours\", \"centre\", \"h\", \"faciliter\", \"logements\", \"chaque\", \"ans\", \"personnes\", \"entre\", \"construction\"], \"Freq\": [13670.0, 12366.0, 9021.0, 8687.0, 8562.0, 8617.0, 8555.0, 8309.0, 14523.0, 7887.0, 7881.0, 7875.0, 5614.0, 7183.0, 6864.0, 4937.0, 6534.0, 6487.0, 6095.0, 7750.0, 6011.0, 10053.0, 7948.0, 5733.0, 7166.0, 5381.0, 7918.0, 5218.0, 4444.0, 5081.0, 7749.206358036991, 7165.650440592077, 5992.778376794106, 5740.546080502327, 5683.973718713264, 4775.8604717309745, 4454.806463231718, 4410.536976715388, 3880.431251531793, 3809.220353470372, 3613.1816539157526, 3507.749623199184, 3464.128230619547, 3324.8534913770945, 3230.906121599716, 3136.387024556774, 3149.899152429955, 3114.716617932894, 2899.951719664593, 2928.7675238787738, 2745.769967571589, 2617.117525453036, 2512.617747692748, 2420.692901471095, 2422.2996698685897, 2401.098372795941, 2331.2658249639007, 2307.6320448621573, 2293.7559820718698, 2156.4466618431147, 2161.8501152095673, 5385.35514723975, 13206.91483510137, 2487.950460610948, 7841.767536364293, 4618.720022515616, 4626.4555571939845, 3507.6016627738686, 3341.2770985871316, 4026.8080911893962, 2891.7467345123537, 3094.4041061800567, 3097.9493607027694, 2920.516173247634, 13670.159653682393, 8616.202885300683, 8554.419401262892, 7880.654382271337, 7886.525215477488, 7874.497748841932, 7182.561775621921, 6863.440751891641, 6486.909425733925, 6010.903554749918, 5080.646711547638, 4302.0475414988005, 3691.941479219618, 3654.641872229239, 3609.551166137449, 3441.262549157858, 3091.2777791716085, 3025.685654168889, 2928.202947014381, 2879.6300548975128, 2853.601542060873, 2639.1995215977577, 2594.047955151782, 2399.752248180224, 2371.2179928410583, 2297.582563429182, 2253.609496881654, 2244.2606161545104, 2229.8208885204576, 2208.6504925963213, 6763.358090406329, 6199.822858032729, 2599.7233049002884, 2645.2156893297033, 2930.7673588983416, 2886.41574094778, 2951.27632449319, 2829.279796997011, 2942.418951986448, 3428.356989332113, 2791.9655835216277, 2892.8326132516827, 12366.008718147148, 9020.949099359823, 8686.961323970856, 8561.256528112644, 8308.982333707047, 6533.8068355418645, 6094.216756087846, 5732.588533753071, 5380.34010034839, 5217.893045088622, 4824.336349056334, 4518.585711493458, 3515.739091115831, 3298.7655126034488, 3266.285878655076, 3172.6454294779587, 3071.4214945187714, 3047.3072750040164, 2898.2833682016417, 2534.901976999343, 2508.8697198115906, 2393.3163372346808, 2349.309306456986, 2297.7763022712247, 2222.7322395930646, 2153.4027501767705, 2063.448364903458, 2040.0458610169894, 1904.5994275422486, 1885.3440450911748, 1889.325219364082, 4983.663358026443, 2296.7846930894575, 3684.487585487187, 2914.6271867188166, 6624.746839124652, 4386.643219404846, 3095.966337933873, 3605.2245109061278, 3049.4738140596855, 4443.879005925326, 4190.929775286525, 4170.870182256849, 3685.190648666442, 3397.2623755534287, 3213.858014450998, 3052.609457652703, 2716.0281773611027, 2662.146319004362, 2659.867419056385, 2297.0883946438294, 2218.392329275044, 2188.5195293950082, 1959.3441220234067, 1947.9712812499724, 1879.436661244259, 1853.4116238383685, 1843.2475417315552, 1827.0588768531823, 1821.745649875301, 1785.6493814100645, 1725.158524865353, 1630.5152450093772, 1591.609902765292, 1578.7586962776725, 1506.4955322826956, 1429.1126594665768, 1447.2692768702725, 1314.1720087970978, 1330.3951396829482, 1910.1682862286561, 1600.9780649398617, 2604.3841155543846, 1695.6863216951806, 1994.3484019020013, 1643.5746600831528, 5613.899665683129, 4936.387390831802, 3376.338593108819, 2984.5080352043624, 2806.739112828722, 2270.3904168943122, 2084.319902198275, 1941.3775646463498, 1602.5305847594886, 1544.873219608484, 1551.7683348990988, 1516.299240895708, 1469.7316991763646, 1468.0357336705492, 1394.9084148345814, 1378.605930239398, 1295.5598220404083, 1274.4106334117828, 1265.4070243501021, 1274.1540609541269, 1228.2044492042303, 1219.2688282503768, 1161.5761035337794, 1124.472851395325, 1080.516024268924, 1045.0676285478312, 1044.1594195429584, 1021.240455908794, 983.3382356998188, 950.9748902076707, 955.960876432412, 1434.2039600397952, 1861.335294665898, 1512.8582952016902, 1350.2645197263346, 1222.1714748665677, 1125.3298896467381], \"Total\": [13670.0, 12366.0, 9021.0, 8687.0, 8562.0, 8617.0, 8555.0, 8309.0, 14523.0, 7887.0, 7881.0, 7875.0, 5614.0, 7183.0, 6864.0, 4937.0, 6534.0, 6487.0, 6095.0, 7750.0, 6011.0, 10053.0, 7948.0, 5733.0, 7166.0, 5381.0, 7918.0, 5218.0, 4444.0, 5081.0, 7750.022102293496, 7166.461703457282, 5993.589152706438, 5741.361095796937, 5684.786257379073, 4776.671693268597, 4455.619044664857, 4411.353295294674, 3881.247422416268, 3810.0335302148897, 3614.0091510594893, 3508.563832497849, 3464.9412434208703, 3325.669153737061, 3231.721863410843, 3137.2021236987985, 3150.718364240749, 3115.5288860642854, 2900.7627521381087, 2929.591852018382, 2746.590503016483, 2617.929035505479, 2513.4355012857013, 2421.5046684706917, 2423.1178171069714, 2401.916774578942, 2332.080303039827, 2308.4445169965143, 2294.5681396907576, 2157.2573640870382, 2162.6672971852677, 5551.789118839717, 14523.415962436566, 2501.68875196573, 8653.66993332658, 5362.302033430341, 7200.0374195279355, 4669.608134357275, 4357.532194509122, 7120.967731661888, 3632.7888338405724, 6700.24594051863, 6801.911076275511, 4782.466959750767, 13670.980423015983, 8617.027008991272, 8555.245757494042, 7881.473102221059, 7887.348406763353, 7875.321448512208, 7183.3820988532925, 6864.263072095854, 6487.733168300317, 6011.719758126164, 5081.464744675482, 4302.869333100806, 3692.7650181811923, 3655.466626769198, 3610.3766999681593, 3442.083869007722, 3092.0964321992037, 3026.5124413497474, 2929.0284443879787, 2880.453036102147, 2854.424798403139, 2640.0260677776146, 2594.879027539306, 2400.572222276039, 2372.037149690634, 2298.4048835377907, 2254.4352129320732, 2245.0861761360225, 2230.642505345675, 2209.4757986985546, 7948.354446246778, 7918.017718640511, 2805.9350239944547, 3085.80683750101, 3805.0051302758925, 3763.328785498117, 4191.714075358991, 3809.7001777750143, 4533.231559974726, 10053.725189882054, 4036.7949429351816, 6801.911076275511, 12366.83041509007, 9021.776458417651, 8687.783116093828, 8562.077364972929, 8309.806705199868, 6534.629220210185, 6095.037102806024, 5733.410993519252, 5381.1647629098325, 5218.718371634698, 4825.158502761566, 4519.413144177334, 3516.558923465973, 3299.583815454346, 3267.1132505061278, 3173.4694128198075, 3072.247399487032, 3048.1309481353014, 2899.104777217864, 2535.7251957901703, 2509.6899438660257, 2394.1373481941228, 2350.1352693713293, 2298.605179437444, 2223.556098569789, 2154.2224600322857, 2064.272752157184, 2040.877200981246, 1905.4209191850405, 1886.164046148371, 1890.1506454550001, 5283.556765045486, 2344.90877059566, 4416.625464423382, 3283.4849085117903, 10053.725189882054, 7292.7616218993235, 4017.6240957212017, 6700.24594051863, 7120.967731661888, 4444.689444909242, 4191.739221094325, 4171.676214602556, 3685.998778150069, 3398.078358183479, 3214.6664251111997, 3053.423524524461, 2716.8509122425976, 2662.9559975052207, 2660.6771349366545, 2297.8940584648994, 2219.2017144891265, 2189.343783110462, 1960.1567715595509, 1948.7818985780066, 1880.2474434597887, 1854.2378105597772, 1844.072878680714, 1827.878446701884, 1822.567538306811, 1786.463378483364, 1725.9721680210143, 1631.328461705225, 1592.4208565429014, 1579.583957221654, 1507.3281330329576, 1429.925260667195, 1448.0950260665363, 1314.975337064669, 1331.2118296147203, 2191.0678694020635, 1803.4293837594132, 7235.145334005963, 2622.4445312001135, 7200.0374195279355, 5016.68095181576, 5614.724633731629, 4937.221832588501, 3377.1707179429263, 2985.3364950016726, 2807.5719314200774, 2271.215439394081, 2085.152402170757, 1942.2151290040106, 1603.355602480781, 1545.6993556232158, 1552.607531200811, 1517.1244832967968, 1470.551481385562, 1468.8618990295029, 1395.7439957280515, 1379.438610837894, 1296.3962237222559, 1275.2366034452657, 1266.2308822018006, 1274.9878216919917, 1229.0367653423607, 1220.100892389725, 1162.403049709261, 1125.3042036834315, 1081.3406461655143, 1045.8937673336563, 1044.9912039504015, 1022.068238369692, 984.1687821099829, 951.7929525613117, 956.7960607663371, 1504.436315285443, 4782.466959750767, 3288.0328104525906, 2565.1710117312095, 2798.4861916620484, 1750.7263122293975], \"Category\": [\"Default\", \"Default\", \"Default\", \"Default\", \"Default\", \"Default\", \"Default\", \"Default\", \"Default\", \"Default\", \"Default\", \"Default\", \"Default\", \"Default\", \"Default\", \"Default\", \"Default\", \"Default\", \"Default\", \"Default\", \"Default\", \"Default\", \"Default\", \"Default\", \"Default\", \"Default\", \"Default\", \"Default\", \"Default\", \"Default\", \"Topic1\", \"Topic1\", \"Topic1\", \"Topic1\", \"Topic1\", \"Topic1\", \"Topic1\", \"Topic1\", \"Topic1\", \"Topic1\", \"Topic1\", \"Topic1\", \"Topic1\", \"Topic1\", \"Topic1\", \"Topic1\", \"Topic1\", \"Topic1\", \"Topic1\", \"Topic1\", \"Topic1\", \"Topic1\", \"Topic1\", \"Topic1\", \"Topic1\", \"Topic1\", \"Topic1\", \"Topic1\", \"Topic1\", \"Topic1\", \"Topic1\", \"Topic1\", \"Topic1\", \"Topic1\", \"Topic1\", \"Topic1\", \"Topic1\", \"Topic1\", \"Topic1\", \"Topic1\", \"Topic1\", \"Topic1\", \"Topic1\", \"Topic1\", \"Topic2\", \"Topic2\", \"Topic2\", \"Topic2\", \"Topic2\", \"Topic2\", \"Topic2\", \"Topic2\", \"Topic2\", \"Topic2\", \"Topic2\", \"Topic2\", \"Topic2\", \"Topic2\", \"Topic2\", \"Topic2\", \"Topic2\", \"Topic2\", \"Topic2\", \"Topic2\", \"Topic2\", \"Topic2\", \"Topic2\", \"Topic2\", \"Topic2\", \"Topic2\", \"Topic2\", \"Topic2\", \"Topic2\", \"Topic2\", \"Topic2\", \"Topic2\", \"Topic2\", \"Topic2\", \"Topic2\", \"Topic2\", \"Topic2\", \"Topic2\", \"Topic2\", \"Topic2\", \"Topic2\", \"Topic2\", \"Topic3\", \"Topic3\", \"Topic3\", \"Topic3\", \"Topic3\", \"Topic3\", \"Topic3\", \"Topic3\", \"Topic3\", \"Topic3\", \"Topic3\", \"Topic3\", \"Topic3\", \"Topic3\", \"Topic3\", \"Topic3\", \"Topic3\", \"Topic3\", \"Topic3\", \"Topic3\", \"Topic3\", \"Topic3\", \"Topic3\", \"Topic3\", \"Topic3\", \"Topic3\", \"Topic3\", \"Topic3\", \"Topic3\", \"Topic3\", \"Topic3\", \"Topic3\", \"Topic3\", \"Topic3\", \"Topic3\", \"Topic3\", \"Topic3\", \"Topic3\", \"Topic3\", \"Topic3\", \"Topic4\", \"Topic4\", \"Topic4\", \"Topic4\", \"Topic4\", \"Topic4\", \"Topic4\", \"Topic4\", \"Topic4\", \"Topic4\", \"Topic4\", \"Topic4\", \"Topic4\", \"Topic4\", \"Topic4\", \"Topic4\", \"Topic4\", \"Topic4\", \"Topic4\", \"Topic4\", \"Topic4\", \"Topic4\", \"Topic4\", \"Topic4\", \"Topic4\", \"Topic4\", \"Topic4\", \"Topic4\", \"Topic4\", \"Topic4\", \"Topic4\", \"Topic4\", \"Topic4\", \"Topic4\", \"Topic4\", \"Topic4\", \"Topic5\", \"Topic5\", \"Topic5\", \"Topic5\", \"Topic5\", \"Topic5\", \"Topic5\", \"Topic5\", \"Topic5\", \"Topic5\", \"Topic5\", \"Topic5\", \"Topic5\", \"Topic5\", \"Topic5\", \"Topic5\", \"Topic5\", \"Topic5\", \"Topic5\", \"Topic5\", \"Topic5\", \"Topic5\", \"Topic5\", \"Topic5\", \"Topic5\", \"Topic5\", \"Topic5\", \"Topic5\", \"Topic5\", \"Topic5\", \"Topic5\", \"Topic5\", \"Topic5\", \"Topic5\", \"Topic5\", \"Topic5\", \"Topic5\"], \"logprob\": [30.0, 29.0, 28.0, 27.0, 26.0, 25.0, 24.0, 23.0, 22.0, 21.0, 20.0, 19.0, 18.0, 17.0, 16.0, 15.0, 14.0, 13.0, 12.0, 11.0, 10.0, 9.0, 8.0, 7.0, 6.0, 5.0, 4.0, 3.0, 2.0, 1.0, -4.548399925231934, -4.626699924468994, -4.8053998947143555, -4.848400115966797, -4.85830020904541, -5.032400131225586, -5.1020002365112305, -5.111999988555908, -5.239999771118164, -5.258500099182129, -5.311399936676025, -5.341000080108643, -5.353499889373779, -5.394499778747559, -5.4232001304626465, -5.452899932861328, -5.448599815368652, -5.459799766540527, -5.531300067901611, -5.521399974822998, -5.585899829864502, -5.633900165557861, -5.674600124359131, -5.711900234222412, -5.71120023727417, -5.71999979019165, -5.749499797821045, -5.759699821472168, -5.7657999992370605, -5.827499866485596, -5.824999809265137, -4.912300109863281, -4.015200138092041, -5.684500217437744, -4.536499977111816, -5.065800189971924, -5.064199924468994, -5.341000080108643, -5.389599800109863, -5.203000068664551, -5.53410005569458, -5.466400146484375, -5.465199947357178, -5.524199962615967, -3.6440000534057617, -4.105500221252441, -4.11269998550415, -4.194799900054932, -4.193999767303467, -4.195499897003174, -4.287499904632568, -4.333000183105469, -4.389400005340576, -4.46560001373291, -4.633699893951416, -4.800099849700928, -4.953000068664551, -4.963200092315674, -4.975599765777588, -5.0233001708984375, -5.1305999755859375, -5.1519999504089355, -5.184800148010254, -5.201499938964844, -5.210599899291992, -5.288700103759766, -5.306000232696533, -5.383800029754639, -5.3958001136779785, -5.427299976348877, -5.446599960327148, -5.450799942016602, -5.457300186157227, -5.466800212860107, -4.347700119018555, -4.434700012207031, -5.303800106048584, -5.286399841308594, -5.183899879455566, -5.19920015335083, -5.1768999099731445, -5.219200134277344, -5.179900169372559, -5.027100086212158, -5.232399940490723, -5.196899890899658, -3.7284998893737793, -4.043900012969971, -4.081600189208984, -4.096199989318848, -4.126100063323975, -4.366399765014648, -4.436100006103516, -4.497200012207031, -4.560699939727783, -4.591300010681152, -4.6697001457214355, -4.735199928283691, -4.986199855804443, -5.049900054931641, -5.059800148010254, -5.088799953460693, -5.121300220489502, -5.129199981689453, -5.179299831390381, -5.313300132751465, -5.323599815368652, -5.370699882507324, -5.3892998695373535, -5.411499977111816, -5.444699764251709, -5.476399898529053, -5.519000053405762, -5.530399799346924, -5.599100112915039, -5.609300136566162, -5.6072001457214355, -4.637199878692627, -5.411900043487549, -4.939300060272217, -5.173699855804443, -4.35260009765625, -4.764800071716309, -5.11329984664917, -4.960999965667725, -5.128399848937988, -4.511000156402588, -4.5696001052856445, -4.574399948120117, -4.698200225830078, -4.779600143432617, -4.835100173950195, -4.886499881744385, -5.003399848937988, -5.023399829864502, -5.0243000984191895, -5.170899868011475, -5.2058000564575195, -5.219299793243408, -5.329899787902832, -5.3358001708984375, -5.371600151062012, -5.385499954223633, -5.390999794006348, -5.399799823760986, -5.402699947357178, -5.422800064086914, -5.457200050354004, -5.513599872589111, -5.537799835205078, -5.545899868011475, -5.592800140380859, -5.645500183105469, -5.632900238037109, -5.729300022125244, -5.717100143432617, -5.355299949645996, -5.531899929046631, -5.045300006866455, -5.4745001792907715, -5.31220006942749, -5.50570011138916, -4.006999969482422, -4.135700225830078, -4.515500068664551, -4.638899803161621, -4.700300216674805, -4.912300109863281, -4.997799873352051, -5.068900108337402, -5.260700225830078, -5.297299861907959, -5.292900085449219, -5.315999984741211, -5.3471999168396, -5.348400115966797, -5.399499893188477, -5.411200046539307, -5.473299980163574, -5.489799976348877, -5.4969000816345215, -5.489999771118164, -5.526700019836426, -5.533999919891357, -5.582499980926514, -5.614999771118164, -5.654900074005127, -5.688199996948242, -5.6890997886657715, -5.711299896240234, -5.749100208282471, -5.782599925994873, -5.777299880981445, -5.371699810028076, -5.111000061035156, -5.318299770355225, -5.432000160217285, -5.531700134277344, -5.614200115203857], \"loglift\": [30.0, 29.0, 28.0, 27.0, 26.0, 25.0, 24.0, 23.0, 22.0, 21.0, 20.0, 19.0, 18.0, 17.0, 16.0, 15.0, 14.0, 13.0, 12.0, 11.0, 10.0, 9.0, 8.0, 7.0, 6.0, 5.0, 4.0, 3.0, 2.0, 1.0, 1.221, 1.221, 1.221, 1.221, 1.221, 1.221, 1.2209, 1.2209, 1.2209, 1.2209, 1.2209, 1.2209, 1.2209, 1.2209, 1.2209, 1.2209, 1.2209, 1.2209, 1.2209, 1.2208, 1.2208, 1.2208, 1.2208, 1.2208, 1.2208, 1.2208, 1.2208, 1.2208, 1.2208, 1.2208, 1.2208, 1.1907, 1.1261, 1.2156, 1.1226, 1.0719, 0.7788, 0.935, 0.9556, 0.6511, 0.993, 0.4486, 0.4347, 0.7279, 1.5579, 1.5578, 1.5578, 1.5578, 1.5578, 1.5578, 1.5578, 1.5578, 1.5578, 1.5578, 1.5577, 1.5577, 1.5577, 1.5577, 1.5577, 1.5577, 1.5576, 1.5576, 1.5576, 1.5576, 1.5576, 1.5576, 1.5576, 1.5576, 1.5576, 1.5576, 1.5575, 1.5575, 1.5575, 1.5575, 1.3965, 1.3133, 1.4816, 1.4038, 1.2969, 1.2926, 1.207, 1.2604, 1.1257, 0.482, 1.1892, 0.7029, 1.5736, 1.5736, 1.5736, 1.5736, 1.5736, 1.5735, 1.5735, 1.5735, 1.5735, 1.5735, 1.5735, 1.5735, 1.5734, 1.5734, 1.5734, 1.5734, 1.5734, 1.5734, 1.5734, 1.5733, 1.5733, 1.5733, 1.5733, 1.5733, 1.5733, 1.5733, 1.5733, 1.5733, 1.5732, 1.5732, 1.5732, 1.5152, 1.5529, 1.3924, 1.4545, 1.1565, 1.0654, 1.3131, 0.9539, 0.7256, 1.8144, 1.8144, 1.8144, 1.8143, 1.8143, 1.8143, 1.8143, 1.8142, 1.8142, 1.8142, 1.8142, 1.8142, 1.8142, 1.8141, 1.8141, 1.8141, 1.8141, 1.8141, 1.8141, 1.8141, 1.8141, 1.8141, 1.814, 1.814, 1.814, 1.814, 1.814, 1.814, 1.8139, 1.8139, 1.6773, 1.6955, 0.7928, 1.3785, 0.5308, 0.6986, 2.0846, 2.0846, 2.0845, 2.0845, 2.0845, 2.0844, 2.0844, 2.0844, 2.0843, 2.0843, 2.0843, 2.0842, 2.0842, 2.0842, 2.0842, 2.0842, 2.0841, 2.0841, 2.0841, 2.0841, 2.0841, 2.0841, 2.0841, 2.0841, 2.084, 2.084, 2.084, 2.084, 2.0839, 2.0839, 2.0839, 2.037, 1.1411, 1.3085, 1.4431, 1.2563, 1.6428]}, \"token.table\": {\"Topic\": [2, 2, 2, 2, 3, 4, 2, 3, 1, 4, 4, 1, 5, 5, 2, 4, 4, 1, 2, 3, 4, 2, 2, 2, 4, 4, 3, 5, 1, 4, 1, 3, 1, 5, 4, 4, 1, 3, 1, 1, 2, 3, 5, 4, 4, 2, 2, 2, 5, 5, 5, 5, 4, 1, 2, 3, 5, 3, 3, 4, 1, 2, 2, 3, 1, 3, 4, 1, 1, 4, 1, 5, 5, 1, 1, 3, 1, 1, 1, 1, 3, 3, 3, 2, 1, 1, 2, 2, 5, 1, 4, 5, 3, 1, 2, 4, 4, 1, 1, 4, 1, 1, 3, 5, 5, 2, 1, 1, 3, 2, 3, 3, 5, 5, 4, 4, 1, 1, 1, 3, 2, 2, 2, 5, 5, 5, 2, 2, 5, 3, 5, 5, 4, 1, 4, 5, 1, 1, 2, 3, 5, 1, 3, 3, 2, 4, 5, 4, 1, 2, 3, 4, 5, 3, 4, 2, 3, 3, 1, 3, 5, 2, 1, 3, 1, 4, 3, 4, 1, 1, 3, 2, 3, 3, 1, 4, 1, 3, 1, 3, 1, 2, 2, 2, 5, 2, 2, 4, 4, 5, 3, 4, 1, 2, 3, 2, 3, 5, 1, 2, 1, 4, 4, 1, 2, 2, 1, 1, 2, 3, 5, 1, 3, 3, 2, 4, 4, 1, 2, 3, 4, 3, 1, 3, 3, 5, 5, 4, 5, 2, 3, 3, 3, 5, 1, 2, 5, 5, 3, 4, 3, 3, 2], \"Freq\": [0.9995627599294685, 0.9996851125513003, 0.9999399728686601, 0.8571502168755352, 0.14258831585075066, 0.9996868020108268, 0.11207604428028045, 0.8877762746658084, 0.999830241964165, 0.999418201583507, 0.9998379033827725, 0.5398364622023571, 0.46015355904910776, 0.9996249832851534, 0.9998869916068838, 0.999745502779062, 0.9998612951917547, 0.28168058911286553, 0.27020880849639456, 0.08804246087580733, 0.3599098400637399, 0.999830682556349, 0.9999085411984864, 0.7703011953067931, 0.22969745639649852, 0.9996303094754894, 0.9998230639113903, 0.9988124170048586, 0.969957591099106, 0.029900271146230565, 0.9998074387349397, 0.9999085845519863, 0.6107726461224156, 0.38912971394516105, 0.9996109226786997, 0.9998429743592057, 0.7960826054793246, 0.20370025174782164, 0.9997370511816085, 0.7667183742692613, 0.23315949364189445, 0.9998298447099613, 0.9996532616553597, 0.9993529307491474, 0.999243816153757, 0.9998543867085349, 0.9996488786614725, 0.35699469165121356, 0.6425904449721844, 0.9994132198336193, 0.9992252304883346, 0.9990302948943555, 0.9996886050613311, 0.15556896222808306, 0.6916378065936432, 0.1528440281763173, 0.9996943652603999, 0.9998623471159888, 0.9997140085245143, 0.9997357127412818, 0.3507431683037309, 0.6489851579557083, 0.3409681421817554, 0.6589597263576807, 0.9998267306698427, 0.9996592556116763, 0.9997986538499539, 0.9998392982072531, 0.8613837809216353, 0.13855989374859817, 0.9997979745820312, 0.99987094046834, 0.9991454511332113, 0.9996786027066805, 0.9999355744192341, 0.9995701843399376, 0.9997766319499781, 0.999645125787262, 0.9997719998560004, 0.16573739518924027, 0.8341209889032257, 0.9996289699640387, 0.9997250880063046, 0.9998427205385858, 0.9997283522707182, 0.21697349779295177, 0.7830242644448784, 0.9999468079453335, 0.9994648506817102, 0.36841346692072796, 0.19474814691735862, 0.43666465235415086, 0.9999029213038899, 0.4554602324640146, 0.42532164380839066, 0.1192311970717611, 0.9997926922974048, 0.9999371062382401, 0.9093590677398933, 0.0906122914473915, 0.99941714692555, 0.565513024598439, 0.4281721410480856, 0.006178935456253121, 0.999167993265253, 0.9998322038635695, 0.9998610642744248, 0.9062051199571736, 0.09371746394864419, 0.9998956618659315, 0.9998520821351196, 0.9995249444669577, 0.9991668854458547, 0.9995475474446751, 0.9992582848992086, 0.9996410013886387, 0.9996183154268105, 0.9997987912488802, 0.9997850050759898, 0.9995939781779162, 0.9997846553925438, 0.999880816319805, 0.9998069525664004, 0.9989548267624518, 0.9992588061763045, 0.9990977038074542, 0.9999558271366517, 0.9996113418006973, 0.9994669540185531, 0.0465290549615047, 0.9531809259256822, 0.9997782135914012, 0.9990896793524806, 0.6424966608442015, 0.27694300512826153, 0.08041624873082419, 0.9996168166246868, 0.3292305609976437, 0.0692467443997543, 0.6015553815479645, 0.9997962896645045, 0.994528195422003, 0.005196489767076382, 0.9997367188402525, 0.9998511789824077, 0.9998448834462367, 0.9996087026575601, 0.9997290345954563, 0.9998616909513437, 0.7425781211087917, 0.2572380907340459, 0.9996826564693889, 0.9990279164573366, 0.9995169344564439, 0.9997406168584562, 0.02046987951169073, 0.9795690257990335, 0.9993912414030242, 0.9998681162092179, 0.4732627939611258, 0.5262807016865896, 0.9998802741719304, 0.4617740941850427, 0.5380399513694503, 0.9997915888921204, 0.9998236481194714, 0.9997790938575292, 0.9995194173313499, 0.9998593804825349, 0.9997523979868237, 0.9996189247016715, 0.9998723482343456, 0.9998410595476609, 0.9999139350857085, 0.35310565732966454, 0.6467248324310054, 0.7512407677615204, 0.24862899982073122, 0.2292399632362001, 0.770604697263057, 0.9997287346143562, 0.9998159930523367, 0.999823841508217, 0.9999282843669111, 0.999374359211879, 0.9995161984659796, 0.11200882153695009, 0.8877530855478074, 0.9994098576316268, 0.9994473295239441, 0.1277915686274069, 0.8717210574226685, 0.23277264622098437, 0.7668742659746128, 0.9997499057612503, 0.8508679432625826, 0.1489616508683865, 0.9988410212286042, 0.9997207668776397, 0.9996454081484051, 0.9995386864398091, 0.9993365535668576, 0.9991188826083375, 0.9996914471374603, 0.9997616308850327, 0.9997119639995493, 0.9995367642193029, 0.9999199122647803, 0.9266073439928445, 0.07341581263943306, 0.9990514714892772, 0.0565906667224812, 0.9433039563372786, 0.9998741701427113, 0.9996612452719463, 0.9994584924474055, 0.9995987757385385, 0.24817205079573162, 0.2595341446875844, 0.1646506939415858, 0.32770670803870106, 0.9993828499961347, 0.9999017028542619, 0.99990986007784, 0.9999328514209223, 0.9998872840625384, 0.9996849779329741, 0.9993324423907614, 0.9996820367108417, 0.9997979643271715, 0.9993834379900359, 0.9999037098833031, 0.9994325284157202, 0.9991564407415657, 0.2958217038918149, 0.7040079420844723, 0.99975252629314, 0.9996533435704904, 0.999783548179409, 0.9994367417742727, 0.9999283160548378, 0.9997599036879509, 0.9997928332354141], \"Term\": [\"agricoles\", \"agriculteurs\", \"agriculture\", \"aider\", \"aider\", \"aides\", \"air\", \"air\", \"ais\", \"ameliorer\", \"animaux\", \"ans\", \"ans\", \"arbres\", \"arreter\", \"aujourd\", \"autre\", \"autres\", \"autres\", \"autres\", \"autres\", \"b\", \"bio\", \"biodiversite\", \"biodiversite\", \"biologique\", \"camions\", \"centre\", \"cette\", \"cette\", \"changement\", \"changer\", \"chaque\", \"chaque\", \"chasse\", \"circuits\", \"citoyens\", \"citoyens\", \"climatique\", \"co\", \"co\", \"commun\", \"communes\", \"comportements\", \"compris\", \"consommation\", \"consommer\", \"construction\", \"construction\", \"construire\", \"controle\", \"cours\", \"courts\", \"creer\", \"creer\", \"creer\", \"davantage\", \"dechets\", \"deplacements\", \"depuis\", \"developpement\", \"developpement\", \"developper\", \"developper\", \"diesel\", \"diminuer\", \"dire\", \"doivent\", \"donc\", \"donc\", \"dont\", \"eau\", \"ecole\", \"ecologie\", \"ecologique\", \"ecologiques\", \"economie\", \"economique\", \"electricite\", \"electrique\", \"electrique\", \"electriques\", \"emballages\", \"encourager\", \"energetique\", \"energie\", \"energie\", \"energies\", \"enfants\", \"entre\", \"entre\", \"entre\", \"entreprises\", \"environnement\", \"environnement\", \"environnement\", \"especes\", \"etat\", \"etre\", \"etre\", \"europe\", \"exemple\", \"exemple\", \"exemple\", \"faciliter\", \"favoriser\", \"fran\", \"france\", \"france\", \"gaz\", \"grandes\", \"gros\", \"h\", \"haies\", \"homme\", \"hui\", \"hydrogene\", \"impact\", \"imposer\", \"inciter\", \"interdiction\", \"interdire\", \"isolation\", \"jours\", \"km\", \"laisser\", \"limiter\", \"local\", \"locale\", \"logements\", \"logements\", \"loi\", \"lourds\", \"meme\", \"meme\", \"meme\", \"mesures\", \"mettre\", \"mettre\", \"mettre\", \"mieux\", \"mise\", \"mise\", \"mode\", \"modes\", \"monde\", \"moteurs\", \"nature\", \"niveau\", \"notamment\", \"notamment\", \"o\", \"obligation\", \"obliger\", \"part\", \"particuliers\", \"particuliers\", \"payer\", \"pays\", \"personnes\", \"personnes\", \"pesticides\", \"place\", \"place\", \"plan\", \"planete\", \"plastique\", \"poids\", \"politique\", \"politiques\", \"polluantes\", \"polluants\", \"pollueurs\", \"pollution\", \"population\", \"population\", \"prendre\", \"prendre\", \"prix\", \"prix\", \"probleme\", \"production\", \"produire\", \"produits\", \"projets\", \"propres\", \"protection\", \"protection\", \"proteger\", \"qualite\", \"quand\", \"quand\", \"recherche\", \"recherche\", \"recyclage\", \"reduire\", \"reduire\", \"remettre\", \"rendre\", \"renouvelables\", \"ressources\", \"rien\", \"routier\", \"sens\", \"serre\", \"sols\", \"solution\", \"solutions\", \"supprimer\", \"supprimer\", \"surfaces\", \"taxe\", \"taxe\", \"taxer\", \"terme\", \"terre\", \"toujours\", \"toutes\", \"toutes\", \"toutes\", \"toutes\", \"train\", \"transition\", \"transport\", \"transports\", \"travail\", \"travaux\", \"tva\", \"type\", \"utilisation\", \"vehicule\", \"vehicules\", \"velo\", \"vente\", \"vers\", \"vers\", \"vie\", \"ville\", \"villes\", \"vivre\", \"voiture\", \"voitures\", \"zones\"]}, \"R\": 30, \"lambda.step\": 0.01, \"plot.opts\": {\"xlab\": \"PC1\", \"ylab\": \"PC2\"}, \"topic.order\": [3, 4, 5, 1, 2]};\n",
              "\n",
              "function LDAvis_load_lib(url, callback){\n",
              "  var s = document.createElement('script');\n",
              "  s.src = url;\n",
              "  s.async = true;\n",
              "  s.onreadystatechange = s.onload = callback;\n",
              "  s.onerror = function(){console.warn(\"failed to load library \" + url);};\n",
              "  document.getElementsByTagName(\"head\")[0].appendChild(s);\n",
              "}\n",
              "\n",
              "if(typeof(LDAvis) !== \"undefined\"){\n",
              "   // already loaded: just create the visualization\n",
              "   !function(LDAvis){\n",
              "       new LDAvis(\"#\" + \"ldavis_el561404308894664009460118409\", ldavis_el561404308894664009460118409_data);\n",
              "   }(LDAvis);\n",
              "}else if(typeof define === \"function\" && define.amd){\n",
              "   // require.js is available: use it to load d3/LDAvis\n",
              "   require.config({paths: {d3: \"https://cdnjs.cloudflare.com/ajax/libs/d3/3.5.5/d3.min\"}});\n",
              "   require([\"d3\"], function(d3){\n",
              "      window.d3 = d3;\n",
              "      LDAvis_load_lib(\"https://cdn.rawgit.com/bmabey/pyLDAvis/files/ldavis.v1.0.0.js\", function(){\n",
              "        new LDAvis(\"#\" + \"ldavis_el561404308894664009460118409\", ldavis_el561404308894664009460118409_data);\n",
              "      });\n",
              "    });\n",
              "}else{\n",
              "    // require.js not available: dynamically load d3 & LDAvis\n",
              "    LDAvis_load_lib(\"https://cdnjs.cloudflare.com/ajax/libs/d3/3.5.5/d3.min.js\", function(){\n",
              "         LDAvis_load_lib(\"https://cdn.rawgit.com/bmabey/pyLDAvis/files/ldavis.v1.0.0.js\", function(){\n",
              "                 new LDAvis(\"#\" + \"ldavis_el561404308894664009460118409\", ldavis_el561404308894664009460118409_data);\n",
              "            })\n",
              "         });\n",
              "}\n",
              "</script>"
            ],
            "text/plain": [
              "PreparedData(topic_coordinates=              x         y  topics  cluster       Freq\n",
              "topic                                                \n",
              "2     -0.025462  0.176311       1        1  29.489643\n",
              "3     -0.286922 -0.223465       2        1  21.057564\n",
              "4     -0.110789  0.110920       3        1  20.728302\n",
              "0      0.131593  0.179678       4        1  16.291218\n",
              "1      0.291581 -0.243443       5        1  12.433273, topic_info=              Term          Freq         Total Category  logprob  loglift\n",
              "458       produits  13670.000000  13670.000000  Default  30.0000  30.0000\n",
              "241     transports  12366.000000  12366.000000  Default  29.0000  29.0000\n",
              "377      pollution   9021.000000   9021.000000  Default  28.0000  28.0000\n",
              "240      transport   8687.000000   8687.000000  Default  27.0000  27.0000\n",
              "105          taxer   8562.000000   8562.000000  Default  26.0000  26.0000\n",
              "...            ...           ...           ...      ...      ...      ...\n",
              "16          chaque   1861.335295   4782.466960   Topic5  -5.1110   1.1411\n",
              "120            ans   1512.858295   3288.032810   Topic5  -5.3183   1.3085\n",
              "616      personnes   1350.264520   2565.171012   Topic5  -5.4320   1.4431\n",
              "158          entre   1222.171475   2798.486192   Topic5  -5.5317   1.2563\n",
              "2428  construction   1125.329890   1750.726312   Topic5  -5.6142   1.6428\n",
              "\n",
              "[229 rows x 6 columns], token_table=      Topic      Freq          Term\n",
              "term                               \n",
              "1517      2  0.999563     agricoles\n",
              "259       2  0.999685  agriculteurs\n",
              "260       2  0.999940   agriculture\n",
              "1411      2  0.857150         aider\n",
              "1411      3  0.142588         aider\n",
              "...     ...       ...           ...\n",
              "520       3  0.999784        villes\n",
              "90        4  0.999437         vivre\n",
              "445       3  0.999928       voiture\n",
              "446       3  0.999760      voitures\n",
              "1682      2  0.999793         zones\n",
              "\n",
              "[243 rows x 3 columns], R=30, lambda_step=0.01, plot_opts={'xlab': 'PC1', 'ylab': 'PC2'}, topic_order=[3, 4, 5, 1, 2])"
            ]
          },
          "metadata": {
            "tags": []
          },
          "execution_count": 13
        }
      ]
    },
    {
      "cell_type": "markdown",
      "metadata": {
        "id": "8QpOy4txEijP"
      },
      "source": [
        "Après avoir construit des sujets en utilisant différentes colonnes, la colonne \"probleme\" a donné les meilleurs résultats et les sujets les plus compréhensibles. De plus, elle présentait le meilleur facteur de cohérence."
      ]
    },
    {
      "cell_type": "markdown",
      "metadata": {
        "id": "B6Me0zUGx9km"
      },
      "source": [
        "### NOTE : ce qui serais interessant c'est de faire une comparaison lda avec la version clean et version lemmetized ... à faire dans le future"
      ]
    }
  ]
}